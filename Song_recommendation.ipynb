{
 "cells": [
  {
   "cell_type": "markdown",
   "id": "47b12274-6432-4552-8f08-5ae89675f691",
   "metadata": {},
   "source": [
    "# Mood-based Song Recommendation System"
   ]
  },
  {
   "cell_type": "markdown",
   "id": "607546f7-7fa2-4777-9da8-64ecba7dd505",
   "metadata": {},
   "source": [
    "## Introduction"
   ]
  },
  {
   "cell_type": "markdown",
   "id": "7d708b33-e668-4cae-a468-408a99262f36",
   "metadata": {},
   "source": [
    "In this project, I aim to create a song recommendation system based on the user's emotion detected through their prompt, as well as the main topic of the prompt."
   ]
  },
  {
   "cell_type": "markdown",
   "id": "17322b53-e89c-4ad3-a07e-353c296f3a86",
   "metadata": {
    "jp-MarkdownHeadingCollapsed": true
   },
   "source": [
    "## 0. Import Modules"
   ]
  },
  {
   "cell_type": "code",
   "execution_count": 1,
   "id": "a83a2681-e5f1-4923-9509-00f04c520ec2",
   "metadata": {},
   "outputs": [],
   "source": [
    "## Import modules\n",
    "\n",
    "# Key standard libraries\n",
    "import pandas as pd\n",
    "import numpy as np\n",
    "import matplotlib.pyplot as plt\n",
    "from matplotlib.colors import LinearSegmentedColormap\n",
    "import seaborn as sns\n",
    "\n",
    "# To count an iterable object\n",
    "from collections import Counter\n",
    "\n",
    "# For Wordcloud visualisation\n",
    "from wordcloud import WordCloud   \n",
    "\n",
    "# For language detection library\n",
    "from langdetect import detect, LangDetectException, DetectorFactory\n",
    "\n",
    "# Functionalities from Natural Language Tokeniser: NLTK\n",
    "import nltk \n",
    "from nltk.corpus import stopwords # A pre-defined list of stopwords\n",
    "from nltk.tokenize import word_tokenize, WhitespaceTokenizer # Tokenisers to use\n",
    "from nltk.stem import WordNetLemmatizer, SnowballStemmer\n",
    "from word2number import w2n\n",
    "\n",
    "# For data cleaning and NLP\n",
    "import re\n",
    "import string\n",
    "\n",
    "## Modelling from gensim for topic modelling\n",
    "import gensim\n",
    "import pyLDAvis\n",
    "import pyLDAvis.gensim_models as gensimvis\n",
    "from gensim.models.coherencemodel import CoherenceModel\n",
    "from gensim import corpora, models, similarities\n",
    "from gensim.models import Phrases\n",
    "from gensim.models.phrases import Phraser\n",
    "\n",
    "# To calculate cosine similarity\n",
    "from sklearn.metrics.pairwise import cosine_similarity\n",
    "\n",
    "# Pipeline to use Hugging Face transformer model\n",
    "from transformers import pipeline, AutoTokenizer"
   ]
  },
  {
   "cell_type": "markdown",
   "id": "418ad07f-b1f6-4bec-8983-ef33934c0ac4",
   "metadata": {},
   "source": [
    "## 1. Data Exploration"
   ]
  },
  {
   "cell_type": "markdown",
   "id": "fe307efe-2d48-4519-8cd7-b67d62989523",
   "metadata": {
    "jp-MarkdownHeadingCollapsed": true
   },
   "source": [
    "### 1.1 Load the Dataset"
   ]
  },
  {
   "cell_type": "markdown",
   "id": "9b86bbc8-c99c-4e6f-a891-c044667df42f",
   "metadata": {},
   "source": [
    "For this project, I will be using an existing dataset on Kaggle which contains a variety of features including song metadata, audio features and lyrics. Source: [Kaggle - 960K Spotify Songs With Lyrics data](https://www.kaggle.com/datasets/bwandowando/spotify-songs-with-attributes-and-lyrics). \n",
    "\n",
    "From this dataset, only the song title, artist title and lyrics will be used which do not use Spotify's API features e.g., audio features. This information can be gathered without it so it does not go against Spotify's TOS."
   ]
  },
  {
   "cell_type": "code",
   "execution_count": 22,
   "id": "7f24e543-a1b8-4421-90b5-60feb13bbd0c",
   "metadata": {},
   "outputs": [],
   "source": [
    "## Load the dataset into a dataframe\n",
    "data = pd.read_csv(\"Data/songs_with_attributes_and_lyrics.csv\")"
   ]
  },
  {
   "cell_type": "code",
   "execution_count": 20,
   "id": "30319693-2cd7-4a1e-8cf0-dc098537d4f5",
   "metadata": {},
   "outputs": [
    {
     "data": {
      "text/plain": [
       "Index(['id', 'name', 'album_name', 'artists', 'danceability', 'energy', 'key',\n",
       "       'loudness', 'mode', 'speechiness', 'acousticness', 'instrumentalness',\n",
       "       'liveness', 'valence', 'tempo', 'duration_ms', 'lyrics'],\n",
       "      dtype='object')"
      ]
     },
     "execution_count": 20,
     "metadata": {},
     "output_type": "execute_result"
    }
   ],
   "source": [
    "## Display column names\n",
    "data.columns"
   ]
  },
  {
   "cell_type": "code",
   "execution_count": 24,
   "id": "0801d074-4e59-4167-8488-aab6bafff40c",
   "metadata": {},
   "outputs": [],
   "source": [
    "## Remove the unnecessary columns\n",
    "cols_to_keep = ['name', 'album_name', 'artists', 'lyrics']\n",
    "lyrics = data[cols_to_keep]"
   ]
  },
  {
   "cell_type": "code",
   "execution_count": 26,
   "id": "85b30673-edc2-45d8-9b18-f0580eb18d9b",
   "metadata": {},
   "outputs": [
    {
     "name": "stdout",
     "output_type": "stream",
     "text": [
      "<class 'pandas.core.frame.DataFrame'>\n",
      "RangeIndex: 955320 entries, 0 to 955319\n",
      "Data columns (total 4 columns):\n",
      " #   Column      Non-Null Count   Dtype \n",
      "---  ------      --------------   ----- \n",
      " 0   name        955309 non-null  object\n",
      " 1   album_name  385557 non-null  object\n",
      " 2   artists     955318 non-null  object\n",
      " 3   lyrics      955307 non-null  object\n",
      "dtypes: object(4)\n",
      "memory usage: 29.2+ MB\n"
     ]
    }
   ],
   "source": [
    "## Display overview\n",
    "lyrics.info() # 955,320 records"
   ]
  },
  {
   "cell_type": "markdown",
   "id": "76405c2e-284f-462a-a651-5de9b3df78ea",
   "metadata": {},
   "source": [
    "Here, I will subset this randomly due to the large dataset meaning that processing the data is too slow.\n",
    "\n",
    "A potential limitation of this is that the subset might not have a variety of genres/emotions needed."
   ]
  },
  {
   "cell_type": "code",
   "execution_count": 30,
   "id": "64031b68-363d-4ece-8413-d2404df04020",
   "metadata": {},
   "outputs": [],
   "source": [
    "## Take a random subset of 100,000 songs\n",
    "subset = lyrics.sample(n=100000, random_state=0)"
   ]
  },
  {
   "cell_type": "code",
   "execution_count": 34,
   "id": "ac3f955f-4773-46d4-952a-ae9442e08b16",
   "metadata": {},
   "outputs": [
    {
     "data": {
      "text/html": [
       "<div>\n",
       "<style scoped>\n",
       "    .dataframe tbody tr th:only-of-type {\n",
       "        vertical-align: middle;\n",
       "    }\n",
       "\n",
       "    .dataframe tbody tr th {\n",
       "        vertical-align: top;\n",
       "    }\n",
       "\n",
       "    .dataframe thead th {\n",
       "        text-align: right;\n",
       "    }\n",
       "</style>\n",
       "<table border=\"1\" class=\"dataframe\">\n",
       "  <thead>\n",
       "    <tr style=\"text-align: right;\">\n",
       "      <th></th>\n",
       "      <th>name</th>\n",
       "      <th>album_name</th>\n",
       "      <th>artists</th>\n",
       "      <th>lyrics</th>\n",
       "    </tr>\n",
       "  </thead>\n",
       "  <tbody>\n",
       "    <tr>\n",
       "      <th>930896</th>\n",
       "      <td>Быстрый</td>\n",
       "      <td>NaN</td>\n",
       "      <td>GSPD</td>\n",
       "      <td>В нашем селе из доступных развлечений\\n Есть т...</td>\n",
       "    </tr>\n",
       "    <tr>\n",
       "      <th>183560</th>\n",
       "      <td>Deixa Queimar - Ao Vivo</td>\n",
       "      <td>NaN</td>\n",
       "      <td>Alessandro Vilas Boas</td>\n",
       "      <td>Ouvi o meu Senhor bater na porta\\n E o meu cor...</td>\n",
       "    </tr>\n",
       "    <tr>\n",
       "      <th>493311</th>\n",
       "      <td>Marioneta</td>\n",
       "      <td>NaN</td>\n",
       "      <td>['Control Machete']</td>\n",
       "      <td>Agazapo un lamento, me salgo del\\n cuento, cue...</td>\n",
       "    </tr>\n",
       "    <tr>\n",
       "      <th>571324</th>\n",
       "      <td>Old Macdonald Had a Farm</td>\n",
       "      <td>NaN</td>\n",
       "      <td>['The Kiboomers']</td>\n",
       "      <td>What animals do you see on a farm?\\n What soun...</td>\n",
       "    </tr>\n",
       "    <tr>\n",
       "      <th>377135</th>\n",
       "      <td>INSTADRAMA</td>\n",
       "      <td>INSTADRAMA</td>\n",
       "      <td>['LOBODA']</td>\n",
       "      <td>Вот и мы расстаёмся с тобой\\n Закрывая на серд...</td>\n",
       "    </tr>\n",
       "  </tbody>\n",
       "</table>\n",
       "</div>"
      ],
      "text/plain": [
       "                            name  album_name                artists  \\\n",
       "930896                   Быстрый         NaN                   GSPD   \n",
       "183560   Deixa Queimar - Ao Vivo         NaN  Alessandro Vilas Boas   \n",
       "493311                 Marioneta         NaN    ['Control Machete']   \n",
       "571324  Old Macdonald Had a Farm         NaN      ['The Kiboomers']   \n",
       "377135                INSTADRAMA  INSTADRAMA             ['LOBODA']   \n",
       "\n",
       "                                                   lyrics  \n",
       "930896  В нашем селе из доступных развлечений\\n Есть т...  \n",
       "183560  Ouvi o meu Senhor bater na porta\\n E o meu cor...  \n",
       "493311  Agazapo un lamento, me salgo del\\n cuento, cue...  \n",
       "571324  What animals do you see on a farm?\\n What soun...  \n",
       "377135  Вот и мы расстаёмся с тобой\\n Закрывая на серд...  "
      ]
     },
     "execution_count": 34,
     "metadata": {},
     "output_type": "execute_result"
    }
   ],
   "source": [
    "## Display first few records\n",
    "subset.head()"
   ]
  },
  {
   "cell_type": "markdown",
   "id": "1a178afe-6287-468c-8230-ea0b93ef5acd",
   "metadata": {
    "jp-MarkdownHeadingCollapsed": true
   },
   "source": [
    "### 1.2 Data Cleaning"
   ]
  },
  {
   "cell_type": "markdown",
   "id": "054a63ff-81e7-4fca-9296-f378899c1385",
   "metadata": {},
   "source": [
    "These are the data cleaning steps needing to be taken:\n",
    "- Remove records with null values\n",
    "- Remove duplicated songs\n",
    "- Remove non-english songs\n",
    "- Clean up `artists` columns"
   ]
  },
  {
   "cell_type": "code",
   "execution_count": 173,
   "id": "9fde3264-5ebb-4867-9610-40316e726302",
   "metadata": {},
   "outputs": [],
   "source": [
    "## Remove records with key missing information(large dataset anyway)\n",
    "lyrics_no_null = subset.dropna(subset=['name', 'artists', 'lyrics' ])"
   ]
  },
  {
   "cell_type": "code",
   "execution_count": 175,
   "id": "4a23be47-4de4-4cf2-919f-7109899a6196",
   "metadata": {},
   "outputs": [
    {
     "data": {
      "text/plain": [
       "(99997, 4)"
      ]
     },
     "execution_count": 175,
     "metadata": {},
     "output_type": "execute_result"
    }
   ],
   "source": [
    "lyrics_no_null.shape # 99,997 records"
   ]
  },
  {
   "cell_type": "code",
   "execution_count": 177,
   "id": "f36a7e87-1ae1-439c-85c9-d97943f70baa",
   "metadata": {},
   "outputs": [
    {
     "name": "stdout",
     "output_type": "stream",
     "text": [
      "1124\n",
      "1019\n"
     ]
    }
   ],
   "source": [
    "## Remove duplicated records\n",
    "\n",
    "# Drop duplicate names and artists\n",
    "print(lyrics_no_null.duplicated(subset=['name', 'artists']).sum()) # 1,124 records\n",
    "lyrics_no_null_dup = lyrics_no_null.drop_duplicates(subset=['name', 'artists'])\n",
    "\n",
    "# Drop duplicates in lyrics\n",
    "print(lyrics_no_null_dup.duplicated(subset=['lyrics']).sum()) # 1,019\n",
    "lyrics_no_null_dup = lyrics_no_null_dup.drop_duplicates(subset=['lyrics'])"
   ]
  },
  {
   "cell_type": "code",
   "execution_count": 179,
   "id": "234055d6-7c98-4cb3-8143-092f3447a079",
   "metadata": {},
   "outputs": [
    {
     "name": "stdout",
     "output_type": "stream",
     "text": [
      "<class 'pandas.core.frame.DataFrame'>\n",
      "Index: 97854 entries, 930896 to 159133\n",
      "Data columns (total 4 columns):\n",
      " #   Column      Non-Null Count  Dtype \n",
      "---  ------      --------------  ----- \n",
      " 0   name        97854 non-null  object\n",
      " 1   album_name  39160 non-null  object\n",
      " 2   artists     97854 non-null  object\n",
      " 3   lyrics      97854 non-null  object\n",
      "dtypes: object(4)\n",
      "memory usage: 3.7+ MB\n"
     ]
    }
   ],
   "source": [
    "## Overview\n",
    "lyrics_no_null_dup.info() # 97,854 records"
   ]
  },
  {
   "cell_type": "code",
   "execution_count": 181,
   "id": "3851c663-4130-44fb-a731-faeb2248e549",
   "metadata": {},
   "outputs": [
    {
     "data": {
      "text/html": [
       "<div>\n",
       "<style scoped>\n",
       "    .dataframe tbody tr th:only-of-type {\n",
       "        vertical-align: middle;\n",
       "    }\n",
       "\n",
       "    .dataframe tbody tr th {\n",
       "        vertical-align: top;\n",
       "    }\n",
       "\n",
       "    .dataframe thead th {\n",
       "        text-align: right;\n",
       "    }\n",
       "</style>\n",
       "<table border=\"1\" class=\"dataframe\">\n",
       "  <thead>\n",
       "    <tr style=\"text-align: right;\">\n",
       "      <th></th>\n",
       "      <th>name</th>\n",
       "      <th>album_name</th>\n",
       "      <th>artists</th>\n",
       "      <th>lyrics</th>\n",
       "    </tr>\n",
       "  </thead>\n",
       "  <tbody>\n",
       "    <tr>\n",
       "      <th>930896</th>\n",
       "      <td>Быстрый</td>\n",
       "      <td>NaN</td>\n",
       "      <td>GSPD</td>\n",
       "      <td>В нашем селе из доступных развлечений\\n Есть т...</td>\n",
       "    </tr>\n",
       "    <tr>\n",
       "      <th>183560</th>\n",
       "      <td>Deixa Queimar - Ao Vivo</td>\n",
       "      <td>NaN</td>\n",
       "      <td>Alessandro Vilas Boas</td>\n",
       "      <td>Ouvi o meu Senhor bater na porta\\n E o meu cor...</td>\n",
       "    </tr>\n",
       "    <tr>\n",
       "      <th>493311</th>\n",
       "      <td>Marioneta</td>\n",
       "      <td>NaN</td>\n",
       "      <td>['Control Machete']</td>\n",
       "      <td>Agazapo un lamento, me salgo del\\n cuento, cue...</td>\n",
       "    </tr>\n",
       "    <tr>\n",
       "      <th>571324</th>\n",
       "      <td>Old Macdonald Had a Farm</td>\n",
       "      <td>NaN</td>\n",
       "      <td>['The Kiboomers']</td>\n",
       "      <td>What animals do you see on a farm?\\n What soun...</td>\n",
       "    </tr>\n",
       "    <tr>\n",
       "      <th>377135</th>\n",
       "      <td>INSTADRAMA</td>\n",
       "      <td>INSTADRAMA</td>\n",
       "      <td>['LOBODA']</td>\n",
       "      <td>Вот и мы расстаёмся с тобой\\n Закрывая на серд...</td>\n",
       "    </tr>\n",
       "    <tr>\n",
       "      <th>443735</th>\n",
       "      <td>Learn To Love</td>\n",
       "      <td>To See You</td>\n",
       "      <td>['Harry Connick, Jr.']</td>\n",
       "      <td>Lovers are dreamers and I've been walking in m...</td>\n",
       "    </tr>\n",
       "    <tr>\n",
       "      <th>657543</th>\n",
       "      <td>Run Around - Original Uncensored Version</td>\n",
       "      <td>Jefferson Airplane Takes Off</td>\n",
       "      <td>['Jefferson Airplane']</td>\n",
       "      <td>One time, run around,\\n Don't look and for me ...</td>\n",
       "    </tr>\n",
       "    <tr>\n",
       "      <th>417698</th>\n",
       "      <td>Kanave Nee Naan</td>\n",
       "      <td>Kannum Kannum Kollaiyadithaal</td>\n",
       "      <td>Sooraj Santhosh</td>\n",
       "      <td>கனவே நீ நான் விழிக்கவில்லை\\n கலைவாய் என்றே நின...</td>\n",
       "    </tr>\n",
       "    <tr>\n",
       "      <th>837572</th>\n",
       "      <td>Uh-Oh</td>\n",
       "      <td>Funny Farm</td>\n",
       "      <td>['King Kong']</td>\n",
       "      <td>What a day to be driving in Nevada\\n What a da...</td>\n",
       "    </tr>\n",
       "    <tr>\n",
       "      <th>184330</th>\n",
       "      <td>Deliver the Suffering</td>\n",
       "      <td>A Manifesto for Domination</td>\n",
       "      <td>['Halcyon Way']</td>\n",
       "      <td>The rage like a ten ton weight\\n Crushing down...</td>\n",
       "    </tr>\n",
       "  </tbody>\n",
       "</table>\n",
       "</div>"
      ],
      "text/plain": [
       "                                            name  \\\n",
       "930896                                   Быстрый   \n",
       "183560                   Deixa Queimar - Ao Vivo   \n",
       "493311                                 Marioneta   \n",
       "571324                  Old Macdonald Had a Farm   \n",
       "377135                                INSTADRAMA   \n",
       "443735                             Learn To Love   \n",
       "657543  Run Around - Original Uncensored Version   \n",
       "417698                           Kanave Nee Naan   \n",
       "837572                                     Uh-Oh   \n",
       "184330                     Deliver the Suffering   \n",
       "\n",
       "                           album_name                 artists  \\\n",
       "930896                            NaN                    GSPD   \n",
       "183560                            NaN   Alessandro Vilas Boas   \n",
       "493311                            NaN     ['Control Machete']   \n",
       "571324                            NaN       ['The Kiboomers']   \n",
       "377135                     INSTADRAMA              ['LOBODA']   \n",
       "443735                     To See You  ['Harry Connick, Jr.']   \n",
       "657543   Jefferson Airplane Takes Off  ['Jefferson Airplane']   \n",
       "417698  Kannum Kannum Kollaiyadithaal         Sooraj Santhosh   \n",
       "837572                     Funny Farm           ['King Kong']   \n",
       "184330     A Manifesto for Domination         ['Halcyon Way']   \n",
       "\n",
       "                                                   lyrics  \n",
       "930896  В нашем селе из доступных развлечений\\n Есть т...  \n",
       "183560  Ouvi o meu Senhor bater na porta\\n E o meu cor...  \n",
       "493311  Agazapo un lamento, me salgo del\\n cuento, cue...  \n",
       "571324  What animals do you see on a farm?\\n What soun...  \n",
       "377135  Вот и мы расстаёмся с тобой\\n Закрывая на серд...  \n",
       "443735  Lovers are dreamers and I've been walking in m...  \n",
       "657543  One time, run around,\\n Don't look and for me ...  \n",
       "417698  கனவே நீ நான் விழிக்கவில்லை\\n கலைவாய் என்றே நின...  \n",
       "837572  What a day to be driving in Nevada\\n What a da...  \n",
       "184330  The rage like a ten ton weight\\n Crushing down...  "
      ]
     },
     "execution_count": 181,
     "metadata": {},
     "output_type": "execute_result"
    }
   ],
   "source": [
    "## Display first few rows\n",
    "lyrics_no_null_dup.head(10)"
   ]
  },
  {
   "cell_type": "code",
   "execution_count": 183,
   "id": "7b656f20-007a-4b87-b116-a94d9c3f0450",
   "metadata": {},
   "outputs": [],
   "source": [
    "## Reset the index\n",
    "lyrics_no_null_dup = lyrics_no_null_dup.reset_index(drop = True)"
   ]
  },
  {
   "cell_type": "code",
   "execution_count": 187,
   "id": "bc3a7561-f7d3-4eed-83c8-0cb49028ce00",
   "metadata": {},
   "outputs": [
    {
     "data": {
      "text/html": [
       "<div>\n",
       "<style scoped>\n",
       "    .dataframe tbody tr th:only-of-type {\n",
       "        vertical-align: middle;\n",
       "    }\n",
       "\n",
       "    .dataframe tbody tr th {\n",
       "        vertical-align: top;\n",
       "    }\n",
       "\n",
       "    .dataframe thead th {\n",
       "        text-align: right;\n",
       "    }\n",
       "</style>\n",
       "<table border=\"1\" class=\"dataframe\">\n",
       "  <thead>\n",
       "    <tr style=\"text-align: right;\">\n",
       "      <th></th>\n",
       "      <th>name</th>\n",
       "      <th>album_name</th>\n",
       "      <th>artists</th>\n",
       "      <th>lyrics</th>\n",
       "    </tr>\n",
       "  </thead>\n",
       "  <tbody>\n",
       "    <tr>\n",
       "      <th>0</th>\n",
       "      <td>Быстрый</td>\n",
       "      <td>NaN</td>\n",
       "      <td>GSPD</td>\n",
       "      <td>В нашем селе из доступных развлечений\\n Есть т...</td>\n",
       "    </tr>\n",
       "    <tr>\n",
       "      <th>1</th>\n",
       "      <td>Deixa Queimar - Ao Vivo</td>\n",
       "      <td>NaN</td>\n",
       "      <td>Alessandro Vilas Boas</td>\n",
       "      <td>Ouvi o meu Senhor bater na porta\\n E o meu cor...</td>\n",
       "    </tr>\n",
       "    <tr>\n",
       "      <th>2</th>\n",
       "      <td>Marioneta</td>\n",
       "      <td>NaN</td>\n",
       "      <td>['Control Machete']</td>\n",
       "      <td>Agazapo un lamento, me salgo del\\n cuento, cue...</td>\n",
       "    </tr>\n",
       "    <tr>\n",
       "      <th>3</th>\n",
       "      <td>Old Macdonald Had a Farm</td>\n",
       "      <td>NaN</td>\n",
       "      <td>['The Kiboomers']</td>\n",
       "      <td>What animals do you see on a farm?\\n What soun...</td>\n",
       "    </tr>\n",
       "    <tr>\n",
       "      <th>4</th>\n",
       "      <td>INSTADRAMA</td>\n",
       "      <td>INSTADRAMA</td>\n",
       "      <td>['LOBODA']</td>\n",
       "      <td>Вот и мы расстаёмся с тобой\\n Закрывая на серд...</td>\n",
       "    </tr>\n",
       "  </tbody>\n",
       "</table>\n",
       "</div>"
      ],
      "text/plain": [
       "                       name  album_name                artists  \\\n",
       "0                   Быстрый         NaN                   GSPD   \n",
       "1   Deixa Queimar - Ao Vivo         NaN  Alessandro Vilas Boas   \n",
       "2                 Marioneta         NaN    ['Control Machete']   \n",
       "3  Old Macdonald Had a Farm         NaN      ['The Kiboomers']   \n",
       "4                INSTADRAMA  INSTADRAMA             ['LOBODA']   \n",
       "\n",
       "                                              lyrics  \n",
       "0  В нашем селе из доступных развлечений\\n Есть т...  \n",
       "1  Ouvi o meu Senhor bater na porta\\n E o meu cor...  \n",
       "2  Agazapo un lamento, me salgo del\\n cuento, cue...  \n",
       "3  What animals do you see on a farm?\\n What soun...  \n",
       "4  Вот и мы расстаёмся с тобой\\n Закрывая на серд...  "
      ]
     },
     "execution_count": 187,
     "metadata": {},
     "output_type": "execute_result"
    }
   ],
   "source": [
    "lyrics_no_null_dup.head()"
   ]
  },
  {
   "cell_type": "code",
   "execution_count": 189,
   "id": "1fc669d7-1dbe-4fd2-b153-742cba13ec72",
   "metadata": {},
   "outputs": [
    {
     "data": {
      "text/plain": [
       "20                                    ['lovelytheband']\n",
       "21                                        Austin Mahone\n",
       "22    ['Alceu Valença', 'Elba Ramalho', 'Geraldo Aze...\n",
       "23                                        The Dictators\n",
       "24                                        ['Big Stuff']\n",
       "25                                     ['Barrio Pobre']\n",
       "26                                     ['The Gap Band']\n",
       "27                                      ['Jack Harlow']\n",
       "28                                        Justin Quiles\n",
       "29                          ['Queens of the Stone Age']\n",
       "30                                        ['Afflicted']\n",
       "31                                 Companhia do Calypso\n",
       "32                                               Jungle\n",
       "33                                 ['Sasha Alex Sloan']\n",
       "34                                              OUTRAGE\n",
       "35                                  Mors Principium Est\n",
       "36                                   ['Little Brother']\n",
       "37                                       ['Quasarborn']\n",
       "38                                       ['Aquakultre']\n",
       "39                                              Erre XI\n",
       "Name: artists, dtype: object"
      ]
     },
     "execution_count": 189,
     "metadata": {},
     "output_type": "execute_result"
    }
   ],
   "source": [
    "## Observe the artists column\n",
    "lyrics_no_null_dup['artists'][20:40]"
   ]
  },
  {
   "cell_type": "code",
   "execution_count": 191,
   "id": "63826f60-18fe-4760-8779-690477c4d39d",
   "metadata": {},
   "outputs": [],
   "source": [
    "## Create a copy\n",
    "lyrics_cleaned = lyrics_no_null_dup.copy()"
   ]
  },
  {
   "cell_type": "code",
   "execution_count": 193,
   "id": "cf7ef7e4-3931-4c41-bf6e-65c9209717ba",
   "metadata": {},
   "outputs": [],
   "source": [
    "## Clean the artists column into a string\n",
    "\n",
    "def clean_artist_name(artist):\n",
    "    # Remove square brackets [ and ]\n",
    "    no_brackets = re.sub(r'[\\[\\]]', '', artist)\n",
    "    \n",
    "    # Split by both the comma and semicolon (with/without spaces)\n",
    "    split_artists = re.split(r'[;,]\\s*', no_brackets) # Create a list of each artist for that song\n",
    "    \n",
    "    # For each artist in the list, remove single quotes from the start and end of their name\n",
    "    cleaned_artists = [name.strip(\"'\") for name in split_artists]\n",
    "    \n",
    "    # Join the cleaned artist names into a single string\n",
    "    return ', '.join(cleaned_artists)\n",
    "\n",
    "# Apply the cleaning function to the 'artists' column\n",
    "lyrics_cleaned['artists'] = lyrics_cleaned['artists'].apply(clean_artist_name)"
   ]
  },
  {
   "cell_type": "code",
   "execution_count": 205,
   "id": "9968c87e-13ee-41e1-9c76-2513476dfd68",
   "metadata": {},
   "outputs": [
    {
     "data": {
      "text/html": [
       "<div>\n",
       "<style scoped>\n",
       "    .dataframe tbody tr th:only-of-type {\n",
       "        vertical-align: middle;\n",
       "    }\n",
       "\n",
       "    .dataframe tbody tr th {\n",
       "        vertical-align: top;\n",
       "    }\n",
       "\n",
       "    .dataframe thead th {\n",
       "        text-align: right;\n",
       "    }\n",
       "</style>\n",
       "<table border=\"1\" class=\"dataframe\">\n",
       "  <thead>\n",
       "    <tr style=\"text-align: right;\">\n",
       "      <th></th>\n",
       "      <th>name</th>\n",
       "      <th>album_name</th>\n",
       "      <th>artists</th>\n",
       "      <th>lyrics</th>\n",
       "    </tr>\n",
       "  </thead>\n",
       "  <tbody>\n",
       "    <tr>\n",
       "      <th>0</th>\n",
       "      <td>Быстрый</td>\n",
       "      <td>NaN</td>\n",
       "      <td>GSPD</td>\n",
       "      <td>В нашем селе из доступных развлечений\\n Есть т...</td>\n",
       "    </tr>\n",
       "    <tr>\n",
       "      <th>1</th>\n",
       "      <td>Deixa Queimar - Ao Vivo</td>\n",
       "      <td>NaN</td>\n",
       "      <td>Alessandro Vilas Boas</td>\n",
       "      <td>Ouvi o meu Senhor bater na porta\\n E o meu cor...</td>\n",
       "    </tr>\n",
       "    <tr>\n",
       "      <th>2</th>\n",
       "      <td>Marioneta</td>\n",
       "      <td>NaN</td>\n",
       "      <td>Control Machete</td>\n",
       "      <td>Agazapo un lamento, me salgo del\\n cuento, cue...</td>\n",
       "    </tr>\n",
       "    <tr>\n",
       "      <th>3</th>\n",
       "      <td>Old Macdonald Had a Farm</td>\n",
       "      <td>NaN</td>\n",
       "      <td>The Kiboomers</td>\n",
       "      <td>What animals do you see on a farm?\\n What soun...</td>\n",
       "    </tr>\n",
       "    <tr>\n",
       "      <th>4</th>\n",
       "      <td>INSTADRAMA</td>\n",
       "      <td>INSTADRAMA</td>\n",
       "      <td>LOBODA</td>\n",
       "      <td>Вот и мы расстаёмся с тобой\\n Закрывая на серд...</td>\n",
       "    </tr>\n",
       "    <tr>\n",
       "      <th>5</th>\n",
       "      <td>Learn To Love</td>\n",
       "      <td>To See You</td>\n",
       "      <td>Harry Connick, Jr.</td>\n",
       "      <td>Lovers are dreamers and I've been walking in m...</td>\n",
       "    </tr>\n",
       "    <tr>\n",
       "      <th>6</th>\n",
       "      <td>Run Around - Original Uncensored Version</td>\n",
       "      <td>Jefferson Airplane Takes Off</td>\n",
       "      <td>Jefferson Airplane</td>\n",
       "      <td>One time, run around,\\n Don't look and for me ...</td>\n",
       "    </tr>\n",
       "    <tr>\n",
       "      <th>7</th>\n",
       "      <td>Kanave Nee Naan</td>\n",
       "      <td>Kannum Kannum Kollaiyadithaal</td>\n",
       "      <td>Sooraj Santhosh</td>\n",
       "      <td>கனவே நீ நான் விழிக்கவில்லை\\n கலைவாய் என்றே நின...</td>\n",
       "    </tr>\n",
       "    <tr>\n",
       "      <th>8</th>\n",
       "      <td>Uh-Oh</td>\n",
       "      <td>Funny Farm</td>\n",
       "      <td>King Kong</td>\n",
       "      <td>What a day to be driving in Nevada\\n What a da...</td>\n",
       "    </tr>\n",
       "    <tr>\n",
       "      <th>9</th>\n",
       "      <td>Deliver the Suffering</td>\n",
       "      <td>A Manifesto for Domination</td>\n",
       "      <td>Halcyon Way</td>\n",
       "      <td>The rage like a ten ton weight\\n Crushing down...</td>\n",
       "    </tr>\n",
       "  </tbody>\n",
       "</table>\n",
       "</div>"
      ],
      "text/plain": [
       "                                       name                     album_name  \\\n",
       "0                                   Быстрый                            NaN   \n",
       "1                   Deixa Queimar - Ao Vivo                            NaN   \n",
       "2                                 Marioneta                            NaN   \n",
       "3                  Old Macdonald Had a Farm                            NaN   \n",
       "4                                INSTADRAMA                     INSTADRAMA   \n",
       "5                             Learn To Love                     To See You   \n",
       "6  Run Around - Original Uncensored Version   Jefferson Airplane Takes Off   \n",
       "7                           Kanave Nee Naan  Kannum Kannum Kollaiyadithaal   \n",
       "8                                     Uh-Oh                     Funny Farm   \n",
       "9                     Deliver the Suffering     A Manifesto for Domination   \n",
       "\n",
       "                 artists                                             lyrics  \n",
       "0                   GSPD  В нашем селе из доступных развлечений\\n Есть т...  \n",
       "1  Alessandro Vilas Boas  Ouvi o meu Senhor bater na porta\\n E o meu cor...  \n",
       "2        Control Machete  Agazapo un lamento, me salgo del\\n cuento, cue...  \n",
       "3          The Kiboomers  What animals do you see on a farm?\\n What soun...  \n",
       "4                 LOBODA  Вот и мы расстаёмся с тобой\\n Закрывая на серд...  \n",
       "5     Harry Connick, Jr.  Lovers are dreamers and I've been walking in m...  \n",
       "6     Jefferson Airplane  One time, run around,\\n Don't look and for me ...  \n",
       "7        Sooraj Santhosh  கனவே நீ நான் விழிக்கவில்லை\\n கலைவாய் என்றே நின...  \n",
       "8              King Kong  What a day to be driving in Nevada\\n What a da...  \n",
       "9            Halcyon Way  The rage like a ten ton weight\\n Crushing down...  "
      ]
     },
     "execution_count": 205,
     "metadata": {},
     "output_type": "execute_result"
    }
   ],
   "source": [
    "## Observe the difference\n",
    "lyrics_cleaned.head(10)"
   ]
  },
  {
   "cell_type": "code",
   "execution_count": 207,
   "id": "9d9f1a55-b359-48ba-bc89-dbb7fb9f039a",
   "metadata": {},
   "outputs": [],
   "source": [
    "## Remove non-english songs using a language detection library\n",
    "\n",
    "# Set the seed so the result is consistent each run (non-deterministic algorithm so can change for too short or ambiguous text)\n",
    "DetectorFactory.seed = 0"
   ]
  },
  {
   "cell_type": "code",
   "execution_count": 209,
   "id": "87cab161-c9c6-417c-b096-4dba8175bc01",
   "metadata": {
    "scrolled": true
   },
   "outputs": [
    {
     "name": "stdout",
     "output_type": "stream",
     "text": [
      "Lyrics: \n",
      "В нашем селе из доступных развлечений\n",
      " Есть только пиздилово и танцы под баян\n",
      " Пацаны из города объе\n",
      " Language detected: ru\n",
      "Lyrics: \n",
      "What animals do you see on a farm?\n",
      " What sounds do they make?\n",
      " A cow, moo\n",
      " Moo\n",
      " Old MacDonald had a \n",
      " Language detected: en\n"
     ]
    }
   ],
   "source": [
    "## Examples of detection using only first 100 characters of the lyrics\n",
    "\n",
    "print(f\"Lyrics: \\n{lyrics_cleaned['lyrics'].loc[0][:100]}\\n Language detected: {detect(lyrics_cleaned['lyrics'].loc[0][:100])}\")\n",
    "print(f\"Lyrics: \\n{lyrics_cleaned['lyrics'].loc[3][:100]}\\n Language detected: {detect(lyrics_cleaned['lyrics'].loc[3][:100])}\")"
   ]
  },
  {
   "cell_type": "code",
   "execution_count": 211,
   "id": "7453faa9-30ea-4644-9700-1abbddd6b1c2",
   "metadata": {},
   "outputs": [],
   "source": [
    "## Detect the language \n",
    "\n",
    "def detect_language(lyric):\n",
    "    # Detect the language based on first 100 characters of lyrics\n",
    "    try:\n",
    "        return detect(lyric[:100])\n",
    "    # Return NaN if there is any errors\n",
    "    except LangDetectException:\n",
    "        return np.nan\n",
    "    except Exception as e:\n",
    "        return np.nan\n",
    "\n",
    "# Apply the function\n",
    "lyrics_cleaned['language'] = lyrics_cleaned['lyrics'].apply(lambda x: detect_language(x))"
   ]
  },
  {
   "cell_type": "code",
   "execution_count": 213,
   "id": "17d2de65-d36f-4559-a2f7-c27da9fb63ed",
   "metadata": {},
   "outputs": [
    {
     "data": {
      "text/html": [
       "<div>\n",
       "<style scoped>\n",
       "    .dataframe tbody tr th:only-of-type {\n",
       "        vertical-align: middle;\n",
       "    }\n",
       "\n",
       "    .dataframe tbody tr th {\n",
       "        vertical-align: top;\n",
       "    }\n",
       "\n",
       "    .dataframe thead th {\n",
       "        text-align: right;\n",
       "    }\n",
       "</style>\n",
       "<table border=\"1\" class=\"dataframe\">\n",
       "  <thead>\n",
       "    <tr style=\"text-align: right;\">\n",
       "      <th></th>\n",
       "      <th>name</th>\n",
       "      <th>album_name</th>\n",
       "      <th>artists</th>\n",
       "      <th>lyrics</th>\n",
       "      <th>language</th>\n",
       "    </tr>\n",
       "  </thead>\n",
       "  <tbody>\n",
       "    <tr>\n",
       "      <th>0</th>\n",
       "      <td>Быстрый</td>\n",
       "      <td>NaN</td>\n",
       "      <td>GSPD</td>\n",
       "      <td>В нашем селе из доступных развлечений\\n Есть т...</td>\n",
       "      <td>ru</td>\n",
       "    </tr>\n",
       "    <tr>\n",
       "      <th>1</th>\n",
       "      <td>Deixa Queimar - Ao Vivo</td>\n",
       "      <td>NaN</td>\n",
       "      <td>Alessandro Vilas Boas</td>\n",
       "      <td>Ouvi o meu Senhor bater na porta\\n E o meu cor...</td>\n",
       "      <td>pt</td>\n",
       "    </tr>\n",
       "    <tr>\n",
       "      <th>2</th>\n",
       "      <td>Marioneta</td>\n",
       "      <td>NaN</td>\n",
       "      <td>Control Machete</td>\n",
       "      <td>Agazapo un lamento, me salgo del\\n cuento, cue...</td>\n",
       "      <td>es</td>\n",
       "    </tr>\n",
       "    <tr>\n",
       "      <th>3</th>\n",
       "      <td>Old Macdonald Had a Farm</td>\n",
       "      <td>NaN</td>\n",
       "      <td>The Kiboomers</td>\n",
       "      <td>What animals do you see on a farm?\\n What soun...</td>\n",
       "      <td>en</td>\n",
       "    </tr>\n",
       "    <tr>\n",
       "      <th>4</th>\n",
       "      <td>INSTADRAMA</td>\n",
       "      <td>INSTADRAMA</td>\n",
       "      <td>LOBODA</td>\n",
       "      <td>Вот и мы расстаёмся с тобой\\n Закрывая на серд...</td>\n",
       "      <td>ru</td>\n",
       "    </tr>\n",
       "    <tr>\n",
       "      <th>5</th>\n",
       "      <td>Learn To Love</td>\n",
       "      <td>To See You</td>\n",
       "      <td>Harry Connick, Jr.</td>\n",
       "      <td>Lovers are dreamers and I've been walking in m...</td>\n",
       "      <td>en</td>\n",
       "    </tr>\n",
       "    <tr>\n",
       "      <th>6</th>\n",
       "      <td>Run Around - Original Uncensored Version</td>\n",
       "      <td>Jefferson Airplane Takes Off</td>\n",
       "      <td>Jefferson Airplane</td>\n",
       "      <td>One time, run around,\\n Don't look and for me ...</td>\n",
       "      <td>en</td>\n",
       "    </tr>\n",
       "    <tr>\n",
       "      <th>7</th>\n",
       "      <td>Kanave Nee Naan</td>\n",
       "      <td>Kannum Kannum Kollaiyadithaal</td>\n",
       "      <td>Sooraj Santhosh</td>\n",
       "      <td>கனவே நீ நான் விழிக்கவில்லை\\n கலைவாய் என்றே நின...</td>\n",
       "      <td>ta</td>\n",
       "    </tr>\n",
       "    <tr>\n",
       "      <th>8</th>\n",
       "      <td>Uh-Oh</td>\n",
       "      <td>Funny Farm</td>\n",
       "      <td>King Kong</td>\n",
       "      <td>What a day to be driving in Nevada\\n What a da...</td>\n",
       "      <td>en</td>\n",
       "    </tr>\n",
       "    <tr>\n",
       "      <th>9</th>\n",
       "      <td>Deliver the Suffering</td>\n",
       "      <td>A Manifesto for Domination</td>\n",
       "      <td>Halcyon Way</td>\n",
       "      <td>The rage like a ten ton weight\\n Crushing down...</td>\n",
       "      <td>en</td>\n",
       "    </tr>\n",
       "  </tbody>\n",
       "</table>\n",
       "</div>"
      ],
      "text/plain": [
       "                                       name                     album_name  \\\n",
       "0                                   Быстрый                            NaN   \n",
       "1                   Deixa Queimar - Ao Vivo                            NaN   \n",
       "2                                 Marioneta                            NaN   \n",
       "3                  Old Macdonald Had a Farm                            NaN   \n",
       "4                                INSTADRAMA                     INSTADRAMA   \n",
       "5                             Learn To Love                     To See You   \n",
       "6  Run Around - Original Uncensored Version   Jefferson Airplane Takes Off   \n",
       "7                           Kanave Nee Naan  Kannum Kannum Kollaiyadithaal   \n",
       "8                                     Uh-Oh                     Funny Farm   \n",
       "9                     Deliver the Suffering     A Manifesto for Domination   \n",
       "\n",
       "                 artists                                             lyrics  \\\n",
       "0                   GSPD  В нашем селе из доступных развлечений\\n Есть т...   \n",
       "1  Alessandro Vilas Boas  Ouvi o meu Senhor bater na porta\\n E o meu cor...   \n",
       "2        Control Machete  Agazapo un lamento, me salgo del\\n cuento, cue...   \n",
       "3          The Kiboomers  What animals do you see on a farm?\\n What soun...   \n",
       "4                 LOBODA  Вот и мы расстаёмся с тобой\\n Закрывая на серд...   \n",
       "5     Harry Connick, Jr.  Lovers are dreamers and I've been walking in m...   \n",
       "6     Jefferson Airplane  One time, run around,\\n Don't look and for me ...   \n",
       "7        Sooraj Santhosh  கனவே நீ நான் விழிக்கவில்லை\\n கலைவாய் என்றே நின...   \n",
       "8              King Kong  What a day to be driving in Nevada\\n What a da...   \n",
       "9            Halcyon Way  The rage like a ten ton weight\\n Crushing down...   \n",
       "\n",
       "  language  \n",
       "0       ru  \n",
       "1       pt  \n",
       "2       es  \n",
       "3       en  \n",
       "4       ru  \n",
       "5       en  \n",
       "6       en  \n",
       "7       ta  \n",
       "8       en  \n",
       "9       en  "
      ]
     },
     "execution_count": 213,
     "metadata": {},
     "output_type": "execute_result"
    }
   ],
   "source": [
    "## Display the first few rows\n",
    "lyrics_cleaned.head(10)"
   ]
  },
  {
   "cell_type": "code",
   "execution_count": 215,
   "id": "c50f3ff9-2880-4f63-ac20-17d57b48f891",
   "metadata": {},
   "outputs": [],
   "source": [
    "## Remove non-english songs\n",
    "lyrics_eng = lyrics_cleaned[lyrics_cleaned['language'] == 'en'].copy().reset_index(drop = True)"
   ]
  },
  {
   "cell_type": "code",
   "execution_count": 217,
   "id": "9d4b43c4-9fbb-44e4-8a5c-bed968f2504b",
   "metadata": {},
   "outputs": [
    {
     "data": {
      "text/plain": [
       "(71563, 5)"
      ]
     },
     "execution_count": 217,
     "metadata": {},
     "output_type": "execute_result"
    }
   ],
   "source": [
    "## How many records do we have left?\n",
    "lyrics_eng.shape # 71,563 songs"
   ]
  },
  {
   "cell_type": "code",
   "execution_count": 219,
   "id": "bb38837f-2dc2-470e-a671-dd7bcd83684a",
   "metadata": {},
   "outputs": [
    {
     "data": {
      "text/html": [
       "<div>\n",
       "<style scoped>\n",
       "    .dataframe tbody tr th:only-of-type {\n",
       "        vertical-align: middle;\n",
       "    }\n",
       "\n",
       "    .dataframe tbody tr th {\n",
       "        vertical-align: top;\n",
       "    }\n",
       "\n",
       "    .dataframe thead th {\n",
       "        text-align: right;\n",
       "    }\n",
       "</style>\n",
       "<table border=\"1\" class=\"dataframe\">\n",
       "  <thead>\n",
       "    <tr style=\"text-align: right;\">\n",
       "      <th></th>\n",
       "      <th>name</th>\n",
       "      <th>album_name</th>\n",
       "      <th>artists</th>\n",
       "      <th>lyrics</th>\n",
       "      <th>language</th>\n",
       "    </tr>\n",
       "  </thead>\n",
       "  <tbody>\n",
       "    <tr>\n",
       "      <th>0</th>\n",
       "      <td>Old Macdonald Had a Farm</td>\n",
       "      <td>NaN</td>\n",
       "      <td>The Kiboomers</td>\n",
       "      <td>What animals do you see on a farm?\\n What soun...</td>\n",
       "      <td>en</td>\n",
       "    </tr>\n",
       "    <tr>\n",
       "      <th>1</th>\n",
       "      <td>Learn To Love</td>\n",
       "      <td>To See You</td>\n",
       "      <td>Harry Connick, Jr.</td>\n",
       "      <td>Lovers are dreamers and I've been walking in m...</td>\n",
       "      <td>en</td>\n",
       "    </tr>\n",
       "    <tr>\n",
       "      <th>2</th>\n",
       "      <td>Run Around - Original Uncensored Version</td>\n",
       "      <td>Jefferson Airplane Takes Off</td>\n",
       "      <td>Jefferson Airplane</td>\n",
       "      <td>One time, run around,\\n Don't look and for me ...</td>\n",
       "      <td>en</td>\n",
       "    </tr>\n",
       "    <tr>\n",
       "      <th>3</th>\n",
       "      <td>Uh-Oh</td>\n",
       "      <td>Funny Farm</td>\n",
       "      <td>King Kong</td>\n",
       "      <td>What a day to be driving in Nevada\\n What a da...</td>\n",
       "      <td>en</td>\n",
       "    </tr>\n",
       "    <tr>\n",
       "      <th>4</th>\n",
       "      <td>Deliver the Suffering</td>\n",
       "      <td>A Manifesto for Domination</td>\n",
       "      <td>Halcyon Way</td>\n",
       "      <td>The rage like a ten ton weight\\n Crushing down...</td>\n",
       "      <td>en</td>\n",
       "    </tr>\n",
       "  </tbody>\n",
       "</table>\n",
       "</div>"
      ],
      "text/plain": [
       "                                       name                    album_name  \\\n",
       "0                  Old Macdonald Had a Farm                           NaN   \n",
       "1                             Learn To Love                    To See You   \n",
       "2  Run Around - Original Uncensored Version  Jefferson Airplane Takes Off   \n",
       "3                                     Uh-Oh                    Funny Farm   \n",
       "4                     Deliver the Suffering    A Manifesto for Domination   \n",
       "\n",
       "              artists                                             lyrics  \\\n",
       "0       The Kiboomers  What animals do you see on a farm?\\n What soun...   \n",
       "1  Harry Connick, Jr.  Lovers are dreamers and I've been walking in m...   \n",
       "2  Jefferson Airplane  One time, run around,\\n Don't look and for me ...   \n",
       "3           King Kong  What a day to be driving in Nevada\\n What a da...   \n",
       "4         Halcyon Way  The rage like a ten ton weight\\n Crushing down...   \n",
       "\n",
       "  language  \n",
       "0       en  \n",
       "1       en  \n",
       "2       en  \n",
       "3       en  \n",
       "4       en  "
      ]
     },
     "execution_count": 219,
     "metadata": {},
     "output_type": "execute_result"
    }
   ],
   "source": [
    "## Display first few rows\n",
    "lyrics_eng.head()"
   ]
  },
  {
   "cell_type": "code",
   "execution_count": 221,
   "id": "a4ec700c-24e0-4807-82e2-929fff46da92",
   "metadata": {},
   "outputs": [],
   "source": [
    "## Export as a .csv file (as a checkpoint)\n",
    "lyrics_eng.to_csv(\"Data\\lyrics_eng.csv\", index= False)"
   ]
  },
  {
   "cell_type": "code",
   "execution_count": 223,
   "id": "d8e07c2d-f7aa-4771-8c73-2081ef8e1a06",
   "metadata": {},
   "outputs": [
    {
     "data": {
      "text/plain": [
       "0         The Kiboomers\n",
       "1    Harry Connick, Jr.\n",
       "2    Jefferson Airplane\n",
       "3             King Kong\n",
       "4           Halcyon Way\n",
       "Name: artists, dtype: object"
      ]
     },
     "execution_count": 223,
     "metadata": {},
     "output_type": "execute_result"
    }
   ],
   "source": [
    "## How many different artists are there?\n",
    "lyrics_eng['artists'].head()"
   ]
  },
  {
   "cell_type": "code",
   "execution_count": 267,
   "id": "a3bb68bc-6dd0-44ef-8685-02821852cc27",
   "metadata": {},
   "outputs": [
    {
     "data": {
      "text/plain": [
       "artists\n",
       "Various Artists      339\n",
       "Elvis Presley        145\n",
       "Grateful Dead        127\n",
       "Bob Dylan            122\n",
       "Aretha Franklin      100\n",
       "                    ... \n",
       "Sons Of Zion           1\n",
       "Con Funk Shun          1\n",
       "Lower Class Brats      1\n",
       "Nü Sensae              1\n",
       "Moons of Mars          1\n",
       "Name: count, Length: 26564, dtype: int64"
      ]
     },
     "execution_count": 267,
     "metadata": {},
     "output_type": "execute_result"
    }
   ],
   "source": [
    "lyrics_eng['artists'].value_counts()"
   ]
  },
  {
   "cell_type": "code",
   "execution_count": 270,
   "id": "44d244d7-c86b-44e1-b967-89f16baa8f89",
   "metadata": {},
   "outputs": [
    {
     "data": {
      "text/html": [
       "<div>\n",
       "<style scoped>\n",
       "    .dataframe tbody tr th:only-of-type {\n",
       "        vertical-align: middle;\n",
       "    }\n",
       "\n",
       "    .dataframe tbody tr th {\n",
       "        vertical-align: top;\n",
       "    }\n",
       "\n",
       "    .dataframe thead th {\n",
       "        text-align: right;\n",
       "    }\n",
       "</style>\n",
       "<table border=\"1\" class=\"dataframe\">\n",
       "  <thead>\n",
       "    <tr style=\"text-align: right;\">\n",
       "      <th></th>\n",
       "      <th>name</th>\n",
       "      <th>album_name</th>\n",
       "      <th>artists</th>\n",
       "      <th>lyrics</th>\n",
       "      <th>language</th>\n",
       "    </tr>\n",
       "  </thead>\n",
       "  <tbody>\n",
       "    <tr>\n",
       "      <th>count</th>\n",
       "      <td>71563</td>\n",
       "      <td>29459</td>\n",
       "      <td>71563</td>\n",
       "      <td>71563</td>\n",
       "      <td>71563</td>\n",
       "    </tr>\n",
       "    <tr>\n",
       "      <th>unique</th>\n",
       "      <td>61155</td>\n",
       "      <td>19452</td>\n",
       "      <td>26564</td>\n",
       "      <td>71563</td>\n",
       "      <td>1</td>\n",
       "    </tr>\n",
       "    <tr>\n",
       "      <th>top</th>\n",
       "      <td>Home</td>\n",
       "      <td>Greatest Hits</td>\n",
       "      <td>Various Artists</td>\n",
       "      <td>What animals do you see on a farm?\\n What soun...</td>\n",
       "      <td>en</td>\n",
       "    </tr>\n",
       "    <tr>\n",
       "      <th>freq</th>\n",
       "      <td>31</td>\n",
       "      <td>121</td>\n",
       "      <td>339</td>\n",
       "      <td>1</td>\n",
       "      <td>71563</td>\n",
       "    </tr>\n",
       "  </tbody>\n",
       "</table>\n",
       "</div>"
      ],
      "text/plain": [
       "         name     album_name          artists  \\\n",
       "count   71563          29459            71563   \n",
       "unique  61155          19452            26564   \n",
       "top      Home  Greatest Hits  Various Artists   \n",
       "freq       31            121              339   \n",
       "\n",
       "                                                   lyrics language  \n",
       "count                                               71563    71563  \n",
       "unique                                              71563        1  \n",
       "top     What animals do you see on a farm?\\n What soun...       en  \n",
       "freq                                                    1    71563  "
      ]
     },
     "execution_count": 270,
     "metadata": {},
     "output_type": "execute_result"
    }
   ],
   "source": [
    "## How many different artists are there?\n",
    "\n",
    "lyrics_eng.describe(include = 'all')"
   ]
  },
  {
   "cell_type": "markdown",
   "id": "285345f9-fc6a-4711-8f41-fed33ce2ee4b",
   "metadata": {},
   "source": [
    "There are 26,564 unique artists, and 71,563 unique songs. \n",
    "Majority of artists fall under 'Various Artists' (339 songs).\n",
    "\n",
    "NOTE: There still might be similar songs e.g., remix of the same song etc., In the future, additional steps can be taken to ensure there are no remix/variations of the same song. However, due to the time limitation of this project, I will be proceding with the dataset."
   ]
  },
  {
   "cell_type": "markdown",
   "id": "5046b1e8-ff4e-46de-b2fc-51322c9172c2",
   "metadata": {},
   "source": [
    "## 2. Emotion Detection"
   ]
  },
  {
   "cell_type": "markdown",
   "id": "57bdd23d-3e7d-4e7a-ba9a-8366bff754f4",
   "metadata": {
    "jp-MarkdownHeadingCollapsed": true
   },
   "source": [
    "### 2.1 Choosing the BERT model to use"
   ]
  },
  {
   "cell_type": "markdown",
   "id": "c4a4e491-4826-44a2-becc-ec9ac53b9b76",
   "metadata": {
    "jp-MarkdownHeadingCollapsed": true
   },
   "source": [
    "I will be using a **pre-trained BERT model**, which have been fine-tuned for text emotion detection, on the lyrics.\n",
    "\n",
    "To pick the model to use, I will manually check the emotion detected for the first 10 lyrics for three potential models from [Hugging Face](https://huggingface.co/) - `j-hartmann/emotion-english-distilroberta-base`, `SamLowe/roberta-base-go_emotions` and `michellejieli/emotion_text_classifier`.\n",
    "\n",
    "Here are details regarding each model:\n",
    "\n",
    "|Model|Emotions|Notes|\n",
    "|---------------|---|---|\n",
    "|`j-hartmann`   |Anger, Disgust, Fear, Joy, Neutral, Sadness, Surprise|Trained on 6 datasets using texts from social media e.g., Twitter, student self-reports, and TV dialogues.|\n",
    "|`michellejieli`|Anger, Disgust, Fear, Joy, Neutral, Sadness, Surprise|Fine-tuned version of `j-hartmann` using additional emotional lines from Friends (TV show).|\n",
    "|`SamLowe`      |Admiration, Amusement, Anger, Annoyance, Approval, Caring, Confusion, Curiosity, Desire, Disappointment,  Disapproval, Disgust, Embarrassment, Excitement, Fear, Gratitude, Grief, Joy, Love, Nervousness, Optimism, Pride, Realization, Relief, Remorse, Sadness, Surprise, Neutral|Trained using the GoEmotions dataset of Reddit comments labeled for 27 emotion categories (and neutral). Ideal for multi-label classification.|\n",
    "\n",
    "For all of these models, there is a main **limitation**. These models have not been trained on lyrics, but other text, which might affect their performance on lyrics. For future work, it would be benefical to train a model/fine-tune these BERT models on labelled lyrics data. However, due to the lack of labelled lyrics with emotion data and time-constraint of this project, I will be using an existing BERT model with no further tuning."
   ]
  },
  {
   "cell_type": "code",
   "execution_count": 4,
   "id": "f5e0aa49-e34e-4e41-9064-20c2783bb906",
   "metadata": {},
   "outputs": [
    {
     "data": {
      "text/html": [
       "<div>\n",
       "<style scoped>\n",
       "    .dataframe tbody tr th:only-of-type {\n",
       "        vertical-align: middle;\n",
       "    }\n",
       "\n",
       "    .dataframe tbody tr th {\n",
       "        vertical-align: top;\n",
       "    }\n",
       "\n",
       "    .dataframe thead th {\n",
       "        text-align: right;\n",
       "    }\n",
       "</style>\n",
       "<table border=\"1\" class=\"dataframe\">\n",
       "  <thead>\n",
       "    <tr style=\"text-align: right;\">\n",
       "      <th></th>\n",
       "      <th>name</th>\n",
       "      <th>album_name</th>\n",
       "      <th>artists</th>\n",
       "      <th>lyrics</th>\n",
       "      <th>language</th>\n",
       "    </tr>\n",
       "  </thead>\n",
       "  <tbody>\n",
       "    <tr>\n",
       "      <th>0</th>\n",
       "      <td>Old Macdonald Had a Farm</td>\n",
       "      <td>NaN</td>\n",
       "      <td>The Kiboomers</td>\n",
       "      <td>What animals do you see on a farm?\\n What soun...</td>\n",
       "      <td>en</td>\n",
       "    </tr>\n",
       "    <tr>\n",
       "      <th>1</th>\n",
       "      <td>Learn To Love</td>\n",
       "      <td>To See You</td>\n",
       "      <td>Harry Connick, Jr.</td>\n",
       "      <td>Lovers are dreamers and I've been walking in m...</td>\n",
       "      <td>en</td>\n",
       "    </tr>\n",
       "    <tr>\n",
       "      <th>2</th>\n",
       "      <td>Run Around - Original Uncensored Version</td>\n",
       "      <td>Jefferson Airplane Takes Off</td>\n",
       "      <td>Jefferson Airplane</td>\n",
       "      <td>One time, run around,\\n Don't look and for me ...</td>\n",
       "      <td>en</td>\n",
       "    </tr>\n",
       "    <tr>\n",
       "      <th>3</th>\n",
       "      <td>Uh-Oh</td>\n",
       "      <td>Funny Farm</td>\n",
       "      <td>King Kong</td>\n",
       "      <td>What a day to be driving in Nevada\\n What a da...</td>\n",
       "      <td>en</td>\n",
       "    </tr>\n",
       "    <tr>\n",
       "      <th>4</th>\n",
       "      <td>Deliver the Suffering</td>\n",
       "      <td>A Manifesto for Domination</td>\n",
       "      <td>Halcyon Way</td>\n",
       "      <td>The rage like a ten ton weight\\n Crushing down...</td>\n",
       "      <td>en</td>\n",
       "    </tr>\n",
       "  </tbody>\n",
       "</table>\n",
       "</div>"
      ],
      "text/plain": [
       "                                       name                    album_name  \\\n",
       "0                  Old Macdonald Had a Farm                           NaN   \n",
       "1                             Learn To Love                    To See You   \n",
       "2  Run Around - Original Uncensored Version  Jefferson Airplane Takes Off   \n",
       "3                                     Uh-Oh                    Funny Farm   \n",
       "4                     Deliver the Suffering    A Manifesto for Domination   \n",
       "\n",
       "              artists                                             lyrics  \\\n",
       "0       The Kiboomers  What animals do you see on a farm?\\n What soun...   \n",
       "1  Harry Connick, Jr.  Lovers are dreamers and I've been walking in m...   \n",
       "2  Jefferson Airplane  One time, run around,\\n Don't look and for me ...   \n",
       "3           King Kong  What a day to be driving in Nevada\\n What a da...   \n",
       "4         Halcyon Way  The rage like a ten ton weight\\n Crushing down...   \n",
       "\n",
       "  language  \n",
       "0       en  \n",
       "1       en  \n",
       "2       en  \n",
       "3       en  \n",
       "4       en  "
      ]
     },
     "execution_count": 4,
     "metadata": {},
     "output_type": "execute_result"
    }
   ],
   "source": [
    "## Observe dataset\n",
    "\n",
    "lyrics_df = pd.read_csv(\"Data\\lyrics_eng.csv\") # Load from the saved .csv\n",
    "lyrics_df.head()"
   ]
  },
  {
   "cell_type": "code",
   "execution_count": 6,
   "id": "f1842300-aa40-4abf-a4cb-80029291279c",
   "metadata": {},
   "outputs": [
    {
     "name": "stdout",
     "output_type": "stream",
     "text": [
      "mean     1408.42733\n",
      "min        15.00000\n",
      "max     32281.00000\n",
      "Name: lyrics_length, dtype: float64\n"
     ]
    }
   ],
   "source": [
    "## Average length of lyrics\n",
    "# Most transformer models have a maximum of 512 tokens.\n",
    "\n",
    "lyrics_df['lyrics_length'] = lyrics_df['lyrics'].apply(len)\n",
    "print(lyrics_df['lyrics_length'].agg(['mean', 'min', 'max']))"
   ]
  },
  {
   "cell_type": "markdown",
   "id": "5011e007-a0d1-4832-9e1f-d43f86256df0",
   "metadata": {},
   "source": [
    "These models have a token limit of 512. Most lyrics are longer than the limit.\n",
    "\n",
    "For the prpose of choosing the model, I will break the lyrics into chunks, predict the emotion of the chunk, and aggregate the most frequent emotion of all the chunks as the emotion of the song. This retains the overall emotion of the song."
   ]
  },
  {
   "cell_type": "code",
   "execution_count": 8,
   "id": "508b29fc-9abb-4e3c-bca9-e5783540e58f",
   "metadata": {},
   "outputs": [
    {
     "name": "stdout",
     "output_type": "stream",
     "text": [
      "WARNING:tensorflow:From C:\\Users\\isabe\\anaconda3\\Lib\\site-packages\\tf_keras\\src\\losses.py:2976: The name tf.losses.sparse_softmax_cross_entropy is deprecated. Please use tf.compat.v1.losses.sparse_softmax_cross_entropy instead.\n",
      "\n"
     ]
    }
   ],
   "source": [
    "## Use three different BERT models (fine-tuned for emotions)\n",
    "hartmann = pipeline(\"text-classification\", model=\"j-hartmann/emotion-english-distilroberta-base\", top_k=None) # top_k = None means show all scores\n",
    "michelle = pipeline(\"text-classification\", model=\"michellejieli/emotion_text_classifier\",  top_k=None) \n",
    "sam = pipeline(task=\"text-classification\", model=\"SamLowe/roberta-base-go_emotions\", top_k=None)"
   ]
  },
  {
   "cell_type": "code",
   "execution_count": 289,
   "id": "307e9c21-f0fc-41b0-aa31-d8037ae7c62a",
   "metadata": {},
   "outputs": [],
   "source": [
    "## A function to split the lyrics into chunks (not real tokens used by the model)\n",
    "\n",
    "def chunk_lyrics(lyric, chunk_size=425): # Each chunk will be 400 characters long. NOTE: The token size limit is 512 a token does not translate to words or characters. \n",
    "    # Split the lyrics into a list of chunks of length 500\n",
    "    chunks = [lyric[i:(i+chunk_size)] for i in range(0, len(lyric), chunk_size)]\n",
    "\n",
    "    # Join the characters back into words and sentences for each chunk\n",
    "    return [\"\".join(chunk) for chunk in chunks]"
   ]
  },
  {
   "cell_type": "markdown",
   "id": "46f1feba-8bb8-4ba4-97db-c6fde461bf00",
   "metadata": {},
   "source": [
    "All these models have their own pre-processing steps built-in the pipeline, so I will be doing minimal cleaning of the lyrics for this. Note: Through the testing, it was found that some simple cleaning helped with more accurate detection."
   ]
  },
  {
   "cell_type": "code",
   "execution_count": 291,
   "id": "b36b09c6-8250-4218-9107-f6ee1886951b",
   "metadata": {},
   "outputs": [
    {
     "data": {
      "text/html": [
       "<div>\n",
       "<style scoped>\n",
       "    .dataframe tbody tr th:only-of-type {\n",
       "        vertical-align: middle;\n",
       "    }\n",
       "\n",
       "    .dataframe tbody tr th {\n",
       "        vertical-align: top;\n",
       "    }\n",
       "\n",
       "    .dataframe thead th {\n",
       "        text-align: right;\n",
       "    }\n",
       "</style>\n",
       "<table border=\"1\" class=\"dataframe\">\n",
       "  <thead>\n",
       "    <tr style=\"text-align: right;\">\n",
       "      <th></th>\n",
       "      <th>Lyrics</th>\n",
       "      <th>Hartmann</th>\n",
       "      <th>Michelle</th>\n",
       "      <th>Sam</th>\n",
       "    </tr>\n",
       "  </thead>\n",
       "  <tbody>\n",
       "    <tr>\n",
       "      <th>0</th>\n",
       "      <td>What animals do you see on a farm?\\n What soun...</td>\n",
       "      <td>neutral</td>\n",
       "      <td>joy</td>\n",
       "      <td>neutral</td>\n",
       "    </tr>\n",
       "    <tr>\n",
       "      <th>1</th>\n",
       "      <td>Lovers are dreamers and I've been walking in m...</td>\n",
       "      <td>fear</td>\n",
       "      <td>joy</td>\n",
       "      <td>love</td>\n",
       "    </tr>\n",
       "    <tr>\n",
       "      <th>2</th>\n",
       "      <td>One time, run around,\\n Don't look and for me ...</td>\n",
       "      <td>sadness</td>\n",
       "      <td>anger</td>\n",
       "      <td>desire</td>\n",
       "    </tr>\n",
       "    <tr>\n",
       "      <th>3</th>\n",
       "      <td>What a day to be driving in Nevada\\n What a da...</td>\n",
       "      <td>surprise</td>\n",
       "      <td>fear</td>\n",
       "      <td>neutral</td>\n",
       "    </tr>\n",
       "    <tr>\n",
       "      <th>4</th>\n",
       "      <td>The rage like a ten ton weight\\n Crushing down...</td>\n",
       "      <td>sadness</td>\n",
       "      <td>sadness</td>\n",
       "      <td>sadness</td>\n",
       "    </tr>\n",
       "    <tr>\n",
       "      <th>5</th>\n",
       "      <td>So miserable\\n ♪\\n My funeral\\n And I try to f...</td>\n",
       "      <td>sadness</td>\n",
       "      <td>sadness</td>\n",
       "      <td>sadness</td>\n",
       "    </tr>\n",
       "    <tr>\n",
       "      <th>6</th>\n",
       "      <td>I spy\\n Something beginning with 'S'\\n On cand...</td>\n",
       "      <td>fear</td>\n",
       "      <td>fear</td>\n",
       "      <td>fear</td>\n",
       "    </tr>\n",
       "    <tr>\n",
       "      <th>7</th>\n",
       "      <td>Through the mist of not so distant future year...</td>\n",
       "      <td>neutral</td>\n",
       "      <td>neutral</td>\n",
       "      <td>neutral</td>\n",
       "    </tr>\n",
       "    <tr>\n",
       "      <th>8</th>\n",
       "      <td>I already decided bitch that I don't need no s...</td>\n",
       "      <td>anger</td>\n",
       "      <td>anger</td>\n",
       "      <td>neutral</td>\n",
       "    </tr>\n",
       "    <tr>\n",
       "      <th>9</th>\n",
       "      <td>There's one way to whistle\\n Whistle while you...</td>\n",
       "      <td>fear</td>\n",
       "      <td>neutral</td>\n",
       "      <td>love</td>\n",
       "    </tr>\n",
       "  </tbody>\n",
       "</table>\n",
       "</div>"
      ],
      "text/plain": [
       "                                              Lyrics  Hartmann Michelle  \\\n",
       "0  What animals do you see on a farm?\\n What soun...   neutral      joy   \n",
       "1  Lovers are dreamers and I've been walking in m...      fear      joy   \n",
       "2  One time, run around,\\n Don't look and for me ...   sadness    anger   \n",
       "3  What a day to be driving in Nevada\\n What a da...  surprise     fear   \n",
       "4  The rage like a ten ton weight\\n Crushing down...   sadness  sadness   \n",
       "5  So miserable\\n ♪\\n My funeral\\n And I try to f...   sadness  sadness   \n",
       "6  I spy\\n Something beginning with 'S'\\n On cand...      fear     fear   \n",
       "7  Through the mist of not so distant future year...   neutral  neutral   \n",
       "8  I already decided bitch that I don't need no s...     anger    anger   \n",
       "9  There's one way to whistle\\n Whistle while you...      fear  neutral   \n",
       "\n",
       "       Sam  \n",
       "0  neutral  \n",
       "1     love  \n",
       "2   desire  \n",
       "3  neutral  \n",
       "4  sadness  \n",
       "5  sadness  \n",
       "6     fear  \n",
       "7  neutral  \n",
       "8  neutral  \n",
       "9     love  "
      ]
     },
     "execution_count": 291,
     "metadata": {},
     "output_type": "execute_result"
    }
   ],
   "source": [
    "## Test the models on the first 10 lyrics\n",
    "\n",
    "model_test = []\n",
    "\n",
    "# Loop through the first 10 lyrics to test the emotion models\n",
    "for lyric in lyrics_df['lyrics'][0:10]:\n",
    "    # Create an empty dictionary\n",
    "    current_lyric = {}\n",
    "\n",
    "    # Basic, quick cleaning of the lyrics and add it to the dictionary\n",
    "    lyric_clean = lyric.strip().replace('\\n', '').lower().replace(' ♪', '')\n",
    "    current_lyric['Lyrics'] = lyric_clean\n",
    "\n",
    "    # Break the lyrics into chunks\n",
    "    chunks = chunk_lyrics(lyric_clean)\n",
    "    \n",
    "    # Create an empty list for the predicted emotion of each chunk\n",
    "    hartmann_result = []\n",
    "    michelle_result = []\n",
    "    sam_result = []\n",
    "    \n",
    "    # Loop through each chunk\n",
    "    for chunk in chunks:\n",
    "        # Predict and store the emotions for each chunk\n",
    "        hartmann_result.append(hartmann(chunk)[0][0]['label']) # Highest probability emotion only\n",
    "        michelle_result.append(michelle(chunk)[0][0]['label'])\n",
    "        sam_result.append(sam(chunk)[0][0]['label'])\n",
    "\n",
    "    # Select the most frequent emotion all the chunks for that lyric\n",
    "    current_lyric['Hartmann'] = Counter(hartmann_result).most_common(1)[0][0] # Counts the occurence of each emotion and return the top emotion only (or top 2\n",
    "    current_lyric['Michelle'] = Counter(michelle_result).most_common(1)[0][0]\n",
    "    current_lyric['Sam'] = Counter(sam_result).most_common(1)[0][0]\n",
    "\n",
    "    # Add the current lyric to the list\n",
    "    model_test.append(current_lyric)\n",
    "\n",
    "# Create a dataframe\n",
    "model_test_df = pd.DataFrame(model_test)\n",
    "\n",
    "# Display it\n",
    "model_test_df"
   ]
  },
  {
   "cell_type": "code",
   "execution_count": 199,
   "id": "768f2882-a044-414e-ab09-c576eac16df1",
   "metadata": {
    "scrolled": true
   },
   "outputs": [
    {
     "name": "stdout",
     "output_type": "stream",
     "text": [
      "What animals do you see on a farm?\n",
      " What sounds do they make?\n",
      " A cow, moo\n",
      " Moo\n",
      " Old MacDonald had a farm (hello), EE-I-EE-I-O\n",
      " And on his farm he had a cow, EE-I-EE-I-O\n",
      " With a moo-moo here and a moo-moo there\n",
      " Here a moo, there a moo, everywhere a moo-moo\n",
      " Old MacDonald had a farm, EE-I-EE-I-O\n",
      " A chicken, cluck-cluck\n",
      " Old MacDonald had a farm (hello), EE-I-EE-I-O\n",
      " And on his farm he had a chicken, EE-I-EE-I-O\n",
      " With a cluck-cluck here and a cluck-cluck there\n",
      " Here a cluck, there a cluck, everywhere a cluck-cluck\n",
      " Old MacDonald had a farm, EE-I-EE-I-O\n",
      " A pig, oink-oink\n",
      " Old MacDonald had a farm (hello), EE-I-EE-I-O\n",
      " And on his farm he had a pig, EE-I-EE-I-O\n",
      " With a oink-oink here and a oink-oink there\n",
      " Here a oink, there a oink, everywhere a oink-oink\n",
      " Old MacDonald had a farm, EE-I-EE-I-O\n",
      " A sheep, baa, baa\n",
      " Old MacDonald had a farm (hello), EE-I-EE-I-O\n",
      " And on his farm he had a sheep, EE-I-EE-I-O\n",
      " With a baa-baa here and a baa-baa there\n",
      " Here a baa, there a baa, everywhere a baa-baa\n",
      " Old MacDonald had a farm, EE-I-EE-I-O\n",
      " A horse, neigh, neigh\n",
      " Old MacDonald had a farm (hello), EE-I-EE-I-O\n",
      " And on his farm he had a horse, EE-I-EE-I-O\n",
      " With a neigh-neigh here and a neigh-neigh there\n",
      " Here a neigh, there a neigh, everywhere a neigh-neigh\n",
      " Old MacDonald had a farm, EE-I-EE-I-O\n",
      " A duck, quack-quack\n",
      " Old MacDonald had a farm (hello), EE-I-EE-I-O\n",
      " And on his farm he had a duck, EE-I-EE-I-O\n",
      " With a quack-quack here and a quack-quack there\n",
      " Here a quack, there a quack, everywhere a quack-quack\n",
      " Old MacDonald had a farm, EE-I-EE-I-O\n",
      " A rooster, cock-a-doodle-doo\n",
      " Old MacDonald had a farm (hello), EE-I-EE-I-O\n",
      " And on his farm he had a rooster, EE-I-EE-I-O\n",
      " With a cock-a-doodle-doo here and a cock-a-doodle-doo there\n",
      " Here a cock-a-doodle-doo, there a cock-a-doodle-doo\n",
      " Everywhere a cock-a-doodle-doo\n",
      " Old MacDonald had a farm, EE-I-EE-I-O\n",
      " EE-I-EE-I-O\n",
      "____________________________________\n",
      "\n",
      "Lovers are dreamers and I've been walking in my sleep\n",
      " When I awake I'll never take a chance that I can't keep\n",
      " A thousand first times never add up to last\n",
      " And I've been told a heart of gold melts away too fast\n",
      " But I didn't count on you\n",
      " Running into me\n",
      " No I didn't count on you\n",
      " I could learn to love you\n",
      " I could get used to this\n",
      " I could learn to love you\n",
      " And the shelter of your kiss\n",
      " The day's not as hard as trying to go through it alone\n",
      " And in the end you can't depend on any love\n",
      " But your own\n",
      " Sometimes the impossible shows up undeclared\n",
      " That's when the impossible\n",
      " Shows you that it's possible\n",
      " Maybe even beautiful\n",
      " To double what you've dared\n",
      " But I didn't count on you\n",
      " Running into me\n",
      " No I didn't count on you\n",
      " I could learn to love you\n",
      " I could get used to this\n",
      " I could learn to love you\n",
      " And the shelter of your kiss\n",
      " \n",
      "____________________________________\n",
      "\n",
      "One time, run around,\n",
      " Don't look and for me to go your way\n",
      " You left me here with out anything to love\n",
      " I'll tell you\n",
      " I've... had... enough of your hands running round my brain,\n",
      " And... I've... had have enough of the way that you cause me pain\n",
      " So slow down, run around your other side,\n",
      " Walk with me instead tonight\n",
      " We could be near like we use to be before\n",
      " Ahh girl, ...I. need more of the times that you turned me round\n",
      " And ...There's ...no time to turn away love I've found\n",
      " So couldn't we forget about today, start again from where we were\n",
      " We use to dance out to space without a care\n",
      " And our laughter come ringing and singing we rolled round the music,\n",
      " Blinded by colors come crashing from flowers that sway as you stay here by me .\n",
      " Slow down, run around\n",
      " Your love is soft\n",
      " Walk with me instead tonight\n",
      " We could be near like we use to be before\n",
      " Ahh girl, .I... need more of the times that you turned me round\n",
      " And .there's... no time to turn away love I've found\n",
      " Run around\n",
      " Lifetime run around\n",
      " Don't look back and for me to go your way\n",
      " You left me here with out anything to love\n",
      " I'll tell you ...\n",
      " I've .had enough of your hands running round my brain,\n",
      " And I've had have enough of the way that you cause me pain\n",
      " Well run around.\n",
      "____________________________________\n",
      "\n",
      "What a day to be driving in Nevada\n",
      " What a day to be driving by Grenada\n",
      " Driving through the desert is such a sensation and\n",
      " It's only 50 miles to the nearest gas station\n",
      " Uh-oh I've got a little problem\n",
      " Uh-oh I've got a little problem\n",
      " Uh-oh I've got a little problem\n",
      " Uh-oh I've got a little problem\n",
      " What a day to be walking in Nevada\n",
      " The sun it cooks me like a chicken enchilada\n",
      " My thumb is out hitchhiker symbol I must reckon\n",
      " A car should pass and pick me up in just a second\n",
      " Uh-oh I've got a little problem\n",
      " Uh-oh I've got a little problem\n",
      " Uh-oh I've got a little problem\n",
      " Uh-oh I've got a little problem\n",
      " What a day to be crawling in Nevada\n",
      " May I ask to have a glass of icy lemonada\n",
      " The sun is bright but the lights they are a dimming\n",
      " There's a pool I think i'll do some swimming\n",
      " Uh-oh I've got a little problem\n",
      " Uh-oh I've got a little problem\n",
      " Uh-oh I've got a little problem\n",
      " Uh-oh I've got a little problem\n",
      " Daffy duck\n",
      " (he's got a little problem)\n",
      " Doesn't give a fuck\n",
      " (he's got a little problem)\n",
      " Yogi bear\n",
      " (he's got a little problem)\n",
      " He don't care\n",
      " (he's got a little problem)\n",
      " Scooby-Dooby-Doo\n",
      " (he's got a little problem)\n",
      " Has nothing to do\n",
      " (he's got a little problem)\n",
      " Yosemite Sam\n",
      " (he's got a little problem)\n",
      " Goddamn\n",
      " (he's got a little problem)\n",
      " Are you lookin' at me\n",
      " Do you have a problem\n",
      " I'm the one who's got the problem\n",
      " I've got a little problem\n",
      " I've got a little problem\n",
      " I've got a little problem\n",
      " I've got a little problem\n",
      "____________________________________\n",
      "\n",
      "The rage like a ten ton weight\n",
      " Crushing down upon me\n",
      " You wield your will like a hammer\n",
      " But it's the last you'll see of me\n",
      " My sight going through that door\n",
      " Yeah, the memory haunts me\n",
      " Feast on my misery while you can\n",
      " It's the last you'll speak of me\n",
      " And it's another shakedown\n",
      " And I can't breathe\n",
      " Seems like the tables are turned now\n",
      " I will deliver the suffering\n",
      " It's another shakedown\n",
      " Squeeze me until I can't breathe\n",
      " As I fight for my dying breath\n",
      " Yeah, it's the last you'll hear of me\n",
      " The wild horse that you cannot capture\n",
      " The death that you still breathe\n",
      " It's the stench of bitter regret\n",
      " It's the last you'll smell of me\n",
      " And when they have you where they want you\n",
      " You know there's nothing you can do\n",
      " And when they do with you what they will\n",
      " Your only friend is the suffering\n",
      " It's another shakedown\n",
      " Squeeze me until I can't breathe\n",
      " It's another shakedown\n",
      " I will deliver the suffering\n",
      "____________________________________\n",
      "\n",
      "So miserable\n",
      " ♪\n",
      " My funeral\n",
      " And I try to fake it now\n",
      " I only shed my doubts\n",
      " Push me to the edge\n",
      " And I been duped by deceit\n",
      " What's right in front of me\n",
      " So push me to the edge\n",
      " Can you even tell\n",
      " That I do this to myself\n",
      " I'm just cryin' out for\n",
      " Anyone to understand me\n",
      " Anyone to understand me\n",
      " Yeah, but am I just too late\n",
      " Stuck in my own ways\n",
      " I'm just cryin' out for\n",
      " Anyone to understand me\n",
      " And I try to blame you now\n",
      " 'Cause I'm gonna shut you down\n",
      " So push me to the edge\n",
      " So miserable\n",
      " My funeral\n",
      " \n",
      " Can you even tell\n",
      " That I do this to myself\n",
      " I'm just cryin' out for\n",
      " Anyone to understand me\n",
      " Anyone to understand me\n",
      " Yeah, but am I just too late\n",
      " Stuck in my own ways\n",
      " I'm just cryin' out for\n",
      " Anyone to understand me\n",
      " Yeah!\n",
      " Yeah!\n",
      " ♪\n",
      " So miserable\n",
      " My funeral\n",
      " So miserable\n",
      " Can you even tell\n",
      " That I do this to myself\n",
      " I'm just cryin' out for\n",
      " Anyone to understand me\n",
      " \n",
      "____________________________________\n",
      "\n",
      "I spy\n",
      " Something beginning with 'S'\n",
      " On candy stripe legs the Spiderman comes\n",
      " Softly through the shadow of the evening sun\n",
      " Stealing past the windows of the blissfully dead\n",
      " Looking for the victim shivering in bed\n",
      " Searching out fear in the gathering gloom\n",
      " And suddenly a movement in the corner of the room\n",
      " And there is nothing I can do when I realize with fright\n",
      " That the Spiderman is having me for dinner tonight\n",
      " Quietly he laughs and shaking his head\n",
      " Creeps closer now, closer to the foot of the bed\n",
      " And softer than shadow and quicker than flies\n",
      " His arms are all around me and his tongue in my eyes\n",
      " Be still be calm be quiet now my precious boy\n",
      " Don't struggle like that or I will only love you more\n",
      " For it's much too late to get away or turn on the light\n",
      " The Spiderman is having you for dinner tonight\n",
      " And I feel like I'm being eaten\n",
      " By a thousand million shivering furry holes\n",
      " And I know that in the morning\n",
      " I will wake up in the shivering cold\n",
      " And the Spiderman is always hungry\n",
      " 'Come into my parlor,' said the spider to the fly\n",
      " 'I have a little something here'\n",
      " \n",
      "____________________________________\n",
      "\n",
      "Through the mist of not so distant future years\n",
      " Comes a killer with a frame of steel\n",
      " Though he may look like any other man\n",
      " Something about him just isn't real\n",
      " With the strength of one hundred mortal men\n",
      " He stalks the city streets for you\n",
      " With eyes that focus like a zoom in camera lens\n",
      " There's nothing you can do\n",
      " [Chorus]\n",
      " Cyborg lust\n",
      " Program - to terminate\n",
      " Cyborg lust\n",
      " Come to seal your fate\n",
      " Man's technology caused this bloody war to wage\n",
      " Computers try to take control\n",
      " Laser blasts fill the smoky skies with rage\n",
      " Mechanical beings fight with soul\n",
      " The death machine is sent back in time to kill\n",
      " The one who will teach us all to fight\n",
      " Onto this Earth a young woman's blood must spill\n",
      " To complete the program he will kill on sight\n",
      " [Chorus]\n",
      " Cyborg lust\n",
      " Cyborg lust\n",
      " Refrain 1st verse & Chorus\n",
      " Terminate, Terminate, Terminate...\n",
      "____________________________________\n",
      "\n",
      "I already decided bitch that I don't need no sidekick\n",
      " Pull up profiling\n",
      " Pull out pro-style, bitch\n",
      " Every time I see her she look like she ain't gon' ever forget\n",
      " Pull up with a torch lit\n",
      " These rappers can't afford shit\n",
      " Boy pull off you rented it\n",
      " We laugh until we finish bitch\n",
      " Hoes getting hip to it\n",
      " They noticing your flaws and shit\n",
      " Pull up to my crib whole pad fully furnished bitch\n",
      " And I got some extra shit\n",
      " Art pieces so articulate\n",
      " Shawty came through asking how you make the lights like this?\n",
      " Her niggas roll skimpy spliffs\n",
      " I roll what all will fit in it\n",
      " Ice castle magic leave your bitch in here you won't re-get\n",
      " All these rappers wack\n",
      " Don't care about features only my own shit\n",
      " I only own my own shit and all my shit owned bitch\n",
      " Pull up to my section\n",
      " Watch the smoke replace the air in there\n",
      " Why he let his girl in here? It's cool escort her to the rear\n",
      " Dumped his ass\n",
      " 30 minutes later then we duck and dip\n",
      " Better tuck your bitch before I make her duck and lick\n",
      " They so sick of me, who?\n",
      " She so sick of me, who?\n",
      " She said how dare you fire that L\n",
      " You ain't pass that blunt to me, huh\n",
      " Sike, I better not bitch I pass that to my charlatan, yuh\n",
      " I'm smoking on some big blunts of some just for me\n",
      " Nah, I ain't ever gave no fuck about the other team, yuh\n",
      " You see Hollow Squad The Coffin Fleet guillotine\n",
      " I pull up doing a hundred to whoever like they needed me you bitch!\n",
      " Who?\n",
      " \n",
      " I already decided bitch that I don't need no sidekick\n",
      " Pull up profiling\n",
      " Pull out pro-style, bitch\n",
      " Every time I see her she look like she ain't gon' ever forget\n",
      " Pull up with a torch lit\n",
      " These rappers can't afford shit\n",
      " Boy pull off you rented it\n",
      " We laugh until we finish bitch\n",
      " Hoes getting hip to it\n",
      " They noticing your flaws and shit\n",
      " Pull up to my crib whole pad fully furnished bitch\n",
      " And I got some extra shit\n",
      " Art pieces so articulate\n",
      " Shawty came through asking how you make the lights like this?\n",
      " Her niggas roll skimpy spliffs\n",
      " I roll what all will fit in it\n",
      " Ice castle magic leave your bitch in here you won't re-get\n",
      " All these rappers wack\n",
      " Don't care about features only my own shit\n",
      " I only own my own shit and all my shit owned bitch\n",
      " Pull up to my section\n",
      " Watch the smoke replace the air in there\n",
      " Why he let his girl in here? It's cool escort her to the rear\n",
      " Dumped his ass\n",
      " 30 minutes later then we duck and dip\n",
      " Better tuck your bitch before I make her duck and lick\n",
      " They so sick of me, who?\n",
      " She so sick of me, who?\n",
      " She said how dare you fire that L\n",
      " You ain't pass that blunt to me, huh\n",
      " Sike, I better not bitch I pass that to my charlatan, yuh\n",
      " I'm smoking on some big blunts of some just for me\n",
      " Nah, I ain't ever gave no fuck about the other team, yuh\n",
      " You see Hollow Squad The Coffin Fleet guillotine\n",
      " I pull up doing a hundred to whoever like they needed me you bitch!\n",
      " Who?\n",
      " \n",
      "____________________________________\n",
      "\n",
      "There's one way to whistle\n",
      " Whistle while you work\n",
      " I know I am the plateau\n",
      " Just one way to whistle\n",
      " But it's too soon\n",
      " My love the red lagoon\n",
      " \n",
      "____________________________________\n",
      "\n"
     ]
    }
   ],
   "source": [
    "## Display the lyrics for the first 10 songs\n",
    "\n",
    "for lyric in lyrics_df['lyrics'][0:10]:\n",
    "    print(lyric + '\\n____________________________________\\n')"
   ]
  },
  {
   "cell_type": "markdown",
   "id": "9169b835-f4ab-4288-8797-f014a91b374a",
   "metadata": {},
   "source": [
    "Here is my personal judgement of the emotion of each lyric:\n",
    "- 0: Neutral\n",
    "- 1: Joy/Love (Hartmann confused it for fear)\n",
    "- 2: Heartbreak/Longing/Sadness/anger?\n",
    "- 3: Surprise/slight fear/neutral\n",
    "- 4: Anger (all said sadness)\n",
    "- 5: Sadness\n",
    "- 6: Fear\n",
    "- 7: Anger? (all said neutral)\n",
    "- 8: Anger?/annoyance\n",
    "- 9: Neutral/possibly love\n",
    "\n",
    "Based on this, I will be using the `michellejieli/emotion_text_classifier` model. This is because it gave the most similar emotions to my personal judgement. I have chosen not to use `SamLowe/roberta-base-go_emotions` despite it having a greater range of emotions (more specific) as due to the computational power of my laptop, it would take too long to use on my dataset."
   ]
  },
  {
   "cell_type": "markdown",
   "id": "50c87317-9aa3-43f6-a963-20ff1c230e41",
   "metadata": {
    "jp-MarkdownHeadingCollapsed": true
   },
   "source": [
    "### 2.2 Lyrics Emotion Detection"
   ]
  },
  {
   "cell_type": "markdown",
   "id": "05c29dcd-8f96-4d7d-a5df-82c08aeae410",
   "metadata": {},
   "source": [
    "For each song, I will detect the key emotion using the chosen BERT model. However, due to the computational power of the model, I will sample my dataset again to 10,000 songs."
   ]
  },
  {
   "cell_type": "code",
   "execution_count": 8,
   "id": "57798565-7014-44e8-8021-75a3f1329bf2",
   "metadata": {},
   "outputs": [],
   "source": [
    "## Create a function to accurately chunk the lyrics into 512 tokens\n",
    "\n",
    "# Use the tokeniser from the model itself\n",
    "tokeniser = AutoTokenizer.from_pretrained(\"michellejieli/emotion_text_classifier\")\n",
    "\n",
    "def chunk_lyrics_by_token(lyric, max_tokens=512): # Set the maximum token limit\n",
    "    # Use the tokeniser to turn the lyrics into tokens\n",
    "    lyrics_tokenised = tokeniser(lyric, truncation=False) # Do not cut it short\n",
    "    input_ids = lyrics_tokenised['input_ids'] # Each token has an ID\n",
    "\n",
    "    # Calculate how many tokens will fit within the limit (accounting for special tokens)\n",
    "    max_tokens -= tokeniser.num_special_tokens_to_add(pair=False)\n",
    "\n",
    "    # Break the lyrics into chunks that fit within the token limit\n",
    "    chunks = [input_ids[i:i + max_tokens] for i in range(0, len(input_ids), max_tokens)]\n",
    "    \n",
    "    # Decode the token chunks back into string text\n",
    "    decoded_chunks = [tokeniser.decode(chunk, skip_special_tokens=True) for chunk in chunks]\n",
    "\n",
    "    return decoded_chunks"
   ]
  },
  {
   "cell_type": "code",
   "execution_count": 52,
   "id": "8bf5ce12-3d1d-4b01-ba4e-c5f4a867e292",
   "metadata": {},
   "outputs": [],
   "source": [
    "## Create a function to detect emotions\n",
    "\n",
    "# Load the model chosen with top_k=1 to get only the top emotion\n",
    "michelle = pipeline(task=\"text-classification\", model=\"michellejieli/emotion_text_classifier\", top_k=1)\n",
    "\n",
    "def detect_emotion(lyric):\n",
    "    # Perform quick, basic cleaning on the lyrics\n",
    "    lyric_clean = lyric.strip().replace('\\n', '').lower().replace(' ♪', '')\n",
    "\n",
    "    # Break the lyrics into chunks\n",
    "    chunks = chunk_lyrics_by_token(lyric_clean)\n",
    "\n",
    "    # Create an empty list for the predicted emotion of each chunk\n",
    "    all_emotions = []\n",
    "\n",
    "    # Loop through each chunk\n",
    "    for chunk in chunks:\n",
    "        # Predict and store the emotions for each chunk\n",
    "        try:\n",
    "            prediction = michelle(chunk)\n",
    "            all_emotions.append(prediction[0][0]['label'])  # Take the top label\n",
    "        except RuntimeError: # Occurs if the length of the chunk exceeds limit for any reason\n",
    "            return np.NaN # Return NaN for that lyric\n",
    "\n",
    "    # Select the most frequent emotion all the chunks for that song\n",
    "    return Counter(all_emotions).most_common(1)[0][0] # Only the label"
   ]
  },
  {
   "cell_type": "code",
   "execution_count": 14,
   "id": "1a6806a6-d37e-4bbf-9feb-cf896f8834da",
   "metadata": {},
   "outputs": [],
   "source": [
    "## Take a random subset of 10,000 songs\n",
    "lyrics_ss_df = lyrics_df.sample(n=10000, random_state=15)"
   ]
  },
  {
   "cell_type": "code",
   "execution_count": 16,
   "id": "1eb25806-8a38-4e16-8133-12eee07e9ab7",
   "metadata": {},
   "outputs": [],
   "source": [
    "## Reset the index\n",
    "lyrics_ss_df = lyrics_ss_df.reset_index(drop = True)"
   ]
  },
  {
   "cell_type": "code",
   "execution_count": 18,
   "id": "8a924db8-b1c3-4aaa-a5cb-cdc70cb276e3",
   "metadata": {},
   "outputs": [
    {
     "data": {
      "text/html": [
       "<div>\n",
       "<style scoped>\n",
       "    .dataframe tbody tr th:only-of-type {\n",
       "        vertical-align: middle;\n",
       "    }\n",
       "\n",
       "    .dataframe tbody tr th {\n",
       "        vertical-align: top;\n",
       "    }\n",
       "\n",
       "    .dataframe thead th {\n",
       "        text-align: right;\n",
       "    }\n",
       "</style>\n",
       "<table border=\"1\" class=\"dataframe\">\n",
       "  <thead>\n",
       "    <tr style=\"text-align: right;\">\n",
       "      <th></th>\n",
       "      <th>name</th>\n",
       "      <th>album_name</th>\n",
       "      <th>artists</th>\n",
       "      <th>lyrics</th>\n",
       "      <th>language</th>\n",
       "      <th>lyrics_length</th>\n",
       "    </tr>\n",
       "  </thead>\n",
       "  <tbody>\n",
       "    <tr>\n",
       "      <th>0</th>\n",
       "      <td>They Want War</td>\n",
       "      <td>NaN</td>\n",
       "      <td>U.D.O.</td>\n",
       "      <td>They are young and they're kids\\n And believe ...</td>\n",
       "      <td>en</td>\n",
       "      <td>1285</td>\n",
       "    </tr>\n",
       "    <tr>\n",
       "      <th>1</th>\n",
       "      <td>Cry</td>\n",
       "      <td>Asphodel</td>\n",
       "      <td>The Machine In The Garden</td>\n",
       "      <td>I cry for the things you know\\n the things tha...</td>\n",
       "      <td>en</td>\n",
       "      <td>285</td>\n",
       "    </tr>\n",
       "    <tr>\n",
       "      <th>2</th>\n",
       "      <td>Know Better (feat. Mister Blonde)</td>\n",
       "      <td>NaN</td>\n",
       "      <td>JayKode</td>\n",
       "      <td>We stay up till we see the sun\\n But I can nev...</td>\n",
       "      <td>en</td>\n",
       "      <td>1223</td>\n",
       "    </tr>\n",
       "    <tr>\n",
       "      <th>3</th>\n",
       "      <td>Baltimore</td>\n",
       "      <td>NaN</td>\n",
       "      <td>The Drifters</td>\n",
       "      <td>Beat-up little seagull\\n On a marble stair\\n T...</td>\n",
       "      <td>en</td>\n",
       "      <td>786</td>\n",
       "    </tr>\n",
       "    <tr>\n",
       "      <th>4</th>\n",
       "      <td>This Goodbye</td>\n",
       "      <td>Porcelain Heart</td>\n",
       "      <td>Beth Crowley</td>\n",
       "      <td>My world caught fire\\n You're the one who lit ...</td>\n",
       "      <td>en</td>\n",
       "      <td>1347</td>\n",
       "    </tr>\n",
       "  </tbody>\n",
       "</table>\n",
       "</div>"
      ],
      "text/plain": [
       "                                name       album_name  \\\n",
       "0                      They Want War              NaN   \n",
       "1                                Cry         Asphodel   \n",
       "2  Know Better (feat. Mister Blonde)              NaN   \n",
       "3                          Baltimore              NaN   \n",
       "4                       This Goodbye  Porcelain Heart   \n",
       "\n",
       "                     artists  \\\n",
       "0                     U.D.O.   \n",
       "1  The Machine In The Garden   \n",
       "2                    JayKode   \n",
       "3               The Drifters   \n",
       "4               Beth Crowley   \n",
       "\n",
       "                                              lyrics language  lyrics_length  \n",
       "0  They are young and they're kids\\n And believe ...       en           1285  \n",
       "1  I cry for the things you know\\n the things tha...       en            285  \n",
       "2  We stay up till we see the sun\\n But I can nev...       en           1223  \n",
       "3  Beat-up little seagull\\n On a marble stair\\n T...       en            786  \n",
       "4  My world caught fire\\n You're the one who lit ...       en           1347  "
      ]
     },
     "execution_count": 18,
     "metadata": {},
     "output_type": "execute_result"
    }
   ],
   "source": [
    "## Observe the first few rows\n",
    "lyrics_ss_df.head()"
   ]
  },
  {
   "cell_type": "code",
   "execution_count": 20,
   "id": "bb0d2909-468e-4b5b-9d37-84f4fade2d5d",
   "metadata": {},
   "outputs": [],
   "source": [
    "## Create a column to store the emotions\n",
    "lyrics_ss_df['emotion'] = np.nan"
   ]
  },
  {
   "cell_type": "code",
   "execution_count": 56,
   "id": "b11f4472-1f28-45be-bf3d-c4c5caa3fe0e",
   "metadata": {},
   "outputs": [
    {
     "name": "stderr",
     "output_type": "stream",
     "text": [
      "C:\\Users\\isabe\\AppData\\Local\\Temp\\ipykernel_11688\\2586408163.py:13: SettingWithCopyWarning: \n",
      "A value is trying to be set on a copy of a slice from a DataFrame.\n",
      "Try using .loc[row_indexer,col_indexer] = value instead\n",
      "\n",
      "See the caveats in the documentation: https://pandas.pydata.org/pandas-docs/stable/user_guide/indexing.html#returning-a-view-versus-a-copy\n",
      "  batch['emotion'] = batch['lyrics'].apply(detect_emotion)\n"
     ]
    }
   ],
   "source": [
    "## NOTE: This code was generated by ChatGPT to speed up the process of applying detect_emotion on the dataframe\n",
    "\n",
    "import concurrent.futures\n",
    "\n",
    "def parallel_batch_processing(df, batch_size=500, max_workers=8):\n",
    "    num_batches = len(df) // batch_size + 1  # Calculate number of batches\n",
    "\n",
    "    # Split the DataFrame into batches\n",
    "    batches = [df.iloc[i*batch_size:(i+1)*batch_size] for i in range(num_batches)]\n",
    "\n",
    "    # Function to process a batch and return the result\n",
    "    def process_batch(batch):\n",
    "        batch['emotion'] = batch['lyrics'].apply(detect_emotion)\n",
    "        return batch\n",
    "\n",
    "    # Use a ThreadPoolExecutor to process batches in parallel\n",
    "    with concurrent.futures.ThreadPoolExecutor(max_workers=max_workers) as executor:\n",
    "        results = list(executor.map(process_batch, batches))\n",
    "\n",
    "    # Concatenate the processed batches back together\n",
    "    return pd.concat(results, ignore_index=True)\n",
    "\n",
    "# Apply parallel batch processing\n",
    "lyrics_ss_df = parallel_batch_processing(lyrics_ss_df, batch_size=500, max_workers=8)"
   ]
  },
  {
   "cell_type": "code",
   "execution_count": 60,
   "id": "8340f10f-947b-4e5c-a9b3-dd5a9671cf74",
   "metadata": {},
   "outputs": [
    {
     "data": {
      "text/html": [
       "<div>\n",
       "<style scoped>\n",
       "    .dataframe tbody tr th:only-of-type {\n",
       "        vertical-align: middle;\n",
       "    }\n",
       "\n",
       "    .dataframe tbody tr th {\n",
       "        vertical-align: top;\n",
       "    }\n",
       "\n",
       "    .dataframe thead th {\n",
       "        text-align: right;\n",
       "    }\n",
       "</style>\n",
       "<table border=\"1\" class=\"dataframe\">\n",
       "  <thead>\n",
       "    <tr style=\"text-align: right;\">\n",
       "      <th></th>\n",
       "      <th>name</th>\n",
       "      <th>album_name</th>\n",
       "      <th>artists</th>\n",
       "      <th>lyrics</th>\n",
       "      <th>language</th>\n",
       "      <th>lyrics_length</th>\n",
       "      <th>emotion</th>\n",
       "    </tr>\n",
       "  </thead>\n",
       "  <tbody>\n",
       "    <tr>\n",
       "      <th>0</th>\n",
       "      <td>They Want War</td>\n",
       "      <td>NaN</td>\n",
       "      <td>U.D.O.</td>\n",
       "      <td>They are young and they're kids\\n And believe ...</td>\n",
       "      <td>en</td>\n",
       "      <td>1285</td>\n",
       "      <td>disgust</td>\n",
       "    </tr>\n",
       "    <tr>\n",
       "      <th>1</th>\n",
       "      <td>Cry</td>\n",
       "      <td>Asphodel</td>\n",
       "      <td>The Machine In The Garden</td>\n",
       "      <td>I cry for the things you know\\n the things tha...</td>\n",
       "      <td>en</td>\n",
       "      <td>285</td>\n",
       "      <td>sadness</td>\n",
       "    </tr>\n",
       "    <tr>\n",
       "      <th>2</th>\n",
       "      <td>Know Better (feat. Mister Blonde)</td>\n",
       "      <td>NaN</td>\n",
       "      <td>JayKode</td>\n",
       "      <td>We stay up till we see the sun\\n But I can nev...</td>\n",
       "      <td>en</td>\n",
       "      <td>1223</td>\n",
       "      <td>fear</td>\n",
       "    </tr>\n",
       "    <tr>\n",
       "      <th>3</th>\n",
       "      <td>Baltimore</td>\n",
       "      <td>NaN</td>\n",
       "      <td>The Drifters</td>\n",
       "      <td>Beat-up little seagull\\n On a marble stair\\n T...</td>\n",
       "      <td>en</td>\n",
       "      <td>786</td>\n",
       "      <td>sadness</td>\n",
       "    </tr>\n",
       "    <tr>\n",
       "      <th>4</th>\n",
       "      <td>This Goodbye</td>\n",
       "      <td>Porcelain Heart</td>\n",
       "      <td>Beth Crowley</td>\n",
       "      <td>My world caught fire\\n You're the one who lit ...</td>\n",
       "      <td>en</td>\n",
       "      <td>1347</td>\n",
       "      <td>sadness</td>\n",
       "    </tr>\n",
       "  </tbody>\n",
       "</table>\n",
       "</div>"
      ],
      "text/plain": [
       "                                name       album_name  \\\n",
       "0                      They Want War              NaN   \n",
       "1                                Cry         Asphodel   \n",
       "2  Know Better (feat. Mister Blonde)              NaN   \n",
       "3                          Baltimore              NaN   \n",
       "4                       This Goodbye  Porcelain Heart   \n",
       "\n",
       "                     artists  \\\n",
       "0                     U.D.O.   \n",
       "1  The Machine In The Garden   \n",
       "2                    JayKode   \n",
       "3               The Drifters   \n",
       "4               Beth Crowley   \n",
       "\n",
       "                                              lyrics language  lyrics_length  \\\n",
       "0  They are young and they're kids\\n And believe ...       en           1285   \n",
       "1  I cry for the things you know\\n the things tha...       en            285   \n",
       "2  We stay up till we see the sun\\n But I can nev...       en           1223   \n",
       "3  Beat-up little seagull\\n On a marble stair\\n T...       en            786   \n",
       "4  My world caught fire\\n You're the one who lit ...       en           1347   \n",
       "\n",
       "   emotion  \n",
       "0  disgust  \n",
       "1  sadness  \n",
       "2     fear  \n",
       "3  sadness  \n",
       "4  sadness  "
      ]
     },
     "execution_count": 60,
     "metadata": {},
     "output_type": "execute_result"
    }
   ],
   "source": [
    "## Observe the first few rows\n",
    "lyrics_ss_df.head()"
   ]
  },
  {
   "cell_type": "code",
   "execution_count": 64,
   "id": "ab7821d4-4f80-4e14-a69e-4a02426ed70b",
   "metadata": {},
   "outputs": [
    {
     "data": {
      "text/plain": [
       "0"
      ]
     },
     "execution_count": 64,
     "metadata": {},
     "output_type": "execute_result"
    }
   ],
   "source": [
    "## Check for any null values for the emotion\n",
    "\n",
    "lyrics_ss_df['emotion'].isnull().sum()"
   ]
  },
  {
   "cell_type": "code",
   "execution_count": 73,
   "id": "8b083430-207d-4910-be48-60e16c114cdc",
   "metadata": {},
   "outputs": [],
   "source": [
    "## Save the file (no need to re-run code)\n",
    "\n",
    "lyrics_ss_df.to_csv(\"Data\\lyrics_with_emotions.csv\", index = False)"
   ]
  },
  {
   "cell_type": "markdown",
   "id": "c2a8c538-7c55-43ae-8b89-6f9a225ed607",
   "metadata": {
    "jp-MarkdownHeadingCollapsed": true
   },
   "source": [
    "### 2.3 Explore the Songs by Emotion"
   ]
  },
  {
   "cell_type": "code",
   "execution_count": 3,
   "id": "4e007a7d-afeb-485f-af35-85f7dbcdbbce",
   "metadata": {},
   "outputs": [
    {
     "data": {
      "text/html": [
       "<div>\n",
       "<style scoped>\n",
       "    .dataframe tbody tr th:only-of-type {\n",
       "        vertical-align: middle;\n",
       "    }\n",
       "\n",
       "    .dataframe tbody tr th {\n",
       "        vertical-align: top;\n",
       "    }\n",
       "\n",
       "    .dataframe thead th {\n",
       "        text-align: right;\n",
       "    }\n",
       "</style>\n",
       "<table border=\"1\" class=\"dataframe\">\n",
       "  <thead>\n",
       "    <tr style=\"text-align: right;\">\n",
       "      <th></th>\n",
       "      <th>name</th>\n",
       "      <th>album_name</th>\n",
       "      <th>artists</th>\n",
       "      <th>lyrics</th>\n",
       "      <th>language</th>\n",
       "      <th>lyrics_length</th>\n",
       "      <th>emotion</th>\n",
       "    </tr>\n",
       "  </thead>\n",
       "  <tbody>\n",
       "    <tr>\n",
       "      <th>0</th>\n",
       "      <td>They Want War</td>\n",
       "      <td>NaN</td>\n",
       "      <td>U.D.O.</td>\n",
       "      <td>They are young and they're kids\\n And believe ...</td>\n",
       "      <td>en</td>\n",
       "      <td>1285</td>\n",
       "      <td>disgust</td>\n",
       "    </tr>\n",
       "    <tr>\n",
       "      <th>1</th>\n",
       "      <td>Cry</td>\n",
       "      <td>Asphodel</td>\n",
       "      <td>The Machine In The Garden</td>\n",
       "      <td>I cry for the things you know\\n the things tha...</td>\n",
       "      <td>en</td>\n",
       "      <td>285</td>\n",
       "      <td>sadness</td>\n",
       "    </tr>\n",
       "    <tr>\n",
       "      <th>2</th>\n",
       "      <td>Know Better (feat. Mister Blonde)</td>\n",
       "      <td>NaN</td>\n",
       "      <td>JayKode</td>\n",
       "      <td>We stay up till we see the sun\\n But I can nev...</td>\n",
       "      <td>en</td>\n",
       "      <td>1223</td>\n",
       "      <td>fear</td>\n",
       "    </tr>\n",
       "    <tr>\n",
       "      <th>3</th>\n",
       "      <td>Baltimore</td>\n",
       "      <td>NaN</td>\n",
       "      <td>The Drifters</td>\n",
       "      <td>Beat-up little seagull\\n On a marble stair\\n T...</td>\n",
       "      <td>en</td>\n",
       "      <td>786</td>\n",
       "      <td>sadness</td>\n",
       "    </tr>\n",
       "    <tr>\n",
       "      <th>4</th>\n",
       "      <td>This Goodbye</td>\n",
       "      <td>Porcelain Heart</td>\n",
       "      <td>Beth Crowley</td>\n",
       "      <td>My world caught fire\\n You're the one who lit ...</td>\n",
       "      <td>en</td>\n",
       "      <td>1347</td>\n",
       "      <td>sadness</td>\n",
       "    </tr>\n",
       "  </tbody>\n",
       "</table>\n",
       "</div>"
      ],
      "text/plain": [
       "                                name       album_name  \\\n",
       "0                      They Want War              NaN   \n",
       "1                                Cry         Asphodel   \n",
       "2  Know Better (feat. Mister Blonde)              NaN   \n",
       "3                          Baltimore              NaN   \n",
       "4                       This Goodbye  Porcelain Heart   \n",
       "\n",
       "                     artists  \\\n",
       "0                     U.D.O.   \n",
       "1  The Machine In The Garden   \n",
       "2                    JayKode   \n",
       "3               The Drifters   \n",
       "4               Beth Crowley   \n",
       "\n",
       "                                              lyrics language  lyrics_length  \\\n",
       "0  They are young and they're kids\\n And believe ...       en           1285   \n",
       "1  I cry for the things you know\\n the things tha...       en            285   \n",
       "2  We stay up till we see the sun\\n But I can nev...       en           1223   \n",
       "3  Beat-up little seagull\\n On a marble stair\\n T...       en            786   \n",
       "4  My world caught fire\\n You're the one who lit ...       en           1347   \n",
       "\n",
       "   emotion  \n",
       "0  disgust  \n",
       "1  sadness  \n",
       "2     fear  \n",
       "3  sadness  \n",
       "4  sadness  "
      ]
     },
     "execution_count": 3,
     "metadata": {},
     "output_type": "execute_result"
    }
   ],
   "source": [
    "## Observe the first few records\n",
    "lyrics_emotions = pd.read_csv(\"Data/lyrics_with_emotions.csv\")\n",
    "lyrics_emotions.head(5)"
   ]
  },
  {
   "cell_type": "code",
   "execution_count": 99,
   "id": "1cb99d00-4dc3-48ef-b482-19c5bade1905",
   "metadata": {},
   "outputs": [
    {
     "data": {
      "image/png": "[encoded data removed]",
      "text/plain": [
       "<Figure size 640x480 with 1 Axes>"
      ]
     },
     "metadata": {},
     "output_type": "display_data"
    }
   ],
   "source": [
    "## Plot the distribution of songs by emotion\n",
    "\n",
    "# Create a dataframe with the count of each emotion\n",
    "emotion_count = pd.DataFrame(lyrics_emotions['emotion'].value_counts())\n",
    "\n",
    "# Set a style\n",
    "sns.set_style(\"darkgrid\")\n",
    "\n",
    "# Set a custom colour palette\n",
    "custom_palette = sns.color_palette(\"blend:#00D1E9,#00e4ae\", n_colors= 7)\n",
    "\n",
    "# Plot the barplot\n",
    "ax = sns.barplot(data = emotion_count,\n",
    "            x = 'emotion',\n",
    "            y = 'count',\n",
    "            palette = custom_palette,\n",
    "            hue = 'emotion'\n",
    "           )\n",
    "\n",
    "# Adjust the x-axis labels\n",
    "plt.xticks(rotation= 45, # rotating labels\n",
    "           horizontalalignment = 'right' , # aligning them with the bars\n",
    "           fontweight = 'light',\n",
    "           fontsize = 'medium' # setting the fonts\n",
    "          )\n",
    "\n",
    "# Add a title and labels\n",
    "plt.title('Distribution of Songs by Emotion')\n",
    "plt.xlabel('Emotion')\n",
    "plt.ylabel('Number of Songs')\n",
    "\n",
    "# Add the song count as annotations on the bar\n",
    "for i in ax.containers:\n",
    "    ax.bar_label(i,)\n",
    "\n",
    "# Save the image\n",
    "plt.savefig('emotion_song_distribution.png', \n",
    "            dpi=300,              # High resolution\n",
    "            bbox_inches='tight',  # Removes extra whitespace\n",
    "            pad_inches=0.1)       # Adds small padding\n",
    "\n",
    "# Display the plot\n",
    "plt.tight_layout()\n",
    "plt.show()"
   ]
  },
  {
   "cell_type": "markdown",
   "id": "12127061-6fd7-4e17-a223-2967010481a7",
   "metadata": {},
   "source": [
    "The majority of the detected songs fall under the 'joy' category followed by 'sadness'. This is in line with my hypothesis as most songs tend to be happy or sad from personal experience. This would also be the most common situations people would want to listen to songs too, and works for the purpose of mood-based song recommendation. "
   ]
  },
  {
   "cell_type": "code",
   "execution_count": 137,
   "id": "34e422a0-e645-42aa-887e-c69c4657d88a",
   "metadata": {},
   "outputs": [
    {
     "data": {
      "text/plain": [
       "emotion\n",
       "anger       1625.669836\n",
       "joy         1462.736012\n",
       "fear        1403.949008\n",
       "neutral     1296.215762\n",
       "sadness     1275.823698\n",
       "surprise    1227.766667\n",
       "disgust     1191.707143\n",
       "Name: lyrics_length, dtype: float64"
      ]
     },
     "execution_count": 137,
     "metadata": {},
     "output_type": "execute_result"
    }
   ],
   "source": [
    "## Average lyrics length by emotion\n",
    "\n",
    "lyrics_emotions.groupby('emotion')['lyrics_length'].mean().sort_values(ascending=False)"
   ]
  },
  {
   "cell_type": "markdown",
   "id": "af669fe2-7352-414e-9f0a-fd5c303e7ca3",
   "metadata": {},
   "source": [
    "There is not too much difference, but anger songs tend to have more lyrics than others. This could be due to rap genre songs tend to having more angry lyrics and rap songs are lyrics-heavy."
   ]
  },
  {
   "cell_type": "code",
   "execution_count": 207,
   "id": "b7c112b7-6d8c-4b6a-b0cd-6857ce026814",
   "metadata": {},
   "outputs": [
    {
     "data": {
      "text/plain": [
       "emotion\n",
       "joy         3801\n",
       "sadness     2134\n",
       "anger       1064\n",
       "neutral      738\n",
       "fear         671\n",
       "disgust      134\n",
       "surprise      29\n",
       "Name: artists, dtype: int64"
      ]
     },
     "execution_count": 207,
     "metadata": {},
     "output_type": "execute_result"
    }
   ],
   "source": [
    "## How many unique artists are there per emotion? \n",
    "\n",
    "lyrics_emotions.groupby('emotion')['artists'].nunique().sort_values(ascending=False)"
   ]
  },
  {
   "cell_type": "markdown",
   "id": "3bac0e4e-94e4-41ab-bff5-839a77b346c3",
   "metadata": {},
   "source": [
    "Almost follows the song distribution identically - this means that each emotion is not particularily contributed by a couple of artists."
   ]
  },
  {
   "cell_type": "code",
   "execution_count": 166,
   "id": "66e3bc5e-38bd-455a-91c0-b0065ddaa302",
   "metadata": {},
   "outputs": [
    {
     "data": {
      "text/html": [
       "<div>\n",
       "<style scoped>\n",
       "    .dataframe tbody tr th:only-of-type {\n",
       "        vertical-align: middle;\n",
       "    }\n",
       "\n",
       "    .dataframe tbody tr th {\n",
       "        vertical-align: top;\n",
       "    }\n",
       "\n",
       "    .dataframe thead th {\n",
       "        text-align: right;\n",
       "    }\n",
       "</style>\n",
       "<table border=\"1\" class=\"dataframe\">\n",
       "  <thead>\n",
       "    <tr style=\"text-align: right;\">\n",
       "      <th></th>\n",
       "      <th>name</th>\n",
       "      <th>album_name</th>\n",
       "      <th>artists</th>\n",
       "      <th>lyrics</th>\n",
       "      <th>language</th>\n",
       "      <th>lyrics_length</th>\n",
       "      <th>emotion</th>\n",
       "    </tr>\n",
       "  </thead>\n",
       "  <tbody>\n",
       "    <tr>\n",
       "      <th>count</th>\n",
       "      <td>10000</td>\n",
       "      <td>4136</td>\n",
       "      <td>10000</td>\n",
       "      <td>10000</td>\n",
       "      <td>10000</td>\n",
       "      <td>10000.000000</td>\n",
       "      <td>10000</td>\n",
       "    </tr>\n",
       "    <tr>\n",
       "      <th>unique</th>\n",
       "      <td>9586</td>\n",
       "      <td>3866</td>\n",
       "      <td>7122</td>\n",
       "      <td>10000</td>\n",
       "      <td>1</td>\n",
       "      <td>NaN</td>\n",
       "      <td>7</td>\n",
       "    </tr>\n",
       "    <tr>\n",
       "      <th>top</th>\n",
       "      <td>Save Me</td>\n",
       "      <td>Greatest Hits</td>\n",
       "      <td>Various Artists</td>\n",
       "      <td>They are young and they're kids\\n And believe ...</td>\n",
       "      <td>en</td>\n",
       "      <td>NaN</td>\n",
       "      <td>joy</td>\n",
       "    </tr>\n",
       "    <tr>\n",
       "      <th>freq</th>\n",
       "      <td>8</td>\n",
       "      <td>11</td>\n",
       "      <td>40</td>\n",
       "      <td>1</td>\n",
       "      <td>10000</td>\n",
       "      <td>NaN</td>\n",
       "      <td>4754</td>\n",
       "    </tr>\n",
       "    <tr>\n",
       "      <th>mean</th>\n",
       "      <td>NaN</td>\n",
       "      <td>NaN</td>\n",
       "      <td>NaN</td>\n",
       "      <td>NaN</td>\n",
       "      <td>NaN</td>\n",
       "      <td>1414.461200</td>\n",
       "      <td>NaN</td>\n",
       "    </tr>\n",
       "    <tr>\n",
       "      <th>std</th>\n",
       "      <td>NaN</td>\n",
       "      <td>NaN</td>\n",
       "      <td>NaN</td>\n",
       "      <td>NaN</td>\n",
       "      <td>NaN</td>\n",
       "      <td>1101.875732</td>\n",
       "      <td>NaN</td>\n",
       "    </tr>\n",
       "    <tr>\n",
       "      <th>min</th>\n",
       "      <td>NaN</td>\n",
       "      <td>NaN</td>\n",
       "      <td>NaN</td>\n",
       "      <td>NaN</td>\n",
       "      <td>NaN</td>\n",
       "      <td>16.000000</td>\n",
       "      <td>NaN</td>\n",
       "    </tr>\n",
       "    <tr>\n",
       "      <th>25%</th>\n",
       "      <td>NaN</td>\n",
       "      <td>NaN</td>\n",
       "      <td>NaN</td>\n",
       "      <td>NaN</td>\n",
       "      <td>NaN</td>\n",
       "      <td>818.000000</td>\n",
       "      <td>NaN</td>\n",
       "    </tr>\n",
       "    <tr>\n",
       "      <th>50%</th>\n",
       "      <td>NaN</td>\n",
       "      <td>NaN</td>\n",
       "      <td>NaN</td>\n",
       "      <td>NaN</td>\n",
       "      <td>NaN</td>\n",
       "      <td>1183.000000</td>\n",
       "      <td>NaN</td>\n",
       "    </tr>\n",
       "    <tr>\n",
       "      <th>75%</th>\n",
       "      <td>NaN</td>\n",
       "      <td>NaN</td>\n",
       "      <td>NaN</td>\n",
       "      <td>NaN</td>\n",
       "      <td>NaN</td>\n",
       "      <td>1664.000000</td>\n",
       "      <td>NaN</td>\n",
       "    </tr>\n",
       "    <tr>\n",
       "      <th>max</th>\n",
       "      <td>NaN</td>\n",
       "      <td>NaN</td>\n",
       "      <td>NaN</td>\n",
       "      <td>NaN</td>\n",
       "      <td>NaN</td>\n",
       "      <td>21954.000000</td>\n",
       "      <td>NaN</td>\n",
       "    </tr>\n",
       "  </tbody>\n",
       "</table>\n",
       "</div>"
      ],
      "text/plain": [
       "           name     album_name          artists  \\\n",
       "count     10000           4136            10000   \n",
       "unique     9586           3866             7122   \n",
       "top     Save Me  Greatest Hits  Various Artists   \n",
       "freq          8             11               40   \n",
       "mean        NaN            NaN              NaN   \n",
       "std         NaN            NaN              NaN   \n",
       "min         NaN            NaN              NaN   \n",
       "25%         NaN            NaN              NaN   \n",
       "50%         NaN            NaN              NaN   \n",
       "75%         NaN            NaN              NaN   \n",
       "max         NaN            NaN              NaN   \n",
       "\n",
       "                                                   lyrics language  \\\n",
       "count                                               10000    10000   \n",
       "unique                                              10000        1   \n",
       "top     They are young and they're kids\\n And believe ...       en   \n",
       "freq                                                    1    10000   \n",
       "mean                                                  NaN      NaN   \n",
       "std                                                   NaN      NaN   \n",
       "min                                                   NaN      NaN   \n",
       "25%                                                   NaN      NaN   \n",
       "50%                                                   NaN      NaN   \n",
       "75%                                                   NaN      NaN   \n",
       "max                                                   NaN      NaN   \n",
       "\n",
       "        lyrics_length emotion  \n",
       "count    10000.000000   10000  \n",
       "unique            NaN       7  \n",
       "top               NaN     joy  \n",
       "freq              NaN    4754  \n",
       "mean      1414.461200     NaN  \n",
       "std       1101.875732     NaN  \n",
       "min         16.000000     NaN  \n",
       "25%        818.000000     NaN  \n",
       "50%       1183.000000     NaN  \n",
       "75%       1664.000000     NaN  \n",
       "max      21954.000000     NaN  "
      ]
     },
     "execution_count": 166,
     "metadata": {},
     "output_type": "execute_result"
    }
   ],
   "source": [
    "## How many unique artists are there now? \n",
    "\n",
    "lyrics_emotions.describe(include = 'all') # 7,122 artists for 10,000 songs. Most common is 'Various Artists'."
   ]
  },
  {
   "cell_type": "code",
   "execution_count": 176,
   "id": "d85b8088-72e3-4336-a510-1cf14a540c51",
   "metadata": {},
   "outputs": [
    {
     "data": {
      "text/plain": [
       "artists\n",
       "Various Artists    40\n",
       "Bob Dylan          30\n",
       "Grateful Dead      27\n",
       "Aretha Franklin    18\n",
       "Elvis Presley      18\n",
       "Johnny Cash        16\n",
       "Billy Joel         12\n",
       "Dolly Parton       12\n",
       "Frank Sinatra      11\n",
       "Fleetwood Mac      11\n",
       "Name: name, dtype: int64"
      ]
     },
     "execution_count": 176,
     "metadata": {},
     "output_type": "execute_result"
    }
   ],
   "source": [
    "## Most popular artists - Top 10\n",
    "\n",
    "lyrics_emotions.groupby('artists')['name'].nunique().sort_values(ascending = False).head(10)"
   ]
  },
  {
   "cell_type": "code",
   "execution_count": 209,
   "id": "88c29ae5-c273-4aa9-a0d5-75bbd850858a",
   "metadata": {},
   "outputs": [
    {
     "data": {
      "text/html": [
       "<div>\n",
       "<style scoped>\n",
       "    .dataframe tbody tr th:only-of-type {\n",
       "        vertical-align: middle;\n",
       "    }\n",
       "\n",
       "    .dataframe tbody tr th {\n",
       "        vertical-align: top;\n",
       "    }\n",
       "\n",
       "    .dataframe thead th {\n",
       "        text-align: right;\n",
       "    }\n",
       "</style>\n",
       "<table border=\"1\" class=\"dataframe\">\n",
       "  <thead>\n",
       "    <tr style=\"text-align: right;\">\n",
       "      <th></th>\n",
       "      <th></th>\n",
       "      <th>count</th>\n",
       "    </tr>\n",
       "    <tr>\n",
       "      <th>artists</th>\n",
       "      <th>emotion</th>\n",
       "      <th></th>\n",
       "    </tr>\n",
       "  </thead>\n",
       "  <tbody>\n",
       "    <tr>\n",
       "      <th>Various Artists</th>\n",
       "      <th>joy</th>\n",
       "      <td>25</td>\n",
       "    </tr>\n",
       "    <tr>\n",
       "      <th>Elvis Presley</th>\n",
       "      <th>joy</th>\n",
       "      <td>13</td>\n",
       "    </tr>\n",
       "    <tr>\n",
       "      <th>Frank Sinatra</th>\n",
       "      <th>joy</th>\n",
       "      <td>11</td>\n",
       "    </tr>\n",
       "    <tr>\n",
       "      <th rowspan=\"2\" valign=\"top\">Bob Dylan</th>\n",
       "      <th>sadness</th>\n",
       "      <td>10</td>\n",
       "    </tr>\n",
       "    <tr>\n",
       "      <th>joy</th>\n",
       "      <td>9</td>\n",
       "    </tr>\n",
       "    <tr>\n",
       "      <th rowspan=\"2\" valign=\"top\">Grateful Dead</th>\n",
       "      <th>sadness</th>\n",
       "      <td>9</td>\n",
       "    </tr>\n",
       "    <tr>\n",
       "      <th>joy</th>\n",
       "      <td>9</td>\n",
       "    </tr>\n",
       "    <tr>\n",
       "      <th>Aretha Franklin</th>\n",
       "      <th>joy</th>\n",
       "      <td>8</td>\n",
       "    </tr>\n",
       "    <tr>\n",
       "      <th>Dolly Parton</th>\n",
       "      <th>joy</th>\n",
       "      <td>8</td>\n",
       "    </tr>\n",
       "    <tr>\n",
       "      <th>Elton John</th>\n",
       "      <th>joy</th>\n",
       "      <td>8</td>\n",
       "    </tr>\n",
       "  </tbody>\n",
       "</table>\n",
       "</div>"
      ],
      "text/plain": [
       "                         count\n",
       "artists         emotion       \n",
       "Various Artists joy         25\n",
       "Elvis Presley   joy         13\n",
       "Frank Sinatra   joy         11\n",
       "Bob Dylan       sadness     10\n",
       "                joy          9\n",
       "Grateful Dead   sadness      9\n",
       "                joy          9\n",
       "Aretha Franklin joy          8\n",
       "Dolly Parton    joy          8\n",
       "Elton John      joy          8"
      ]
     },
     "execution_count": 209,
     "metadata": {},
     "output_type": "execute_result"
    }
   ],
   "source": [
    "## Emotions count of artists - are there any artists which make only one type of song?\n",
    "artists_emotion_dist = pd.DataFrame(lyrics_emotions.groupby(['artists', 'emotion'])['emotion'].value_counts())\n",
    "artists_emotion_dist.sort_values(by = 'count', ascending = False).head(10)"
   ]
  },
  {
   "cell_type": "code",
   "execution_count": 5,
   "id": "e87dd8da-b3d7-4ef9-a2aa-d583c5f0ae1a",
   "metadata": {},
   "outputs": [
    {
     "data": {
      "text/plain": [
       "[\"There's something about the way\",\n",
       " \"The street looks when it's just rained\",\n",
       " \"There's a glow off the pavement\",\n",
       " 'You walk me to the car',\n",
       " 'And you know I wanna ask you to dance right there',\n",
       " 'In the middle of the parking lot, yeah',\n",
       " '♪',\n",
       " \"We're drivin' down the road, I wonder if you know\",\n",
       " \"I'm trying so hard not to get caught up now\",\n",
       " \"But you're just so cool, run your hands through your hair\",\n",
       " \"Absentmindedly makin' me want you\",\n",
       " \"And I don't know how it gets better than this\",\n",
       " 'You take my hand and drag me headfirst, fearless',\n",
       " \"And I don't know why but with you I'd dance\",\n",
       " 'In a storm in my best dress, fearless',\n",
       " '♪',\n",
       " \"So baby drive slow 'til we run out of road\",\n",
       " 'In this one-horse town, I wanna stay right here',\n",
       " 'In this passenger seat, you put your eyes on me',\n",
       " 'In this moment, now capture it, remember it',\n",
       " \"'Cause I don't know how it gets better than this\",\n",
       " 'You take my hand and drag me headfirst, fearless',\n",
       " \"And I don't know why but with you I'd dance\",\n",
       " 'In a storm in my best dress, fearless',\n",
       " '♪',\n",
       " 'Well, you stood there with me in the doorway',\n",
       " \"My hands shake, I'm not usually this way\",\n",
       " \"But you pull me in and I'm a little more brave\",\n",
       " \"It's the first kiss, it's flawless, really somethin'\",\n",
       " \"It's fearless\",\n",
       " 'Oh yeah',\n",
       " \"'Cause I don't know how it gets better than this\",\n",
       " 'You take my hand and drag me headfirst, fearless',\n",
       " \"And I don't know why but with you I'd dance\",\n",
       " 'In a storm in my best dress, fearless',\n",
       " \"'Cause I don't know how it gets better than this\",\n",
       " 'You take my hand and drag me headfirst, fearless',\n",
       " \"And I don't know why but with you I'd dance\",\n",
       " 'In a storm in my best dress, fearless',\n",
       " 'Oh, oh, oh yeah',\n",
       " '']"
      ]
     },
     "execution_count": 5,
     "metadata": {},
     "output_type": "execute_result"
    }
   ],
   "source": [
    "## Observe a good 'joy' example\n",
    "lyrics_emotions[(lyrics_emotions['emotion'] == 'joy') & (lyrics_emotions['name'] == 'Fearless')]['lyrics'].iloc[0].split('\\n ')"
   ]
  },
  {
   "cell_type": "code",
   "execution_count": 7,
   "id": "5925d4e9-bb45-4343-b006-49bade04d60e",
   "metadata": {},
   "outputs": [
    {
     "data": {
      "text/plain": [
       "name                                                      Fearless\n",
       "album_name                                                     NaN\n",
       "artists                                               Taylor Swift\n",
       "lyrics           There's something about the way\\n The street l...\n",
       "language                                                        en\n",
       "lyrics_length                                                 1571\n",
       "emotion                                                        joy\n",
       "Name: 8363, dtype: object"
      ]
     },
     "execution_count": 7,
     "metadata": {},
     "output_type": "execute_result"
    }
   ],
   "source": [
    "lyrics_emotions[(lyrics_emotions['emotion'] == 'joy') & (lyrics_emotions['name'] == 'Fearless')].iloc[0]"
   ]
  },
  {
   "cell_type": "code",
   "execution_count": 260,
   "id": "95a87c61-6d52-4a4a-b16b-4ebb15535d57",
   "metadata": {},
   "outputs": [
    {
     "data": {
      "text/plain": [
       "['Left to decay in your hole forgotten',\n",
       " 'Lying down isolated and rotten',\n",
       " 'Worms drill through your guts so fresh',\n",
       " 'Puncturing the putrescent flesh',\n",
       " 'Inside the shell pathogens incubate',\n",
       " 'Microbial feast on flesh awaits',\n",
       " 'Stinking ooze of acidic compounds',\n",
       " 'Contamination spreads all around',\n",
       " 'Odious stench thickens and creeps...',\n",
       " 'Putrefaction juice slowly seeps...']"
      ]
     },
     "execution_count": 260,
     "metadata": {},
     "output_type": "execute_result"
    }
   ],
   "source": [
    "## Observe a good 'disgust' example \n",
    "\n",
    "lyrics_emotions[lyrics_emotions['emotion'] == 'disgust']['lyrics'].iloc[5].split('\\n ')"
   ]
  },
  {
   "cell_type": "code",
   "execution_count": 262,
   "id": "06b125be-9c3e-49cd-921a-cc1939fc9766",
   "metadata": {},
   "outputs": [
    {
     "data": {
      "text/plain": [
       "name                                     Ominous Seep of Putridity\n",
       "album_name                                                     NaN\n",
       "artists                                                   Morbific\n",
       "lyrics           Left to decay in your hole forgotten\\n Lying d...\n",
       "language                                                        en\n",
       "lyrics_length                                                  354\n",
       "emotion                                                    disgust\n",
       "Name: 539, dtype: object"
      ]
     },
     "execution_count": 262,
     "metadata": {},
     "output_type": "execute_result"
    }
   ],
   "source": [
    "lyrics_emotions[lyrics_emotions['emotion'] == 'disgust'].iloc[5]"
   ]
  },
  {
   "cell_type": "markdown",
   "id": "a36862a2-d086-4955-8e5a-002cf71b3feb",
   "metadata": {},
   "source": [
    "This an example of a good 'disgust' emotion, though I find quite a few of them are not actually disgust/ a mix of emotions."
   ]
  },
  {
   "cell_type": "code",
   "execution_count": 328,
   "id": "1ad33149-fa0b-4426-bc4e-d45437518abf",
   "metadata": {},
   "outputs": [
    {
     "data": {
      "text/plain": [
       "[\"It's what I want, hurry and buy\",\n",
       " 'All has been tried, follow reason and buy',\n",
       " \"Cannot shuffle in this heat, it's all wrong\",\n",
       " \"Try to put that on your sleeve, it's all wrong, it's all wrong\",\n",
       " \"He's got a pretty persuasion\",\n",
       " \"She's got pretty persuasion\",\n",
       " 'God damn pure confusion',\n",
       " \"She's got pretty persuasion\",\n",
       " \"It's what I want, hurry and buy\",\n",
       " 'All has been tried, follow reasoning',\n",
       " \"And I put that in this heat, it's all wrong\",\n",
       " \"Try to wear that on my sleeve, it's all wrong, it's all wrong\",\n",
       " \"He's got a pretty persuasion\",\n",
       " \"She's got pretty persuasion\",\n",
       " 'God damn, pure confusion',\n",
       " \"He's got pretty persuasion\",\n",
       " 'In the light I saw',\n",
       " 'Quite a scene there',\n",
       " \"It's what I want, hurry and buy,\",\n",
       " 'All has been tried, follow reason and buy,',\n",
       " \"Try to put that in this heat, it's all wrong\",\n",
       " \"Cannot wear that on your sleeve, it's all wrong, it's all wrong\",\n",
       " \"He's got a pretty persuasion\",\n",
       " \"She's got pretty persuasion\",\n",
       " 'God damn, pure confusion',\n",
       " \"He's got pretty persuasion\"]"
      ]
     },
     "execution_count": 328,
     "metadata": {},
     "output_type": "execute_result"
    }
   ],
   "source": [
    "##] Observe a bad 'disgust' example\n",
    "lyrics_emotions[lyrics_emotions['emotion'] == 'disgust']['lyrics'].iloc[3].split('\\n ')"
   ]
  },
  {
   "cell_type": "code",
   "execution_count": 304,
   "id": "16290314-06f0-4e8f-8947-b98b5423e23e",
   "metadata": {},
   "outputs": [
    {
     "data": {
      "text/plain": [
       "name                                             Pretty Persuasion\n",
       "album_name                                                     NaN\n",
       "artists                                                     R.E.M.\n",
       "lyrics           It's what I want, hurry and buy\\n All has been...\n",
       "language                                                        en\n",
       "lyrics_length                                                  931\n",
       "emotion                                                    disgust\n",
       "Name: 239, dtype: object"
      ]
     },
     "execution_count": 304,
     "metadata": {},
     "output_type": "execute_result"
    }
   ],
   "source": [
    "lyrics_emotions[lyrics_emotions['emotion'] == 'disgust'].iloc[3]"
   ]
  },
  {
   "cell_type": "markdown",
   "id": "effa2696-fd35-477e-9e82-9b9cc35b07fd",
   "metadata": {},
   "source": [
    "This above I would say it's closer to frustration or confusion. However, it was labelled as 'digust'. This shows a limitation of this model (only 6 emotions) as it had to be labelled something. A possible reason for 'disgust' is 'it's all wrong', 'hurry and buy', as they can indicate frustration which can be similar to digust."
   ]
  },
  {
   "cell_type": "code",
   "execution_count": 334,
   "id": "eefbf1da-2921-43ce-91a0-7d6789b00c84",
   "metadata": {},
   "outputs": [
    {
     "data": {
      "text/plain": [
       "['A red priest broke into our classroom',\n",
       " 'Caught us children by attention',\n",
       " '\"Listen closely to the words I speak',\n",
       " 'Lord knows if we\\'ll ever ever again meet\"',\n",
       " 'Spoke such words never spoken before',\n",
       " 'On the way he declared a war',\n",
       " \"Miracles like you've never seen\",\n",
       " 'From a man who was raised up in the sea',\n",
       " 'A man is coming in thirteen-one',\n",
       " 'To charm the daughters and the sons',\n",
       " 'Scared for our lives, I turned to your hands',\n",
       " 'Hold this tight while we run, if we still can',\n",
       " 'What disasters may come, whatever it may be',\n",
       " 'At the end of the age, it will land you and me',\n",
       " 'What tragedy may bring, whatever may fall',\n",
       " 'At the end of the world, you still belong',\n",
       " 'Before the red priest took his last breath',\n",
       " 'He told me, \"Child, now don\\'t forget',\n",
       " 'The sun will turn dark very soon',\n",
       " \"And the days are numbered when there's blood on the moon\",\n",
       " 'The earth will shake and the sky will fall',\n",
       " 'The eyes will open of those involved',\n",
       " \"Don't take this son, but you'll be killed\",\n",
       " 'By the man from seven hills\"',\n",
       " 'A man is coming in thirteen-one',\n",
       " 'To charm the daughters and the sons',\n",
       " 'Scared for our lives, I turned to your hand',\n",
       " 'Hold this tight while we run, if we still can',\n",
       " 'What disasters may come, whatever it may be',\n",
       " 'At the end of the age, it will land you and me',\n",
       " 'What tragedy may bring, whenever it may fall',\n",
       " 'At the end of the world, you still belong',\n",
       " 'Look children to the eastern sky when you hear the voice say your last goodbyes',\n",
       " 'Look there to the eastern skies when the ghosts take hold of the men who died',\n",
       " 'Look children to the eastern sky when your fathers weep, and your mothers cry',\n",
       " 'Look children to the eastern sky',\n",
       " 'What disasters may come, whatever it may be',\n",
       " 'At the end of the age, it will land you and me',\n",
       " 'What tragedy may bring, whatever may fall',\n",
       " 'At the end of the world, you still belong',\n",
       " 'Look children to the eastern sky when you hear the voice say your last goodbyes',\n",
       " 'Look there to the eastern skies when the ghosts take hold of the men who died',\n",
       " 'Look children to the eastern sky when your fathers weep, and your mothers cry',\n",
       " 'Look children to the eastern sky',\n",
       " 'Look children to the eastern sky']"
      ]
     },
     "execution_count": 334,
     "metadata": {},
     "output_type": "execute_result"
    }
   ],
   "source": [
    "## Observe a bad 'sadness' example \n",
    "lyrics_emotions[lyrics_emotions['emotion'] == 'sadness']['lyrics'].iloc[13].split('\\n ')"
   ]
  },
  {
   "cell_type": "code",
   "execution_count": 322,
   "id": "c0b23bdf-abb8-4162-82c9-8b99dee70c23",
   "metadata": {},
   "outputs": [
    {
     "data": {
      "text/plain": [
       "name                                      Close Up The Honky-Tonks\n",
       "album_name                                                     NaN\n",
       "artists                                The Flying Burrito Brothers\n",
       "lyrics           She's in some honky tonk tonight I know\\n Runn...\n",
       "language                                                        en\n",
       "lyrics_length                                                  834\n",
       "emotion                                                    sadness\n",
       "Name: 33, dtype: object"
      ]
     },
     "execution_count": 322,
     "metadata": {},
     "output_type": "execute_result"
    }
   ],
   "source": [
    "lyrics_emotions[lyrics_emotions['emotion'] == 'sadness'].iloc[10]"
   ]
  },
  {
   "cell_type": "code",
   "execution_count": 324,
   "id": "629866e0-5b63-47ef-b2a0-a8fbfde081f8",
   "metadata": {},
   "outputs": [
    {
     "data": {
      "text/plain": [
       "name                                                        No Fun\n",
       "album_name                                                     NaN\n",
       "artists                                                    Incubus\n",
       "lyrics           I feel like I may have been here before\\n All ...\n",
       "language                                                        en\n",
       "lyrics_length                                                 1902\n",
       "emotion                                                   surprise\n",
       "Name: 5025, dtype: object"
      ]
     },
     "execution_count": 324,
     "metadata": {},
     "output_type": "execute_result"
    }
   ],
   "source": [
    "lyrics_emotions[lyrics_emotions['emotion'] == 'surprise'].iloc[10]"
   ]
  },
  {
   "cell_type": "code",
   "execution_count": 340,
   "id": "48c2ffa6-b5e1-44a6-9533-73d577d9cf2f",
   "metadata": {
    "scrolled": true
   },
   "outputs": [
    {
     "data": {
      "text/plain": [
       "['I feel like I may have been here before',\n",
       " 'All of it looks so familiar',\n",
       " 'I wanna see beyond the obvious',\n",
       " 'So show me a new constellation',\n",
       " 'Ay!',\n",
       " \"You're no fun\",\n",
       " \"You're no fun\",\n",
       " \"You're a song I never wanna hear again!\",\n",
       " 'Ay!',\n",
       " \"You're no fun\",\n",
       " \"You're no fun\",\n",
       " \"You're a song I never wanna hear again!\",\n",
       " 'Whoa! Whoa! Whoa!',\n",
       " \"I feel like i'm always the last to know\",\n",
       " 'The king of the dunces and the idiot',\n",
       " 'But where is the bliss in all this ignorance?',\n",
       " 'Oh just show me a new constellation',\n",
       " 'Ay!',\n",
       " \"You're no fun\",\n",
       " \"You're no fun\",\n",
       " \"You're a song I never wanna hear again!\",\n",
       " 'Ay!',\n",
       " \"You're no fun\",\n",
       " \"You're no fun\",\n",
       " \"You're a song I never wanna hear again!\",\n",
       " '♪',\n",
       " '♪',\n",
       " 'Never again...',\n",
       " '',\n",
       " \"Don't you get it?\",\n",
       " 'I only want to break your spell',\n",
       " 'Ohh oh ohhh',\n",
       " \"Don't you get it?\",\n",
       " \"You're the snake that eats it's tail\",\n",
       " '♪',\n",
       " 'Hey!',\n",
       " \"You're no fun\",\n",
       " \"You're no fun\",\n",
       " \"You're a song I... never wanna hear again!\",\n",
       " 'Hey!',\n",
       " \"You're no fun\",\n",
       " \"You're no fun\",\n",
       " \"You're a song I never wanna hear again!\",\n",
       " 'Ay!',\n",
       " 'Whoa! Whoa! Whoa!',\n",
       " '',\n",
       " 'I feel like I may have been here before',\n",
       " 'All of it looks so familiar',\n",
       " 'I wanna see beyond the obvious',\n",
       " 'So show me a new constellation',\n",
       " 'Ay!',\n",
       " \"You're no fun\",\n",
       " \"You're no fun\",\n",
       " \"You're a song I never wanna hear again!\",\n",
       " 'Ay!',\n",
       " \"You're no fun\",\n",
       " \"You're no fun\",\n",
       " \"You're a song I never wanna hear again!\",\n",
       " 'Whoa! Whoa! Whoa!',\n",
       " \"I feel like i'm always the last to know\",\n",
       " 'The king of the dunces and the idiot',\n",
       " 'But where is the bliss in all this ignorance?',\n",
       " 'Oh just show me a new constellation',\n",
       " 'Ay!',\n",
       " \"You're no fun\",\n",
       " \"You're no fun\",\n",
       " \"You're a song I never wanna hear again!\",\n",
       " 'Ay!',\n",
       " \"You're no fun\",\n",
       " \"You're no fun\",\n",
       " \"You're a song I never wanna hear again!\",\n",
       " '♪',\n",
       " '♪',\n",
       " 'Never again...',\n",
       " '',\n",
       " \"Don't you get it?\",\n",
       " 'I only want to break your spell',\n",
       " 'Ohh oh ohhh',\n",
       " \"Don't you get it?\",\n",
       " \"You're the snake that eats it's tail\",\n",
       " '♪',\n",
       " 'Hey!',\n",
       " \"You're no fun\",\n",
       " \"You're no fun\",\n",
       " \"You're a song I... never wanna hear again!\",\n",
       " 'Hey!',\n",
       " \"You're no fun\",\n",
       " \"You're no fun\",\n",
       " \"You're a song I never wanna hear again!\",\n",
       " 'Ay!',\n",
       " 'Whoa! Whoa! Whoa!',\n",
       " '']"
      ]
     },
     "execution_count": 340,
     "metadata": {},
     "output_type": "execute_result"
    }
   ],
   "source": [
    "lyrics_emotions[lyrics_emotions['emotion'] == 'surprise']['lyrics'].iloc[10].split('\\n ')"
   ]
  },
  {
   "cell_type": "code",
   "execution_count": null,
   "id": "b8f49e89-ef27-4f0a-9ffc-3f56aae60648",
   "metadata": {},
   "outputs": [],
   "source": [
    "lyrics_emotions[lyrics_emotions['artists'] == 'Taylor Swift']"
   ]
  },
  {
   "cell_type": "markdown",
   "id": "3347830d-d54e-4212-bdf7-fb842bc6a61f",
   "metadata": {},
   "source": [
    "**Limitations:**\n",
    "- According to the model it was fine-tuned from, [Emotion English DistilRoBERTa-base](https://huggingface.co/j-hartmann/emotion-english-distilroberta-base), the training set was balanced with 2,811 observations per emotion. The testing set accuracy was 66% (vs. the random-chance baseline of 1/7 = 14%). The model I have used, [Emotion Text Classifier](https://huggingface.co/michellejieli/emotion_text_classifier), was further fine-tuned using additional emotional lines though the balance was not stated. There could be some bias introduced here.\n",
    "- The model has not been trained specifically for lyrics, which are generally longer than social media posts, and TV dialogues. They can also be more complex in their emotions.\n",
    "- Lyrics can also be more than one emotion e.g., change of emotion through the song so a multi-label approach would suit this well too.\n",
    "- This model only uses 6 emotions which does not capture the full array of emotions.\n",
    "- The actual lyrics dataset I have used did not have the genre information of the songs. Therefore, I cannot tell the balance of genres. It might be biased. "
   ]
  },
  {
   "cell_type": "markdown",
   "id": "fb21c761-6e98-44e0-8ee3-986883b8ebcd",
   "metadata": {},
   "source": [
    "## 3. Topic Modelling"
   ]
  },
  {
   "cell_type": "markdown",
   "id": "9720c542-621a-44f1-98b9-77effd833faf",
   "metadata": {
    "jp-MarkdownHeadingCollapsed": true
   },
   "source": [
    "### 3.1 Lyrics Preparation for Natural Language Processing (NLP)"
   ]
  },
  {
   "cell_type": "markdown",
   "id": "e1a01414-3bb8-45b4-a8ea-031fb21c8203",
   "metadata": {},
   "source": [
    "**What is Topic Modelling?**\n",
    "\n",
    "Topic modelling is a statistical modelling technique that uses unsupervised machine learning to find the hidden 'topics' within a set of documents (in this case, lyrics). They do this by identify relationships between words and group similar word patterns into clusters i.e., topics.\n",
    "\n",
    "Topic modelling algorithms assume that each document e.g., a song's lyrics, is made up of multiple topics, and each topic is a collection of words that often appear together. The algorithm assigns probabilities to each word belonging to a topic."
   ]
  },
  {
   "cell_type": "code",
   "execution_count": 4,
   "id": "cec2f19e-26a2-436b-9e37-40efe201862d",
   "metadata": {},
   "outputs": [
    {
     "data": {
      "text/html": [
       "<div>\n",
       "<style scoped>\n",
       "    .dataframe tbody tr th:only-of-type {\n",
       "        vertical-align: middle;\n",
       "    }\n",
       "\n",
       "    .dataframe tbody tr th {\n",
       "        vertical-align: top;\n",
       "    }\n",
       "\n",
       "    .dataframe thead th {\n",
       "        text-align: right;\n",
       "    }\n",
       "</style>\n",
       "<table border=\"1\" class=\"dataframe\">\n",
       "  <thead>\n",
       "    <tr style=\"text-align: right;\">\n",
       "      <th></th>\n",
       "      <th>name</th>\n",
       "      <th>album_name</th>\n",
       "      <th>artists</th>\n",
       "      <th>lyrics</th>\n",
       "      <th>language</th>\n",
       "      <th>lyrics_length</th>\n",
       "      <th>emotion</th>\n",
       "    </tr>\n",
       "  </thead>\n",
       "  <tbody>\n",
       "    <tr>\n",
       "      <th>0</th>\n",
       "      <td>They Want War</td>\n",
       "      <td>NaN</td>\n",
       "      <td>U.D.O.</td>\n",
       "      <td>They are young and they're kids\\n And believe ...</td>\n",
       "      <td>en</td>\n",
       "      <td>1285</td>\n",
       "      <td>disgust</td>\n",
       "    </tr>\n",
       "    <tr>\n",
       "      <th>1</th>\n",
       "      <td>Cry</td>\n",
       "      <td>Asphodel</td>\n",
       "      <td>The Machine In The Garden</td>\n",
       "      <td>I cry for the things you know\\n the things tha...</td>\n",
       "      <td>en</td>\n",
       "      <td>285</td>\n",
       "      <td>sadness</td>\n",
       "    </tr>\n",
       "    <tr>\n",
       "      <th>2</th>\n",
       "      <td>Know Better (feat. Mister Blonde)</td>\n",
       "      <td>NaN</td>\n",
       "      <td>JayKode</td>\n",
       "      <td>We stay up till we see the sun\\n But I can nev...</td>\n",
       "      <td>en</td>\n",
       "      <td>1223</td>\n",
       "      <td>fear</td>\n",
       "    </tr>\n",
       "    <tr>\n",
       "      <th>3</th>\n",
       "      <td>Baltimore</td>\n",
       "      <td>NaN</td>\n",
       "      <td>The Drifters</td>\n",
       "      <td>Beat-up little seagull\\n On a marble stair\\n T...</td>\n",
       "      <td>en</td>\n",
       "      <td>786</td>\n",
       "      <td>sadness</td>\n",
       "    </tr>\n",
       "    <tr>\n",
       "      <th>4</th>\n",
       "      <td>This Goodbye</td>\n",
       "      <td>Porcelain Heart</td>\n",
       "      <td>Beth Crowley</td>\n",
       "      <td>My world caught fire\\n You're the one who lit ...</td>\n",
       "      <td>en</td>\n",
       "      <td>1347</td>\n",
       "      <td>sadness</td>\n",
       "    </tr>\n",
       "  </tbody>\n",
       "</table>\n",
       "</div>"
      ],
      "text/plain": [
       "                                name       album_name  \\\n",
       "0                      They Want War              NaN   \n",
       "1                                Cry         Asphodel   \n",
       "2  Know Better (feat. Mister Blonde)              NaN   \n",
       "3                          Baltimore              NaN   \n",
       "4                       This Goodbye  Porcelain Heart   \n",
       "\n",
       "                     artists  \\\n",
       "0                     U.D.O.   \n",
       "1  The Machine In The Garden   \n",
       "2                    JayKode   \n",
       "3               The Drifters   \n",
       "4               Beth Crowley   \n",
       "\n",
       "                                              lyrics language  lyrics_length  \\\n",
       "0  They are young and they're kids\\n And believe ...       en           1285   \n",
       "1  I cry for the things you know\\n the things tha...       en            285   \n",
       "2  We stay up till we see the sun\\n But I can nev...       en           1223   \n",
       "3  Beat-up little seagull\\n On a marble stair\\n T...       en            786   \n",
       "4  My world caught fire\\n You're the one who lit ...       en           1347   \n",
       "\n",
       "   emotion  \n",
       "0  disgust  \n",
       "1  sadness  \n",
       "2     fear  \n",
       "3  sadness  \n",
       "4  sadness  "
      ]
     },
     "execution_count": 4,
     "metadata": {},
     "output_type": "execute_result"
    }
   ],
   "source": [
    "## Load the dataset\n",
    "lyrics_emotions = pd.read_csv(\"Data/lyrics_with_emotions.csv\")\n",
    "lyrics_emotions.head(5)"
   ]
  },
  {
   "cell_type": "code",
   "execution_count": 6,
   "id": "b1bca0c7-1b2a-4374-8763-ff914c1a00c7",
   "metadata": {},
   "outputs": [],
   "source": [
    "## A function to remove any pattern\n",
    "def regex_clean(txt, regex):\n",
    "    \"\"\"Replace any text matching the regex\n",
    "\n",
    "    Parameters\n",
    "    ----------\n",
    "    txt : string\n",
    "        A text string that you want to parse and remove matches\n",
    "    regex : string \n",
    "        A text string of the regex pattern you want to match\n",
    "\n",
    "    Returns\n",
    "    -------\n",
    "    The same txt string with the matches removes\n",
    "    \"\"\"\n",
    "\n",
    "    return \" \".join(re.sub(regex, \" \", txt).split())"
   ]
  },
  {
   "cell_type": "code",
   "execution_count": 137,
   "id": "de8ba9af-c670-4994-840e-421705dd3de9",
   "metadata": {},
   "outputs": [],
   "source": [
    "## Initialise a stemmer to get to the root word\n",
    "stemmer = SnowballStemmer(language='english')\n",
    "#lemmatiser = WordNetLemmatizer()   # Lemmatiser takes too long for the large dataset though it would get more meaningful words\n",
    "\n",
    "## Create a list of stopwords and punctuation\n",
    "remove = stopwords.words('english')\n",
    "remove.extend(string.punctuation) # Extend the list with punctuation\n",
    "\n",
    "# Extend the remove list with common contractions\n",
    "contractions = [\"they'r\", \"they'v\", \"can't\", \"won't\", \"don't\", \"i'm\", \"it's\", \"i'll\", \"ain't\", \"can't\", \"won't\", \"don't\", \"i'm\", \"it's\", \"he's\", \"she's\"]\n",
    "remove.extend(contractions)\n",
    "\n",
    "## Initalise the tokeniser\n",
    "tokeniser = WhitespaceTokenizer() # Extracts the tokens without whitespaces, new line and tabs "
   ]
  },
  {
   "cell_type": "code",
   "execution_count": 426,
   "id": "1011fe9f-8ce7-417a-a573-2af8eb512bca",
   "metadata": {},
   "outputs": [],
   "source": [
    "## Extra words which do not add much value to remove\n",
    "remove.extend([\n",
    "    \"yeah\", \"baby\", \"wanna\", \"gonna\", \"oh\", \"hey\", \"ooh\", \"la\", \"woah\", \"huh\",  \n",
    "    \"nah\", \"uh\", \"da\", \"mmm\", \"whoa\", \"ho\", \"doo\", \"ay\", \"hmm\", \"hahah\", \"ha\", \n",
    "    \"uhh\", \"ooh\", \"y'all\", \"cuz\", \"em\", \"dem\", \"thang\", \"yo\", \n",
    "    \"like\", \"got\", \"know\", \"la-la\", \"let\", \"iv\", \"ill\", \"aint\", \"get\", \"thing\", \"though\",\n",
    "    \"i'v\", \"aint\", \"Il'l\", \"woah-oh-oh\", \"da-da-da\", \"wah\", \"ahhhh\", \"ah\", \"ahhh\", \n",
    "    \"ooh-ooh-ooh-ooh-ooh\", \"nuh\", \"yuh\", \"woah-oh-oh\", \"oh-oh-oh-oh\", \"la-la-la-la-la-la-la\", \n",
    "    \"mm-mm\", \"na-na-na\", \"na-na\", \"ah-ah-ah\", \"oh-ho-ho\", \"yah\", '\"ima\"', \"duh\", \"la-la-la-la-la-la\",\n",
    "    \"ladada\", 'ouh', 'whatll', 'ooh-ooh-ooh', 'yeah-yeah', 'thou', '', 'couldv', 'ooo', 'oh-oh-oh', \n",
    "    'do-do', 'na-na-na-na', 'ba-da-da', \"whoa-oh-oh\", \"hey-hey\", \"oh-woah\", \"mmmm\", \"ooh-woah\", \"tuh\",\n",
    "    \"que\", \"wooo\", '\"whatll\"'\n",
    "])"
   ]
  },
  {
   "cell_type": "code",
   "execution_count": 428,
   "id": "282906fe-5976-4ff7-b240-70e98203c83f",
   "metadata": {},
   "outputs": [],
   "source": [
    "## A function to clean and prepare the lyrics\n",
    "def prep_data(lyric):\n",
    "    \"\"\" Cleans up a lyric\n",
    "\n",
    "    Parameters\n",
    "    ----------\n",
    "    lyric : string\n",
    "        A text string that you want to clean\n",
    "\n",
    "    Returns\n",
    "    -------\n",
    "    The same string but cleaned up, stemmed and tokenised\n",
    "    \"\"\"   \n",
    "    ## Apply pre-token cleaning\n",
    "    lyric = lyric.lower().strip()\n",
    "    \n",
    "    regex_to_clean = [r'♪', # Macthes ♪ (no other musical notes are present)\n",
    "                      r'\\b(chorus|intro|interlude)\\b',  # Matches those words exactly            \n",
    "                     r'[\"“”]', # Double quotes\n",
    "                     r'(\\w+)(-\\1)+' , # Repeated words seperated by - e.g., na-na-na, oh-oh but the whole word is removed\n",
    "                     r'\\b(\\w)\\1{2,}\\b'] # Repeated single characters e.g., mmmm, oooo, aaaaa\n",
    "    \n",
    "    for reg in regex_to_clean:\n",
    "        lyric = regex_clean(lyric, reg)\n",
    "\n",
    "    ## Tokenise the lyric using the whitespace tokeniser\n",
    "    lyric = tokeniser.tokenize(lyric)\n",
    "\n",
    "    ## Apply post-token cleaning\n",
    "    lyric = [word.strip(string.punctuation) for word in lyric] # Remove punctuation that are at the start/end of tokens\n",
    "    lyric = [word for word in lyric if word not in remove] # Remove stopwords and punctuation\n",
    "\n",
    "    # Remove any numbers which are written as text\n",
    "    lyric_clean = []\n",
    "    for word in lyric:\n",
    "        try:\n",
    "            word = str(w2n.word_to_num(word))\n",
    "        except:\n",
    "            word = word\n",
    "        lyric_clean.append(word)\n",
    "    lyric_clean = [regex_clean(word, r'\\d+') for word in lyric_clean] # Remove numbers\n",
    "    \n",
    "    lyric_clean = [stemmer.stem(word) for word in lyric_clean] # Apply the stemmer\n",
    "    lyric_clean = [word for word in lyric_clean if word not in remove] # In case some words became stopwords\n",
    "    lyric_clean = [word for word in lyric_clean if len(word) >= 3] # Trying to remove meaningless words\n",
    "\n",
    "    # Return the cleaned lyric\n",
    "    return lyric_clean"
   ]
  },
  {
   "cell_type": "code",
   "execution_count": 430,
   "id": "29168990-a97e-4185-bd45-91b4ec7f506c",
   "metadata": {},
   "outputs": [
    {
     "data": {
      "text/plain": [
       "['lotta', 'word', 'say', 'yep', 'mayb']"
      ]
     },
     "execution_count": 430,
     "metadata": {},
     "output_type": "execute_result"
    }
   ],
   "source": [
    "prep_data(\"Hi, i've got a yeah baby lotta words to say mmm oooh-oh-oh-oh-oh, woah-ah, yep that's me maybe\")"
   ]
  },
  {
   "cell_type": "code",
   "execution_count": 432,
   "id": "193881c9-3ced-47cd-8da7-8f42522905eb",
   "metadata": {},
   "outputs": [],
   "source": [
    "## Apply the cleaning to our lyrics\n",
    "lyrics_emotions['lyric_tokens'] = lyrics_emotions['lyrics'].apply(prep_data)"
   ]
  },
  {
   "cell_type": "code",
   "execution_count": 227,
   "id": "0fe4d52b-0668-4db9-b304-a598c5029efc",
   "metadata": {
    "scrolled": true
   },
   "outputs": [
    {
     "data": {
      "text/plain": [
       "0    [young, kid, believ, see, told, walk, away, op...\n",
       "1    [cri, must, say, fli, soul, air, cri, see, pla...\n",
       "2    [stay, till, see, sun, never, enough, vision, ...\n",
       "3    [beat-up, littl, seagul, marbl, stair, tryin, ...\n",
       "4    [world, caught, fire, lit, spark, play, match,...\n",
       "Name: lyric_tokens, dtype: object"
      ]
     },
     "execution_count": 227,
     "metadata": {},
     "output_type": "execute_result"
    }
   ],
   "source": [
    "## Observe the first few rows\n",
    "lyrics_emotions['lyric_tokens'].head()"
   ]
  },
  {
   "cell_type": "code",
   "execution_count": 94,
   "id": "a94cbf57-716a-44cd-af07-2211837321e8",
   "metadata": {
    "scrolled": true
   },
   "outputs": [],
   "source": [
    "## Remove language column\n",
    "lyrics_emotions.drop('language', axis = 1, inplace = True)"
   ]
  },
  {
   "cell_type": "code",
   "execution_count": 433,
   "id": "b5ba96cd-ce31-4b1f-9ea7-3256858b5727",
   "metadata": {},
   "outputs": [
    {
     "data": {
      "text/html": [
       "<div>\n",
       "<style scoped>\n",
       "    .dataframe tbody tr th:only-of-type {\n",
       "        vertical-align: middle;\n",
       "    }\n",
       "\n",
       "    .dataframe tbody tr th {\n",
       "        vertical-align: top;\n",
       "    }\n",
       "\n",
       "    .dataframe thead th {\n",
       "        text-align: right;\n",
       "    }\n",
       "</style>\n",
       "<table border=\"1\" class=\"dataframe\">\n",
       "  <thead>\n",
       "    <tr style=\"text-align: right;\">\n",
       "      <th></th>\n",
       "      <th>name</th>\n",
       "      <th>album_name</th>\n",
       "      <th>artists</th>\n",
       "      <th>lyrics</th>\n",
       "      <th>lyrics_length</th>\n",
       "      <th>emotion</th>\n",
       "      <th>lyric_tokens</th>\n",
       "    </tr>\n",
       "  </thead>\n",
       "  <tbody>\n",
       "    <tr>\n",
       "      <th>0</th>\n",
       "      <td>They Want War</td>\n",
       "      <td>NaN</td>\n",
       "      <td>U.D.O.</td>\n",
       "      <td>They are young and they're kids\\n And believe ...</td>\n",
       "      <td>1285</td>\n",
       "      <td>disgust</td>\n",
       "      <td>[young, kid, believ, see, told, walk, away, op...</td>\n",
       "    </tr>\n",
       "    <tr>\n",
       "      <th>1</th>\n",
       "      <td>Cry</td>\n",
       "      <td>Asphodel</td>\n",
       "      <td>The Machine In The Garden</td>\n",
       "      <td>I cry for the things you know\\n the things tha...</td>\n",
       "      <td>285</td>\n",
       "      <td>sadness</td>\n",
       "      <td>[cri, must, say, fli, soul, air, cri, see, pla...</td>\n",
       "    </tr>\n",
       "    <tr>\n",
       "      <th>2</th>\n",
       "      <td>Know Better (feat. Mister Blonde)</td>\n",
       "      <td>NaN</td>\n",
       "      <td>JayKode</td>\n",
       "      <td>We stay up till we see the sun\\n But I can nev...</td>\n",
       "      <td>1223</td>\n",
       "      <td>fear</td>\n",
       "      <td>[stay, till, see, sun, never, enough, vision, ...</td>\n",
       "    </tr>\n",
       "    <tr>\n",
       "      <th>3</th>\n",
       "      <td>Baltimore</td>\n",
       "      <td>NaN</td>\n",
       "      <td>The Drifters</td>\n",
       "      <td>Beat-up little seagull\\n On a marble stair\\n T...</td>\n",
       "      <td>786</td>\n",
       "      <td>sadness</td>\n",
       "      <td>[beat-up, littl, seagul, marbl, stair, tryin, ...</td>\n",
       "    </tr>\n",
       "    <tr>\n",
       "      <th>4</th>\n",
       "      <td>This Goodbye</td>\n",
       "      <td>Porcelain Heart</td>\n",
       "      <td>Beth Crowley</td>\n",
       "      <td>My world caught fire\\n You're the one who lit ...</td>\n",
       "      <td>1347</td>\n",
       "      <td>sadness</td>\n",
       "      <td>[world, caught, fire, lit, spark, play, match,...</td>\n",
       "    </tr>\n",
       "  </tbody>\n",
       "</table>\n",
       "</div>"
      ],
      "text/plain": [
       "                                name       album_name  \\\n",
       "0                      They Want War              NaN   \n",
       "1                                Cry         Asphodel   \n",
       "2  Know Better (feat. Mister Blonde)              NaN   \n",
       "3                          Baltimore              NaN   \n",
       "4                       This Goodbye  Porcelain Heart   \n",
       "\n",
       "                     artists  \\\n",
       "0                     U.D.O.   \n",
       "1  The Machine In The Garden   \n",
       "2                    JayKode   \n",
       "3               The Drifters   \n",
       "4               Beth Crowley   \n",
       "\n",
       "                                              lyrics  lyrics_length  emotion  \\\n",
       "0  They are young and they're kids\\n And believe ...           1285  disgust   \n",
       "1  I cry for the things you know\\n the things tha...            285  sadness   \n",
       "2  We stay up till we see the sun\\n But I can nev...           1223     fear   \n",
       "3  Beat-up little seagull\\n On a marble stair\\n T...            786  sadness   \n",
       "4  My world caught fire\\n You're the one who lit ...           1347  sadness   \n",
       "\n",
       "                                        lyric_tokens  \n",
       "0  [young, kid, believ, see, told, walk, away, op...  \n",
       "1  [cri, must, say, fli, soul, air, cri, see, pla...  \n",
       "2  [stay, till, see, sun, never, enough, vision, ...  \n",
       "3  [beat-up, littl, seagul, marbl, stair, tryin, ...  \n",
       "4  [world, caught, fire, lit, spark, play, match,...  "
      ]
     },
     "execution_count": 433,
     "metadata": {},
     "output_type": "execute_result"
    }
   ],
   "source": [
    "lyrics_emotions.head()"
   ]
  },
  {
   "cell_type": "code",
   "execution_count": 434,
   "id": "62ebb711-838b-4eed-9304-24c01b7548da",
   "metadata": {},
   "outputs": [],
   "source": [
    "## Save to .csv\n",
    "lyrics_emotions.to_csv('Data/lyrics_cleaned.csv', index=False)"
   ]
  },
  {
   "cell_type": "markdown",
   "id": "192c781a-aa75-4670-be9b-c0388d30e93b",
   "metadata": {
    "jp-MarkdownHeadingCollapsed": true
   },
   "source": [
    "### 3.2 TF-IDF Modelling"
   ]
  },
  {
   "cell_type": "markdown",
   "id": "1a8de2cc-ff74-4478-8ec4-b98086d29e6c",
   "metadata": {},
   "source": [
    "**Term Frequency - Inverse Document Frequency (TF-IDF)**\n",
    "\n",
    "This a metric of how often a term i.e., the smallest unit in the document e.g., a word, appears in a document compared to how often it appears in other documents.\n",
    "\n",
    "This tells us how **significant** the term is."
   ]
  },
  {
   "cell_type": "code",
   "execution_count": 436,
   "id": "2f64b765-d69b-4846-ab33-86784632862a",
   "metadata": {},
   "outputs": [],
   "source": [
    "## Import data\n",
    "lyrics_clean = pd.read_csv(\"Data/lyrics_cleaned.csv\")\n",
    "#lyrics_clean.head()"
   ]
  },
  {
   "cell_type": "code",
   "execution_count": 437,
   "id": "01fa6cbf-90ed-42a2-8685-c123a95840bc",
   "metadata": {},
   "outputs": [],
   "source": [
    "## Convert the lyric_tokens back to a list (when saved to a .csv, it is converted to a list)\n",
    "lyrics_clean['lyric_tokens'] = lyrics_clean['lyric_tokens'].apply(lambda x: re.sub(r\"[\\[\\]']+\", \"\", x).split(', ')) \n",
    "# Removes the brackets and quotes, then split by comma"
   ]
  },
  {
   "cell_type": "code",
   "execution_count": 438,
   "id": "bf7f5c56-df0b-4780-89dd-ae6722a637d0",
   "metadata": {},
   "outputs": [
    {
     "data": {
      "text/html": [
       "<div>\n",
       "<style scoped>\n",
       "    .dataframe tbody tr th:only-of-type {\n",
       "        vertical-align: middle;\n",
       "    }\n",
       "\n",
       "    .dataframe tbody tr th {\n",
       "        vertical-align: top;\n",
       "    }\n",
       "\n",
       "    .dataframe thead th {\n",
       "        text-align: right;\n",
       "    }\n",
       "</style>\n",
       "<table border=\"1\" class=\"dataframe\">\n",
       "  <thead>\n",
       "    <tr style=\"text-align: right;\">\n",
       "      <th></th>\n",
       "      <th>name</th>\n",
       "      <th>album_name</th>\n",
       "      <th>artists</th>\n",
       "      <th>lyrics</th>\n",
       "      <th>lyrics_length</th>\n",
       "      <th>emotion</th>\n",
       "      <th>lyric_tokens</th>\n",
       "    </tr>\n",
       "  </thead>\n",
       "  <tbody>\n",
       "    <tr>\n",
       "      <th>0</th>\n",
       "      <td>They Want War</td>\n",
       "      <td>NaN</td>\n",
       "      <td>U.D.O.</td>\n",
       "      <td>They are young and they're kids\\n And believe ...</td>\n",
       "      <td>1285</td>\n",
       "      <td>disgust</td>\n",
       "      <td>[young, kid, believ, see, told, walk, away, op...</td>\n",
       "    </tr>\n",
       "    <tr>\n",
       "      <th>1</th>\n",
       "      <td>Cry</td>\n",
       "      <td>Asphodel</td>\n",
       "      <td>The Machine In The Garden</td>\n",
       "      <td>I cry for the things you know\\n the things tha...</td>\n",
       "      <td>285</td>\n",
       "      <td>sadness</td>\n",
       "      <td>[cri, must, say, fli, soul, air, cri, see, pla...</td>\n",
       "    </tr>\n",
       "    <tr>\n",
       "      <th>2</th>\n",
       "      <td>Know Better (feat. Mister Blonde)</td>\n",
       "      <td>NaN</td>\n",
       "      <td>JayKode</td>\n",
       "      <td>We stay up till we see the sun\\n But I can nev...</td>\n",
       "      <td>1223</td>\n",
       "      <td>fear</td>\n",
       "      <td>[stay, till, see, sun, never, enough, vision, ...</td>\n",
       "    </tr>\n",
       "    <tr>\n",
       "      <th>3</th>\n",
       "      <td>Baltimore</td>\n",
       "      <td>NaN</td>\n",
       "      <td>The Drifters</td>\n",
       "      <td>Beat-up little seagull\\n On a marble stair\\n T...</td>\n",
       "      <td>786</td>\n",
       "      <td>sadness</td>\n",
       "      <td>[beat-up, littl, seagul, marbl, stair, tryin, ...</td>\n",
       "    </tr>\n",
       "    <tr>\n",
       "      <th>4</th>\n",
       "      <td>This Goodbye</td>\n",
       "      <td>Porcelain Heart</td>\n",
       "      <td>Beth Crowley</td>\n",
       "      <td>My world caught fire\\n You're the one who lit ...</td>\n",
       "      <td>1347</td>\n",
       "      <td>sadness</td>\n",
       "      <td>[world, caught, fire, lit, spark, play, match,...</td>\n",
       "    </tr>\n",
       "  </tbody>\n",
       "</table>\n",
       "</div>"
      ],
      "text/plain": [
       "                                name       album_name  \\\n",
       "0                      They Want War              NaN   \n",
       "1                                Cry         Asphodel   \n",
       "2  Know Better (feat. Mister Blonde)              NaN   \n",
       "3                          Baltimore              NaN   \n",
       "4                       This Goodbye  Porcelain Heart   \n",
       "\n",
       "                     artists  \\\n",
       "0                     U.D.O.   \n",
       "1  The Machine In The Garden   \n",
       "2                    JayKode   \n",
       "3               The Drifters   \n",
       "4               Beth Crowley   \n",
       "\n",
       "                                              lyrics  lyrics_length  emotion  \\\n",
       "0  They are young and they're kids\\n And believe ...           1285  disgust   \n",
       "1  I cry for the things you know\\n the things tha...            285  sadness   \n",
       "2  We stay up till we see the sun\\n But I can nev...           1223     fear   \n",
       "3  Beat-up little seagull\\n On a marble stair\\n T...            786  sadness   \n",
       "4  My world caught fire\\n You're the one who lit ...           1347  sadness   \n",
       "\n",
       "                                        lyric_tokens  \n",
       "0  [young, kid, believ, see, told, walk, away, op...  \n",
       "1  [cri, must, say, fli, soul, air, cri, see, pla...  \n",
       "2  [stay, till, see, sun, never, enough, vision, ...  \n",
       "3  [beat-up, littl, seagul, marbl, stair, tryin, ...  \n",
       "4  [world, caught, fire, lit, spark, play, match,...  "
      ]
     },
     "execution_count": 438,
     "metadata": {},
     "output_type": "execute_result"
    }
   ],
   "source": [
    "## Observe the dataset\n",
    "lyrics_clean.head()"
   ]
  },
  {
   "cell_type": "code",
   "execution_count": 439,
   "id": "15b8a038-17b6-4e10-b06f-e9e06af86fbb",
   "metadata": {},
   "outputs": [],
   "source": [
    "## Save our clean tokens in a 'lister'\n",
    "lister = list(lyrics_clean['lyric_tokens']) # Essentially it is a corpus (has all the tokens of all documents i.e., lyrics)"
   ]
  },
  {
   "cell_type": "code",
   "execution_count": 440,
   "id": "95277c81-9919-4481-b0c2-74fafb2fd41e",
   "metadata": {
    "scrolled": true
   },
   "outputs": [
    {
     "data": {
      "text/plain": [
       "['young',\n",
       " 'kid',\n",
       " 'believ',\n",
       " 'see',\n",
       " 'told',\n",
       " 'walk',\n",
       " 'away',\n",
       " 'open',\n",
       " 'eye',\n",
       " 'die',\n",
       " 'fli',\n",
       " 'smaller',\n",
       " 'gun',\n",
       " 'load',\n",
       " 'see',\n",
       " 'eye',\n",
       " 'open',\n",
       " 'wide',\n",
       " 'die',\n",
       " 'ever',\n",
       " 'cri',\n",
       " 'die',\n",
       " 'street',\n",
       " 'die',\n",
       " 'field',\n",
       " 'told',\n",
       " 'lie',\n",
       " 'dead',\n",
       " 'eye',\n",
       " 'close',\n",
       " 'die',\n",
       " 'fli',\n",
       " 'smaller',\n",
       " 'gun',\n",
       " 'load',\n",
       " 'see',\n",
       " 'eye',\n",
       " 'open',\n",
       " 'wide',\n",
       " 'die',\n",
       " 'ever',\n",
       " 'cri',\n",
       " 'taught',\n",
       " 'pray',\n",
       " 'told',\n",
       " 'paradis',\n",
       " 'die',\n",
       " 'blind',\n",
       " 'fight',\n",
       " 'want',\n",
       " 'war',\n",
       " 'blind',\n",
       " 'fight',\n",
       " 'want',\n",
       " 'war',\n",
       " 'blind',\n",
       " 'fight',\n",
       " 'want',\n",
       " 'war',\n",
       " 'blind',\n",
       " 'fight',\n",
       " 'want',\n",
       " 'war',\n",
       " 'blind',\n",
       " 'fight',\n",
       " 'want',\n",
       " 'war',\n",
       " 'blind',\n",
       " 'fight',\n",
       " 'want',\n",
       " 'war',\n",
       " 'pay',\n",
       " 'price',\n",
       " 'littl',\n",
       " 'devil',\n",
       " 'disguis',\n",
       " 'take',\n",
       " 'life',\n",
       " 'regard',\n",
       " 'hell',\n",
       " 'burn',\n",
       " 'children',\n",
       " 'battlefield',\n",
       " 'pleas',\n",
       " 'littl',\n",
       " 'bird',\n",
       " 'flutter',\n",
       " 'heart',\n",
       " 'pleas']"
      ]
     },
     "execution_count": 440,
     "metadata": {},
     "output_type": "execute_result"
    }
   ],
   "source": [
    "## Observe the first document/lyric in the lister\n",
    "lister[0]"
   ]
  },
  {
   "cell_type": "code",
   "execution_count": 57,
   "id": "39c7d04b-c6fe-4461-b68f-b349909d0878",
   "metadata": {},
   "outputs": [],
   "source": [
    "# NOTE: Ended with not using bigrams as the topics did not seem meaningful compared to single words\n",
    "\n",
    "# ## Create bigrams out of our tokens\n",
    "# bigram_model = Phrases(lister, \n",
    "#                        min_count=5,  # Min_count is the minimum number of occurrences of the bigram in all documents. \n",
    "#                        threshold=20) # Threshold is the importance based on the frequency of the bigrams.\n",
    "                                                        \n",
    "\n",
    "# # Create a Phraser model (for faster processing)\n",
    "# bigram_phraser = Phraser(bigram_model)\n",
    "\n",
    "# # Apply the bigram model to our tokens\n",
    "# lister_bigrams = [bigram_phraser[doc] for doc in lister] # Note: This will keep single words that are not meaningful as bigrams and create bigrams that meet the threshold requirements."
   ]
  },
  {
   "cell_type": "code",
   "execution_count": 441,
   "id": "be3e42c3-364e-44f4-9a02-6f744bb2cb80",
   "metadata": {},
   "outputs": [],
   "source": [
    "## Define the dictionary under gensims\n",
    "dictionary = gensim.corpora.Dictionary(lister)\n",
    "\n",
    "## Define the Bag of Words corpus\n",
    "bow_corpus = [dictionary.doc2bow(doc) for doc in lister] # Each token has been given an ID (same as in the dictionary) and the frequency observed in that document"
   ]
  },
  {
   "cell_type": "code",
   "execution_count": 442,
   "id": "f4f202b3-f9d1-4893-bd17-0112648ea376",
   "metadata": {},
   "outputs": [
    {
     "name": "stdout",
     "output_type": "stream",
     "text": [
      "33895 unique terms, spread across 10000 unique documents\n"
     ]
    }
   ],
   "source": [
    "# Overall, we have:\n",
    "print(f'{len(dictionary)} unique terms, spread across {len(lister)} unique documents')"
   ]
  },
  {
   "cell_type": "code",
   "execution_count": 443,
   "id": "b05ad1eb-7834-49aa-b4a5-ed499bfcf516",
   "metadata": {},
   "outputs": [],
   "source": [
    "## Define the TF-IDF model on the generated bow_corpus\n",
    "tfidf=gensim.models.TfidfModel(bow_corpus)\n",
    "\n",
    "## Save the corpus in a separate variable\n",
    "tfidf_corp = tfidf[bow_corpus]"
   ]
  },
  {
   "cell_type": "markdown",
   "id": "ffa2b5b6-8a52-4dcc-833e-77070f51b812",
   "metadata": {},
   "source": [
    "This TF-IDF Corpus contains all documents (list); with each term (ID) present in each document, and its TF-IDF score (tuples). \n",
    "\n",
    "A higher TF-IDF for a term in a document suggests that the term is:\n",
    "\n",
    "* **Rare** in the overall corpus: This is reflected in the Inverse Document Frequency (IDF) component.\n",
    "\n",
    "* **Frequent** within the specific document: This is captured by the Term Frequency (TF) component."
   ]
  },
  {
   "cell_type": "code",
   "execution_count": 444,
   "id": "4361c235-6c30-43b7-bb68-9f9247166a31",
   "metadata": {},
   "outputs": [
    {
     "name": "stdout",
     "output_type": "stream",
     "text": [
      "Original document is:\n",
      " ['cri', 'must', 'say', 'fli', 'soul', 'air', 'cri', 'see', 'place', 'never', 'feel', 'encount', 'live', 'want', 'live']\n",
      "Its BoW corpus representation is:\n",
      " [(8, 2), (17, 1), (34, 1), (41, 1), (45, 1), (46, 1), (47, 1), (48, 2), (49, 1), (50, 1), (51, 1), (52, 1), (53, 1)]\n",
      "Its TF-IDF corpus representation is:\n",
      " [(8, 0.41661703052357457), (17, 0.24595378293917536), (34, 0.08923737685526614), (41, 0.11405716348244693), (45, 0.27295529448082456), (46, 0.6373241922829458), (47, 0.10075404307429921), (48, 0.3070002175764508), (49, 0.24625521896308214), (50, 0.10246415335077637), (51, 0.1847668244658103), (52, 0.10717826744896976), (53, 0.20763168086527528)]\n"
     ]
    }
   ],
   "source": [
    "## Example\n",
    "print(f'Original document is:\\n {lister[1]}')\n",
    "print(f'Its BoW corpus representation is:\\n {bow_corpus[1]}')\n",
    "print(f'Its TF-IDF corpus representation is:\\n {tfidf_corp[1]}')"
   ]
  },
  {
   "cell_type": "code",
   "execution_count": 445,
   "id": "47eba659-f41b-46b6-b4ec-de1bc0e98c3f",
   "metadata": {},
   "outputs": [
    {
     "name": "stdout",
     "output_type": "stream",
     "text": [
      "live\n",
      "cri\n"
     ]
    }
   ],
   "source": [
    "## Can use the dictionary to decode the ID back into tokes\n",
    "# Example\n",
    "print(dictionary[48])\n",
    "print(dictionary[8])"
   ]
  },
  {
   "cell_type": "markdown",
   "id": "a92aaaff-ed62-48ef-87a4-6aa5557b0cec",
   "metadata": {},
   "source": [
    "Now, we can use this for topic modelling."
   ]
  },
  {
   "cell_type": "markdown",
   "id": "a40c78a2-8a21-4dec-a9c3-09784cfa58fd",
   "metadata": {},
   "source": [
    "### 3.3 Latent Dirichlet Allocation (LDA)"
   ]
  },
  {
   "cell_type": "markdown",
   "id": "720419ad-196a-488f-b0eb-c598ec0e73ea",
   "metadata": {},
   "source": [
    "Latent Dirichlet Allocation (LDA) is a popular topic modelling technique used to find the central topics that occur in a set of documents.\n",
    "\n",
    "LDA assumes that documents (lyrics in this case), contain a mix of different topics e.g., love and heartbreak, where each topic is a collection of related words. It tries to infer the topic distributions i.e., how much of the document belong to each topic."
   ]
  },
  {
   "cell_type": "markdown",
   "id": "ca83abdf-f9de-42ea-af34-50e9d4a23b38",
   "metadata": {},
   "source": [
    "First, we need to choose the optimal number of topics to represent the lyrics."
   ]
  },
  {
   "cell_type": "markdown",
   "id": "0ad0ba5a-e2f8-417c-8f5b-485a49c4a9d7",
   "metadata": {
    "jp-MarkdownHeadingCollapsed": true
   },
   "source": [
    "#### 3.3.1 Topic Number Selection"
   ]
  },
  {
   "cell_type": "markdown",
   "id": "5ab5a2fe-5fe5-451e-976a-fcc9c785ddce",
   "metadata": {},
   "source": [
    "I will be testing out a range of different topic numbers to find the optimal number."
   ]
  },
  {
   "cell_type": "code",
   "execution_count": 145,
   "id": "b9b11ffb-4e07-4967-bd43-820d4d05d45a",
   "metadata": {},
   "outputs": [],
   "source": [
    "# Testing models with a number of topics between 2-20 \n",
    "\n",
    "models = [gensim.models.LdaMulticore(tfidf_corp, # The corpus to use\n",
    "                                     num_topics=i, # The number of topics to split the data\n",
    "                                     id2word=dictionary, # Word dictionary\n",
    "                                     passes=5, # How many passes through the corpus during training\n",
    "                                     workers=7) # How many workers to parallelise the job (CPU cores - 1)\n",
    "          for i in range(2,21)]"
   ]
  },
  {
   "cell_type": "markdown",
   "id": "693bcdff-8247-4e3f-a4bc-91a45941157c",
   "metadata": {},
   "source": [
    "To select the best model, I will using the coherence and perplexity metrics of the model:\n",
    "- **Coherence**:\n",
    "  - A measure of how often two words appear together in a document compared to how often the words appear alone in that document. It tells us whether the topics actually make sense, as the words which make up a topic should ideally be seen together in a document.\n",
    "  - A **higher** value is better.\n",
    "- **Perplexity**:\n",
    "  - A measure of how well the model predicts unseen data (gives the probability that a word appears given a another set of words appear).\n",
    "  - A **lower** value is better (comparison with other models)."
   ]
  },
  {
   "cell_type": "code",
   "execution_count": 155,
   "id": "b861f8fe-9969-4787-bf1f-1aa226d04471",
   "metadata": {},
   "outputs": [],
   "source": [
    "## Extract coherence\n",
    "coherence = [CoherenceModel(lda_model, ## Which model?\n",
    "                      corpus=tfidf_corp, ## On what corpus?\n",
    "                      dictionary=dictionary, ## What should be our dictionary of reference?\n",
    "                      coherence='u_mass').get_coherence() ## What type of coherence (U_mass)\n",
    "       for lda_model in models]\n",
    "\n",
    "## Extract perplexity\n",
    "perplexity = [lda_model.log_perplexity(tfidf_corp) for lda_model in models] ## The log perplexity"
   ]
  },
  {
   "cell_type": "code",
   "execution_count": 156,
   "id": "5b967bb8-9b31-499b-926b-d1933bef3a62",
   "metadata": {},
   "outputs": [
    {
     "data": {
      "image/png": "[encoded data removed]",
      "text/plain": [
       "<Figure size 640x480 with 1 Axes>"
      ]
     },
     "metadata": {},
     "output_type": "display_data"
    }
   ],
   "source": [
    "## Plot perplexity against coherence\n",
    "plt.plot(perplexity)\n",
    "plt.plot(coherence)\n",
    "plt.legend([\"Perplexity\", \"Coherence\"])\n",
    "plt.show()"
   ]
  },
  {
   "cell_type": "markdown",
   "id": "40792280-c835-4ad2-8ccc-7a3f8521ca25",
   "metadata": {},
   "source": [
    "The coherence seems to be the same across all topics, meaning adding more topics does not extract more meaningful information. \n",
    "\n",
    "Even a topic number of 2 seems to have reached the maximum. This leads me to think that the topics are not really representive of the documents (lyrics). A possible reason for this could be due to the fact that lyrics are generally unique and there might not be real topics within my dataset. The processing and cleaning of the lyrics also have a large impact on this - are the final tokens not a meaningful representive of the lyrics e.g., filler words."
   ]
  },
  {
   "cell_type": "code",
   "execution_count": 206,
   "id": "ce42f7c4-16bc-4222-aacb-54350f7a9642",
   "metadata": {},
   "outputs": [
    {
     "data": {
      "text/plain": [
       "[(0,\n",
       "  '0.005*\"love\" + 0.003*\"feel\" + 0.003*\"want\" + 0.003*\"never\" + 0.003*\"say\" + 0.003*\"time\" + 0.003*\"come\" + 0.003*\"away\" + 0.003*\"heart\" + 0.003*\"way\"'),\n",
       " (1,\n",
       "  '0.002*\"love\" + 0.002*\"time\" + 0.001*\"want\" + 0.001*\"come\" + 0.001*\"believ\" + 0.001*\"way\" + 0.001*\"feel\" + 0.001*\"danc\" + 0.001*\"see\" + 0.001*\"make\"'),\n",
       " (2,\n",
       "  '0.001*\"love\" + 0.001*\"live\" + 0.001*\"want\" + 0.001*\"take\" + 0.001*\"life\" + 0.001*\"feel\" + 0.001*\"make\" + 0.001*\"time\" + 0.001*\"never\" + 0.001*\"come\"'),\n",
       " (3,\n",
       "  '0.001*\"love\" + 0.001*\"come\" + 0.001*\"back\" + 0.001*\"live\" + 0.001*\"feel\" + 0.001*\"time\" + 0.001*\"see\" + 0.001*\"blood\" + 0.001*\"never\" + 0.001*\"life\"'),\n",
       " (4,\n",
       "  '0.002*\"love\" + 0.002*\"christma\" + 0.001*\"want\" + 0.001*\"come\" + 0.001*\"say\" + 0.001*\"need\" + 0.001*\"never\" + 0.001*\"see\" + 0.001*\"without\" + 0.001*\"make\"'),\n",
       " (5,\n",
       "  '0.001*\"come\" + 0.001*\"love\" + 0.001*\"take\" + 0.001*\"want\" + 0.001*\"time\" + 0.001*\"away\" + 0.001*\"girl\" + 0.001*\"see\" + 0.001*\"say\" + 0.001*\"need\"'),\n",
       " (6,\n",
       "  '0.004*\"love\" + 0.003*\"want\" + 0.003*\"feel\" + 0.003*\"time\" + 0.002*\"come\" + 0.002*\"never\" + 0.002*\"way\" + 0.002*\"make\" + 0.002*\"see\" + 0.002*\"take\"'),\n",
       " (7,\n",
       "  '0.002*\"love\" + 0.001*\"come\" + 0.001*\"want\" + 0.001*\"girl\" + 0.001*\"world\" + 0.001*\"give\" + 0.001*\"day\" + 0.001*\"take\" + 0.001*\"life\" + 0.001*\"say\"')]"
      ]
     },
     "execution_count": 206,
     "metadata": {},
     "output_type": "execute_result"
    }
   ],
   "source": [
    "## Observing the topics for these models\n",
    "models[6].print_topics() # Change the number from 0-18"
   ]
  },
  {
   "cell_type": "markdown",
   "id": "8757dfe5-7202-4fcf-9552-432be0f26e4b",
   "metadata": {},
   "source": [
    "The topics do not seem to be very meaningful - very similar and overlapping terms. The most common terms e.g., 'love', 'want', 'feel' are found in almost all topics. This could be because of my dataset and songs in general tend to focus on love themes (even if different emotions e.g., joy, sadness)."
   ]
  },
  {
   "cell_type": "markdown",
   "id": "00e46c07-72d8-424d-897d-7c1ee1df8bf1",
   "metadata": {
    "jp-MarkdownHeadingCollapsed": true
   },
   "source": [
    "#### 3.3.2 LDA Model"
   ]
  },
  {
   "cell_type": "markdown",
   "id": "b6ad5b90-52c8-48e6-8d9f-48113d71c5b7",
   "metadata": {},
   "source": [
    "After multiple trial and error, using a number of topics from 3-7 and passes from 5-20, I have chosen 7 topics as looking at the topics manually I felt this gave the most coherent and diverse topics."
   ]
  },
  {
   "cell_type": "code",
   "execution_count": 446,
   "id": "8fc88d26-21d4-4ee6-b68e-6895f1b39192",
   "metadata": {},
   "outputs": [],
   "source": [
    "## Create a model with 7 topics, as there are 7 emotions in the dataset which could provide a decent distinction of topics\n",
    "\n",
    "lda_model_7 = gensim.models.LdaMulticore(tfidf_corp, # The corpus to use\n",
    "                                         num_topics=7, # The number of topics to split the data\n",
    "                                         id2word=dictionary, # Word dictionary\n",
    "                                         passes=15, # How many passes through the corpus during training\n",
    "                                         workers=7, # How many workers to parallelise the job (CPU cores - 1)\n",
    "                                         random_state = 1)"
   ]
  },
  {
   "cell_type": "code",
   "execution_count": 447,
   "id": "9cf41fd3-f66f-442c-a483-2acbe59968e4",
   "metadata": {},
   "outputs": [
    {
     "data": {
      "text/plain": [
       "[(0,\n",
       "  '0.001*\"weh\" + 0.001*\"mek\" + 0.000*\"gyal\" + 0.000*\"victoria\" + 0.000*\"pon\" + 0.000*\"voyag\" + 0.000*\"foolin\" + 0.000*\"love\" + 0.000*\"seh\" + 0.000*\"nigga\"'),\n",
       " (1,\n",
       "  '0.005*\"love\" + 0.003*\"want\" + 0.003*\"feel\" + 0.003*\"come\" + 0.003*\"time\" + 0.003*\"never\" + 0.003*\"way\" + 0.003*\"say\" + 0.003*\"take\" + 0.003*\"need\"'),\n",
       " (2,\n",
       "  '0.000*\"tusk\" + 0.000*\"christoph\" + 0.000*\"marcelin\" + 0.000*\"unchain\" + 0.000*\"scoobi\" + 0.000*\"unprepar\" + 0.000*\"roulett\" + 0.000*\"contort\" + 0.000*\"squash\" + 0.000*\"werewolf\"'),\n",
       " (3,\n",
       "  '0.000*\"robot\" + 0.000*\"rock\" + 0.000*\"wiggl\" + 0.000*\"merlin\" + 0.000*\"vie\" + 0.000*\"nothing\" + 0.000*\"funk\" + 0.000*\"pum\" + 0.000*\"\"whatll\"\" + 0.000*\"uptight\"'),\n",
       " (4,\n",
       "  '0.000*\"jingl\" + 0.000*\"blah\" + 0.000*\"wha\" + 0.000*\"snowman\" + 0.000*\"waterfront\" + 0.000*\"unlov\" + 0.000*\"adonai\" + 0.000*\"marigold\" + 0.000*\"seabird\" + 0.000*\"tail\"'),\n",
       " (5,\n",
       "  '0.001*\"dey\" + 0.001*\"\" + 0.000*\"come\" + 0.000*\"afterlif\" + 0.000*\"shanti\" + 0.000*\"timeless\" + 0.000*\"hypocrit\" + 0.000*\"merrili\" + 0.000*\"eclips\" + 0.000*\"birdi\"'),\n",
       " (6,\n",
       "  '0.003*\"christma\" + 0.001*\"merri\" + 0.001*\"mistleto\" + 0.001*\"glori\" + 0.001*\"holi\" + 0.001*\"hallelujah\" + 0.001*\"lord\" + 0.001*\"prais\" + 0.001*\"rave\" + 0.001*\"jacki\"')]"
      ]
     },
     "execution_count": 447,
     "metadata": {},
     "output_type": "execute_result"
    }
   ],
   "source": [
    "## Print the topics\n",
    "lda_model_7.print_topics()"
   ]
  },
  {
   "cell_type": "code",
   "execution_count": 448,
   "id": "ddb88e77-cb18-4667-9dd2-87b9da9651f4",
   "metadata": {},
   "outputs": [
    {
     "name": "stdout",
     "output_type": "stream",
     "text": [
      "Coherence: -13.50936507116957\n",
      "Perplexity: -9.770499466048308\n"
     ]
    }
   ],
   "source": [
    "## Calculate the coherence and perplexity measures\n",
    "coherence_lda = CoherenceModel(lda_model_7, ## Which model?\n",
    "                                    corpus=tfidf_corp, ## On what corpus?\n",
    "                                    dictionary=dictionary, ## What should be our dictionary of reference?\n",
    "                                    coherence='u_mass').get_coherence() ## What type of coherence (U_mass)\n",
    "\n",
    "perplexity = lda_model_7.log_perplexity(tfidf_corp) # Log perplexity\n",
    "\n",
    "print(f\"Coherence: {coherence_lda}\") # Higher the better\n",
    "print(f\"Perplexity: {perplexity}\")  # Lower the better"
   ]
  },
  {
   "cell_type": "markdown",
   "id": "7b1f7869-9a69-49a4-9928-b0aba5c7200d",
   "metadata": {},
   "source": [
    "This low coherence means that the topics are not actually a good fit for this dataset/meaningful real context. However, I will be using these topics for this project, as proof-of-concept. "
   ]
  },
  {
   "cell_type": "code",
   "execution_count": 449,
   "id": "fdbc1eb2-c77c-4c10-87b0-1754e24c681d",
   "metadata": {},
   "outputs": [
    {
     "data": {
      "text/html": [
       "\n",
       "<link rel=\"stylesheet\" type=\"text/css\" href=\"https://cdn.jsdelivr.net/gh/bmabey/pyLDAvis@3.4.0/pyLDAvis/js/ldavis.v1.0.0.css\">\n",
       "\n",
       "\n",
       "<div id=\"ldavis_el1931216993438261926268491096\" style=\"background-color:white;\"></div>\n",
       "<script type=\"text/javascript\">\n",
       "\n",
       "var ldavis_el1931216993438261926268491096_data = {\"mdsDat\": {\"x\": [-16.900297164916992, 44.70335388183594, 2.433628797531128, -39.79585647583008, -59.06696319580078, 64.01585388183594, 21.73477554321289], \"y\": [67.11527252197266, 53.52248001098633, 6.955198287963867, -39.79513931274414, 20.162433624267578, -6.4142656326293945, -53.049198150634766], \"topics\": [1, 2, 3, 4, 5, 6, 7], \"cluster\": [1, 1, 1, 1, 1, 1, 1], \"Freq\": [80.54386082494138, 3.5182809564368402, 3.3665946674806135, 3.3279035908849828, 3.166419819322293, 3.043560048386875, 3.033380092547023]}, \"tinfo\": {\"Term\": [\"christma\", \"glori\", \"holi\", \"lord\", \"prais\", \"rock\", \"god\", \"hallelujah\", \"nigga\", \"fuck\", \"love\", \"believ\", \"alright\", \"never\", \"away\", \"someth\", \"find\", \"feel\", \"alway\", \"mayb\", \"want\", \"time\", \"say\", \"way\", \"heart\", \"need\", \"take\", \"come\", \"mistleto\", \"jacki\", \"exalt\", \"reindeer\", \"rainin\", \"yahweh\", \"popular\", \"israel\", \"ah-ooh\", \"icarus\", \"merri\", \"christma\", \"rave\", \"glori\", \"holi\", \"hallelujah\", \"prais\", \"lord\", \"\", \"shanti\", \"birdi\", \"rhapsodi\", \"rev\", \"merrili\", \"brainwash\", \"hoars\", \"o-ho\", \"ramona\", \"afterlif\", \"dey\", \"hypocrit\", \"timeless\", \"eclips\", \"come\", \"victoria\", \"calypso\", \"nightlif\", \"voyag\", \"jehovah\", \"impur\", \"alimoni\", \"compat\", \"magdalena\", \"weh\", \"nazi\", \"mek\", \"baltimor\", \"gyal\", \"pon\", \"foolin\", \"seh\", \"love\", \"nigga\", \"wiggl\", \"merlin\", \"uptight\", \"\\\"whatll\\\"\", \"vie\", \"galileo\", \"firelight\", \"stereophon\", \"marv\", \"oh-woah-oh\", \"robot\", \"souvenir\", \"nothing\", \"pum\", \"rock\", \"dum\", \"funk\", \"jingl\", \"waterfront\", \"unlov\", \"blah\", \"seabird\", \"marigold\", \"downstream\", \"lovemak\", \"agyeiii\", \"veroniqu\", \"warren\", \"adonai\", \"snowman\", \"wha\", \"melancholi\", \"tail\", \"tusk\", \"marcelin\", \"scoobi\", \"christoph\", \"unprepar\", \"roulett\", \"irreplac\", \"contort\", \"jellicl\", \"nighttfli\", \"squash\", \"unchain\", \"werewolf\"], \"Freq\": [23.0, 15.0, 15.0, 47.0, 16.0, 34.0, 62.0, 9.0, 54.0, 65.0, 214.2181928393131, 71.84966955998107, 44.43752588421447, 123.55292983080506, 109.07989744149093, 70.8002656774232, 79.8156164606749, 131.9418707290138, 79.89242827227613, 51.89148463994489, 139.55902424989523, 125.45035533338077, 114.4375140203966, 115.50856945682489, 104.01118180241538, 111.99932870476876, 113.80666316431768, 126.14427283169061, 1.3103723730525898, 0.9615213453629109, 0.7321574894918706, 0.7526208925495679, 0.5683519457154479, 0.5697650407305903, 0.6426802346896094, 0.5570188293498652, 0.55802608555435, 0.42339063693785034, 1.6295307556496992, 4.570436370347127, 0.987476054412275, 1.2407534997560268, 1.2092304723352274, 1.0707457827907918, 1.036783270310657, 1.0383040130500314, 1.2397261925982384, 0.6338114412458773, 0.5168680834787881, 0.4753668097996174, 0.4540022412906365, 0.5379512729789456, 0.4923999775352493, 0.4206653712634798, 0.4392297926102138, 0.37580408328464315, 0.63587603690038, 1.2641027032840382, 0.5461840434124834, 0.5920839688681934, 0.5188805418547993, 0.6596597649879234, 0.722656074336415, 0.542760188770627, 0.4466628702894933, 0.6050719373548158, 0.5148122593561866, 0.4986725169950334, 0.39165957786674654, 0.37327010792905685, 0.3716540280514072, 0.8907585624739787, 0.49920915478037114, 0.8773018085022253, 0.5259519553566251, 0.8022314263835802, 0.6956520238069291, 0.5764704067812341, 0.568240256172432, 0.5763160432030339, 0.5593280281094521, 0.6279815376460508, 0.5262846454289557, 0.43566234647399876, 0.4365894746878602, 0.5205734287799951, 0.4073174381933225, 0.40128962605375695, 0.3589469230253672, 0.352605401341736, 0.34991982535509836, 0.8024955835086709, 0.37682338222035805, 0.5121729869723265, 0.4420858433498259, 0.7841185437684925, 0.43526103294944557, 0.4664154221115684, 0.6053629686407236, 0.4385911507002787, 0.4379583188782277, 0.4800756562887808, 0.3739782743019225, 0.38656574491164436, 0.3603495106118726, 0.3525466557313683, 0.3187445322214259, 0.3151193898378122, 0.3648639050439407, 0.4209061101806837, 0.461925139123956, 0.4655661000105843, 0.3683635081195718, 0.37122000880887585, 0.5853060867977073, 0.4330279962290469, 0.3857097363637968, 0.4364289318949296, 0.383992063469541, 0.3728991630209429, 0.33935939257743436, 0.3679086213514651, 0.3182510672133128, 0.3098388889675262, 0.3553741515423745, 0.40665544762250677, 0.3446273858532087], \"Total\": [23.0, 15.0, 15.0, 47.0, 16.0, 34.0, 62.0, 9.0, 54.0, 65.0, 216.61289615876356, 72.6720544867923, 44.953754826010055, 124.9944940473975, 110.35893956717108, 71.64918092905496, 80.77396042870022, 133.52671947601593, 80.86977860554536, 52.53994823803463, 141.38730763747805, 127.14147899426365, 115.88020215012217, 116.98454397753189, 105.31485070470647, 113.4981295330254, 115.44235969887993, 128.4174178425458, 1.6749058833099846, 1.3591838034021435, 1.1233016041340815, 1.1680801369302054, 0.8968367332675433, 0.9035320833818904, 1.0250909972343114, 0.8989558899759854, 0.900922971010164, 0.7506904501896702, 4.036301018372732, 23.18259488327993, 2.8966749298993784, 15.976605537607888, 15.50946575560029, 9.871313786129782, 16.695341371398484, 47.223930142553264, 1.6555591677868409, 0.9741562490739156, 0.8541854687661732, 0.8150388070581872, 0.7848471335063262, 0.9563310982685632, 0.8848514152587994, 0.7677563416615104, 0.8140501404528593, 0.7038461300391564, 1.218613806446798, 3.61623032395354, 1.1295022886549346, 1.5747703776799251, 1.1468933765982114, 128.4174178425458, 1.059851494057888, 0.9177875868531385, 0.7925281663191068, 1.0910611897395963, 0.9395712392996673, 0.93226511041224, 0.7334266244725645, 0.7012231033795246, 0.6999980519339789, 1.693713182846372, 0.9729114770297277, 2.391863886539696, 1.1553664504616115, 2.9660520761948934, 2.359338893059904, 2.1408989306495734, 2.1735104243824526, 216.61289615876356, 54.6078642315961, 0.9856466683973256, 0.8724117937758968, 0.7774881905848179, 0.7837086898779136, 0.9494519648360435, 0.7475941035145448, 0.7465766552535698, 0.6859681640706551, 0.680834909270756, 0.6821040771813899, 1.7264156568484164, 0.7688935788818925, 1.3672472029569072, 1.286076246118728, 34.71154930378263, 1.326717140847645, 2.7148926121404306, 1.0702031410776933, 0.7772354844368354, 0.7813145125413496, 0.8994527049999953, 0.7082613710175246, 0.7366298863033813, 0.6920232546077526, 0.6822870429938929, 0.6464082507134224, 0.6428485122590268, 0.7461027078689106, 0.8981636285094617, 1.1829235036032755, 1.491303231932739, 0.7899127426605177, 3.5427062763417907, 0.9754268884144268, 0.7648629783106995, 0.7253021073102321, 0.8253207507886329, 0.7555502371492185, 0.7465294168977372, 0.6794581716357935, 0.7444605852867283, 0.6454881739909881, 0.637017148451633, 0.7332007441452626, 0.8872826559496134, 0.7456061221607376], \"Category\": [\"Default\", \"Default\", \"Default\", \"Default\", \"Default\", \"Default\", \"Default\", \"Default\", \"Default\", \"Default\", \"Topic1\", \"Topic1\", \"Topic1\", \"Topic1\", \"Topic1\", \"Topic1\", \"Topic1\", \"Topic1\", \"Topic1\", \"Topic1\", \"Topic1\", \"Topic1\", \"Topic1\", \"Topic1\", \"Topic1\", \"Topic1\", \"Topic1\", \"Topic1\", \"Topic2\", \"Topic2\", \"Topic2\", \"Topic2\", \"Topic2\", \"Topic2\", \"Topic2\", \"Topic2\", \"Topic2\", \"Topic2\", \"Topic2\", \"Topic2\", \"Topic2\", \"Topic2\", \"Topic2\", \"Topic2\", \"Topic2\", \"Topic2\", \"Topic3\", \"Topic3\", \"Topic3\", \"Topic3\", \"Topic3\", \"Topic3\", \"Topic3\", \"Topic3\", \"Topic3\", \"Topic3\", \"Topic3\", \"Topic3\", \"Topic3\", \"Topic3\", \"Topic3\", \"Topic3\", \"Topic4\", \"Topic4\", \"Topic4\", \"Topic4\", \"Topic4\", \"Topic4\", \"Topic4\", \"Topic4\", \"Topic4\", \"Topic4\", \"Topic4\", \"Topic4\", \"Topic4\", \"Topic4\", \"Topic4\", \"Topic4\", \"Topic4\", \"Topic4\", \"Topic4\", \"Topic5\", \"Topic5\", \"Topic5\", \"Topic5\", \"Topic5\", \"Topic5\", \"Topic5\", \"Topic5\", \"Topic5\", \"Topic5\", \"Topic5\", \"Topic5\", \"Topic5\", \"Topic5\", \"Topic5\", \"Topic5\", \"Topic5\", \"Topic6\", \"Topic6\", \"Topic6\", \"Topic6\", \"Topic6\", \"Topic6\", \"Topic6\", \"Topic6\", \"Topic6\", \"Topic6\", \"Topic6\", \"Topic6\", \"Topic6\", \"Topic6\", \"Topic6\", \"Topic6\", \"Topic7\", \"Topic7\", \"Topic7\", \"Topic7\", \"Topic7\", \"Topic7\", \"Topic7\", \"Topic7\", \"Topic7\", \"Topic7\", \"Topic7\", \"Topic7\", \"Topic7\"], \"logprob\": [10.0, 9.0, 8.0, 7.0, 6.0, 5.0, 4.0, 3.0, 2.0, 1.0, -5.2711, -6.3635, -6.844, -5.8214, -5.946, -6.3782, -6.2583, -5.7557, -6.2574, -6.6889, -5.6996, -5.8061, -5.898, -5.8887, -5.9936, -5.9196, -5.9035, -5.8006, -7.2369, -7.5465, -7.819, -7.7914, -8.0722, -8.0698, -7.9493, -8.0924, -8.0906, -8.3667, -7.0189, -5.9876, -7.5198, -7.2915, -7.3172, -7.4389, -7.4711, -7.4696, -7.2483, -7.9192, -8.1231, -8.2068, -8.2528, -8.0831, -8.1716, -8.3291, -8.2859, -8.4418, -7.9159, -7.2288, -8.0679, -7.9873, -8.1192, -7.8792, -7.7764, -8.0627, -8.2575, -7.954, -8.1155, -8.1474, -8.389, -8.437, -8.4414, -7.5673, -8.1463, -7.5825, -8.0941, -7.6719, -7.8145, -8.0024, -8.0168, -8.0027, -8.0326, -7.8671, -8.0438, -8.2327, -8.2306, -8.0547, -8.3, -8.3149, -8.4264, -8.4443, -8.4519, -7.6219, -8.3778, -8.0709, -8.2181, -7.645, -8.2337, -8.1645, -7.8642, -8.1865, -8.1879, -8.0961, -8.3458, -8.3127, -8.383, -8.4048, -8.5056, -8.5171, -8.3705, -8.2276, -8.1346, -8.1268, -8.361, -8.3532, -7.8945, -8.1959, -8.3116, -8.1881, -8.3161, -8.3454, -8.4396, -8.3588, -8.5038, -8.5306, -8.3935, -8.2587, -8.4242], \"loglift\": [10.0, 9.0, 8.0, 7.0, 6.0, 5.0, 4.0, 3.0, 2.0, 1.0, 0.2053, 0.205, 0.2048, 0.2048, 0.2047, 0.2044, 0.2044, 0.2044, 0.2042, 0.2039, 0.2034, 0.203, 0.2038, 0.2037, 0.2039, 0.2031, 0.2021, 0.1985, 3.1018, 3.0011, 2.9192, 2.9076, 2.8911, 2.8861, 2.8803, 2.8686, 2.8682, 2.7745, 2.4402, 1.7234, 2.271, 0.7918, 0.7957, 1.1259, 0.5682, -0.4701, 3.102, 2.9614, 2.8889, 2.8521, 2.8439, 2.8159, 2.8051, 2.7896, 2.7743, 2.7638, 2.7408, 2.3402, 2.6647, 2.4131, 2.5981, -1.88, 3.0199, 2.8775, 2.8294, 2.8133, 2.8012, 2.7772, 2.7755, 2.7723, 2.7697, 2.7602, 2.7356, 2.3999, 2.6159, 2.0952, 2.1815, 2.0908, 2.0613, -2.5264, -1.1784, 3.0018, 2.9471, 2.8734, 2.8675, 2.8516, 2.8453, 2.8318, 2.8049, 2.7946, 2.7851, 2.6865, 2.7394, 2.4707, 2.3847, -0.3377, 2.3381, 1.6911, 2.9224, 2.92, 2.9133, 2.8643, 2.8535, 2.8474, 2.8396, 2.8319, 2.7851, 2.7792, 2.7768, 2.7342, 2.5518, 2.328, 2.7293, 1.2363, 2.9848, 2.9266, 2.864, 2.8583, 2.8187, 2.8014, 2.8013, 2.7907, 2.7883, 2.7747, 2.7712, 2.7153, 2.7238]}, \"token.table\": {\"Topic\": [3, 3, 2, 1, 1, 1, 4, 1, 3, 4, 1, 2, 1, 2, 3, 1, 3, 1, 3, 2, 1, 1, 1, 4, 1, 4, 1, 1, 2, 1, 2, 1, 4, 1, 2, 1, 1, 2, 3, 2, 2, 4, 6, 1, 2, 1, 2, 4, 1, 1, 4, 5, 1, 2, 3, 2, 1, 1, 1, 2, 4, 1, 5, 1, 4, 2, 1, 2, 1, 2, 1, 2, 2, 5, 1, 5, 1, 1, 4, 3, 1, 1, 1, 1, 1, 3, 7, 4, 5, 4, 1, 1, 1, 4, 1, 5, 2], \"Freq\": [0.6040255277235452, 0.8206045218835766, 1.1099728080845195, 0.978783644887919, 0.9892447015369259, 0.9876861849841903, 0.8655262575786783, 0.9907522294293407, 1.17070593748738, 1.0895767324863774, 0.7764445736392611, 0.21567904823312808, 0.9811753118606557, 0.007787105649687743, 0.007787105649687743, 0.27653105870389455, 0.27653105870389455, 0.7537401675244023, 0.8719206339529919, 0.8902328602751965, 0.9885661874866164, 0.990418193875941, 0.46709351183457715, 0.46709351183457715, 0.9780028281687475, 0.01528129419013668, 0.7366773886585493, 0.8762812580585352, 0.06259151843275251, 0.9722665385494013, 0.01593879571392461, 0.674296994328492, 0.337148497164246, 0.9117327434820207, 0.10130363816466897, 0.9875150494359699, 0.9026745486023438, 0.06447675347159598, 0.8853457049572231, 1.1124016329952673, 0.7357356654022228, 1.0643152516517798, 0.9344020416469729, 0.9740824167141823, 0.021175704711177874, 0.9879374856940721, 0.004616530306981646, 0.004616530306981646, 0.9897230915495315, 0.4180839911616784, 0.4180839911616784, 1.1462476861665143, 0.4955031824673762, 0.4955031824673762, 1.045662952726832, 0.597048472970779, 0.9868004033265634, 0.9920436971646096, 0.9705561780483296, 0.018312380717893012, 0.018312380717893012, 0.7313966324724074, 0.7313966324724074, 0.4238475459975431, 0.4238475459975431, 0.9755231513085114, 0.8984542254222577, 0.05989694836148385, 0.7775588757026789, 1.1150301530988709, 0.6904468220980094, 0.3452234110490047, 0.8561056458232981, 0.5792347839485579, 0.9506922238243016, 0.02880885526740308, 0.9837746041581255, 0.46008520998196933, 0.46008520998196933, 1.026529369339521, 0.9909394507984988, 0.8468102535155156, 0.9875058020068008, 0.983156724216176, 0.6350132147350132, 0.6350132147350132, 1.0251921613782016, 0.9435284146944657, 1.0532391706332245, 0.9165388792159953, 0.9901878912565819, 0.9915839824300124, 0.5904187380294511, 0.5904187380294511, 0.6705544376135987, 1.0145623498388252, 1.1067675607677743], \"Term\": [\"\", \"afterlif\", \"ah-ooh\", \"alright\", \"alway\", \"away\", \"baltimor\", \"believ\", \"birdi\", \"calypso\", \"christma\", \"christma\", \"come\", \"come\", \"come\", \"dey\", \"dey\", \"dum\", \"eclips\", \"exalt\", \"feel\", \"find\", \"foolin\", \"foolin\", \"fuck\", \"fuck\", \"funk\", \"glori\", \"glori\", \"god\", \"god\", \"gyal\", \"gyal\", \"hallelujah\", \"hallelujah\", \"heart\", \"holi\", \"holi\", \"hypocrit\", \"israel\", \"jacki\", \"jehovah\", \"jingl\", \"lord\", \"lord\", \"love\", \"love\", \"love\", \"mayb\", \"mek\", \"mek\", \"merlin\", \"merri\", \"merri\", \"merrili\", \"mistleto\", \"need\", \"never\", \"nigga\", \"nigga\", \"nigga\", \"nothing\", \"nothing\", \"pon\", \"pon\", \"popular\", \"prais\", \"prais\", \"pum\", \"rainin\", \"rave\", \"rave\", \"reindeer\", \"robot\", \"rock\", \"rock\", \"say\", \"seh\", \"seh\", \"shanti\", \"someth\", \"tail\", \"take\", \"time\", \"timeless\", \"timeless\", \"tusk\", \"victoria\", \"vie\", \"voyag\", \"want\", \"way\", \"weh\", \"weh\", \"wha\", \"wiggl\", \"yahweh\"]}, \"R\": 10, \"lambda.step\": 0.01, \"plot.opts\": {\"xlab\": \"PC1\", \"ylab\": \"PC2\"}, \"topic.order\": [2, 7, 6, 1, 4, 5, 3]};\n",
       "\n",
       "function LDAvis_load_lib(url, callback){\n",
       "  var s = document.createElement('script');\n",
       "  s.src = url;\n",
       "  s.async = true;\n",
       "  s.onreadystatechange = s.onload = callback;\n",
       "  s.onerror = function(){console.warn(\"failed to load library \" + url);};\n",
       "  document.getElementsByTagName(\"head\")[0].appendChild(s);\n",
       "}\n",
       "\n",
       "if(typeof(LDAvis) !== \"undefined\"){\n",
       "   // already loaded: just create the visualization\n",
       "   !function(LDAvis){\n",
       "       new LDAvis(\"#\" + \"ldavis_el1931216993438261926268491096\", ldavis_el1931216993438261926268491096_data);\n",
       "   }(LDAvis);\n",
       "}else if(typeof define === \"function\" && define.amd){\n",
       "   // require.js is available: use it to load d3/LDAvis\n",
       "   require.config({paths: {d3: \"https://d3js.org/d3.v5\"}});\n",
       "   require([\"d3\"], function(d3){\n",
       "      window.d3 = d3;\n",
       "      LDAvis_load_lib(\"https://cdn.jsdelivr.net/gh/bmabey/pyLDAvis@3.4.0/pyLDAvis/js/ldavis.v3.0.0.js\", function(){\n",
       "        new LDAvis(\"#\" + \"ldavis_el1931216993438261926268491096\", ldavis_el1931216993438261926268491096_data);\n",
       "      });\n",
       "    });\n",
       "}else{\n",
       "    // require.js not available: dynamically load d3 & LDAvis\n",
       "    LDAvis_load_lib(\"https://d3js.org/d3.v5.js\", function(){\n",
       "         LDAvis_load_lib(\"https://cdn.jsdelivr.net/gh/bmabey/pyLDAvis@3.4.0/pyLDAvis/js/ldavis.v3.0.0.js\", function(){\n",
       "                 new LDAvis(\"#\" + \"ldavis_el1931216993438261926268491096\", ldavis_el1931216993438261926268491096_data);\n",
       "            })\n",
       "         });\n",
       "}\n",
       "</script>"
      ],
      "text/plain": [
       "<IPython.core.display.HTML object>"
      ]
     },
     "execution_count": 449,
     "metadata": {},
     "output_type": "execute_result"
    }
   ],
   "source": [
    "## Visualise the topics\n",
    "\n",
    "pyLDAvis.enable_notebook() ## If you're using a notebook env\n",
    "\n",
    "lda_display = gensimvis.prepare(lda_model_7, ## the model\n",
    "                                tfidf_corp, ## the TF-IDF corpus\n",
    "                                dictionary, ## Our dictionary\n",
    "                                #mds='mmds',\n",
    "                                R=10, ## How many topics to show\n",
    "                                n_jobs=7, \n",
    "                                mds='TSNE') ## T-distributed Stochastic Neighbourhood Embedding > dim reduction\n",
    "\n",
    "pyLDAvis.display(lda_display) "
   ]
  },
  {
   "cell_type": "markdown",
   "id": "cca1d50a-ba91-4cc9-9d2a-324478f2af0b",
   "metadata": {},
   "source": [
    "Most of the terms fall within topic 1 above, with encompass the theme of 'love' and 'romance'. This highlights a large limitation of using this topic modelling for this dataset for song recommendation."
   ]
  },
  {
   "cell_type": "code",
   "execution_count": 12,
   "id": "4e411a26-5b2d-465e-8162-59a9007871c3",
   "metadata": {},
   "outputs": [],
   "source": [
    "## Load the model (if running from this point)\n",
    "from gensim.models import LdaMulticore\n",
    "lda_model_7 = LdaMulticore.load('gensim_lda_model.model')"
   ]
  },
  {
   "cell_type": "code",
   "execution_count": 14,
   "id": "d187942b-e3bd-40fd-849b-3d71cf191d94",
   "metadata": {
    "scrolled": true
   },
   "outputs": [
    {
     "data": {
      "image/png": "[encoded data removed]",
      "text/plain": [
       "<Figure size 2000x2000 with 7 Axes>"
      ]
     },
     "metadata": {},
     "output_type": "display_data"
    }
   ],
   "source": [
    "## Plot wordclouds for each topic\n",
    "\n",
    "# Use a custom colour option\n",
    "custom_colors = ['#00E4AE', '#20BDFF', '#0066FF', '#4400FF', '#9500FF', '#FF00E6', '#FF0099']\n",
    "\n",
    "# Replace the cols definition with your chosen palette (e.g., using custom_colors)\n",
    "cols = custom_colors  # or ocean_colors or teal_colors\n",
    "\n",
    "stop_words = stopwords.words('english')\n",
    "\n",
    "# Initiate the cloud format\n",
    "cloud = WordCloud(stopwords=stop_words,\n",
    "                 background_color='white',\n",
    "                 width=2500,\n",
    "                 height=1800,\n",
    "                 max_words=10,\n",
    "                 prefer_horizontal=1.0,\n",
    "                 color_func=lambda *args, **kwargs: cols[i])\n",
    "\n",
    "# Use the topics from the LDA model\n",
    "topics = lda_model_7.show_topics(formatted=False)\n",
    "\n",
    "# Create 7 subplots for each topic\n",
    "fig, axes = plt.subplots(1, 7, figsize=(20,20), sharex=True, sharey=True)\n",
    "\n",
    "# Plot each topic's word cloud\n",
    "for i, ax in enumerate(axes.flatten()):\n",
    "    fig.add_subplot(ax)\n",
    "    topic_words = dict(topics[i][1])\n",
    "    cloud.generate_from_frequencies(topic_words, max_font_size=300)\n",
    "    plt.gca().imshow(cloud)\n",
    "    plt.gca().set_title('Topic ' + str(i), fontdict=dict(size=12))\n",
    "    plt.gca().axis('off')\n",
    "\n",
    "# Save as image\n",
    "plt.savefig('topic_word_clouds.png', \n",
    "            dpi=300,              # High resolution\n",
    "            bbox_inches='tight',  # Removes extra whitespace\n",
    "            pad_inches=0.1)       # Adds small padding\n",
    "\n",
    "# Display it\n",
    "plt.subplots_adjust(wspace=0, hspace=0)\n",
    "plt.axis('off')\n",
    "plt.margins(x=0, y=0)\n",
    "plt.tight_layout()\n",
    "plt.show()\n",
    "\n"
   ]
  },
  {
   "cell_type": "markdown",
   "id": "15ebb352-535b-42a1-bde8-3efb240924fb",
   "metadata": {},
   "source": [
    "Source of code for the word cloud: [Topic modeling visualization](https://www.machinelearningplus.com/nlp/topic-modeling-visualization-how-to-present-results-lda-models/)."
   ]
  },
  {
   "cell_type": "markdown",
   "id": "781d496e-bf34-4898-b7ea-62536a5b9be8",
   "metadata": {},
   "source": [
    "**Interpretation of Topics**\n",
    "- Topic 0: Caribbean-Inspired\n",
    "  - Terms e.g., 'weh' (where), 'gyal' (girl), 'pon' (on), suggest the use of Caribbean dialects, and this this topic could be associated with reggae, dancehall, or Afro-Caribbean music.\n",
    "- Topic 1: Love & Relationships\n",
    "  - Terms e.g., \"love,\" \"want,\" \"feel,\" suggest a heavy focus on love, emotions and romance. This is a very common theme, and most of the songs fall in this topic.\n",
    "- Topic 2: Abstract Imagery & Supernatural\n",
    "  - The terms are unusual and fragmented. There are references to randomness (\"roulett\"), supernatural themes (\"werewolf\"), and abstract imagery (\"contort\", \"squash\", \"unprepar\"). This suggests a theme of surrealism, or experimental music.\n",
    "- Topic 3: Funk, Rock & Groove\n",
    "  - Terms e.g.,  \"robot,\" \"rock,\", \"funk\", \"wiggl\" suggests a theme rooted in groove-based music like funk, rock, or electronic dance music. The inclusion of robot might indicate robotic or futuristic elements.\n",
    "- Topic 4: Winter & Nature-Inspired\n",
    "  - Terms e.g., \"jingl\", \"snowman\" suggest winter-themed music, while terms including \"waterfront\", \"seabird\", and \"marigold\" could hint at nature and peaceful settings. This topic may cover festive, spiritual, or nostalgic winter songs.\n",
    "- Topic 5: Philosophical & Existential Themes\n",
    "  - This topic is harder to find a theme for but terms like \"afterlife\", \"timeless\", \"eclipse\", \"hypocrite\", might suggest a focus on reflection/questioning or spirituality.\n",
    "- Topic 6: Christmas & Religious\n",
    "  - Terms e.g., \"christma,\" \"merri,\" \"mistleto,\" \"glori,\" \"holi,\" \"hallelujah,\" \"lord,\" clearly represents religious or holiday-themed music, particularly Christian and Christmas songs. Words like hallelujah, glory, and praise align with gospel or worship music, while mistletoe and merry indicate Christmas pop classics."
   ]
  },
  {
   "cell_type": "markdown",
   "id": "a3543362-d201-4898-8547-ccb3354bf9f1",
   "metadata": {},
   "source": [
    "Now, we need to calculate the distribution of documents/lyrics across topics."
   ]
  },
  {
   "cell_type": "code",
   "execution_count": 500,
   "id": "c5a36fb4-2162-4f45-a39d-25b050e4a308",
   "metadata": {},
   "outputs": [
    {
     "data": {
      "text/plain": [
       "[(0, 0.022741517),\n",
       " (1, 0.8635487),\n",
       " (2, 0.02274008),\n",
       " (3, 0.022740806),\n",
       " (4, 0.022740804),\n",
       " (5, 0.02274354),\n",
       " (6, 0.022744548)]"
      ]
     },
     "execution_count": 500,
     "metadata": {},
     "output_type": "execute_result"
    }
   ],
   "source": [
    "## Observe the distribution of topic for the first document\n",
    "lda_model_7[tfidf_corp[0]] # Topic 1 is dominant i.e., has the maximum document contribution"
   ]
  },
  {
   "cell_type": "code",
   "execution_count": 503,
   "id": "f5350169-2dc1-4976-b837-46ae5f97ef3c",
   "metadata": {},
   "outputs": [],
   "source": [
    "## Define a function which displays the distribution of topics across a given document\n",
    "\n",
    "def topic_distribution(document):\n",
    "    # Assert an error if the document is not found in the corpus\n",
    "    assert(document in range(len(tfidf_corp))), \"Document number outside of bounds.\"\n",
    "    # Loop through each topic\n",
    "    for topic_num in range(lda_model_7.num_topics):\n",
    "        # Display the topic distribution\n",
    "        print(f\"Topic {topic_num} has {round(lda_model_7[tfidf_corp[document]][topic_num][1]*100, 2)} % contribution towards document {document}.\")"
   ]
  },
  {
   "cell_type": "code",
   "execution_count": 505,
   "id": "838b3c6f-4a8a-4829-8eb6-319b6ea5ba64",
   "metadata": {},
   "outputs": [
    {
     "name": "stdout",
     "output_type": "stream",
     "text": [
      "Topic 0 has 2.27 % contribution towards document 0.\n",
      "Topic 1 has 86.35 % contribution towards document 0.\n",
      "Topic 2 has 2.27 % contribution towards document 0.\n",
      "Topic 3 has 2.27 % contribution towards document 0.\n",
      "Topic 4 has 2.27 % contribution towards document 0.\n",
      "Topic 5 has 2.27 % contribution towards document 0.\n",
      "Topic 6 has 2.27 % contribution towards document 0.\n"
     ]
    }
   ],
   "source": [
    "topic_distribution(0)"
   ]
  },
  {
   "cell_type": "code",
   "execution_count": 515,
   "id": "a0161e90-2bd2-46ce-989b-4070e19e986a",
   "metadata": {},
   "outputs": [],
   "source": [
    "## Format the topic distribution of all the lyrics as a dictionary\n",
    "dictionary_model =\\\n",
    "    {document_no: \n",
    "        {lda_model_7[tfidf_corp[document_no]][topic][0]:\n",
    "             lda_model_7[tfidf_corp[document_no]][topic][1] \n",
    "                 for topic in range(len(lda_model_7[tfidf_corp[document_no]]))\n",
    "        }\n",
    "            for document_no in range(len(tfidf_corp))\n",
    "    } \n",
    "\n",
    "## Update the dictionary to include 0 if a topic is not found in the document (i.e., has zero impact)\n",
    "numDocs = len(dictionary_model) # How many documents (lyrics) do we have (10,000)\n",
    "numTopics = lda_model_7.num_topics # How many topics do we have (7)\n",
    "\n",
    "# Loop through each document\n",
    "for doc in range(numDocs):\n",
    "    # Loop through 1-7 (number of topics)\n",
    "    for topic in range(numTopics):\n",
    "        # If the topic cannot be found, update the topic to contain a distribution of 0\n",
    "        if topic not in dictionary_model[doc].keys():\n",
    "            dictionary_model[doc].update({topic:0})  "
   ]
  },
  {
   "cell_type": "code",
   "execution_count": 520,
   "id": "dfdf573a-2301-4fee-beb1-01de37e561aa",
   "metadata": {},
   "outputs": [
    {
     "data": {
      "text/html": [
       "<div>\n",
       "<style scoped>\n",
       "    .dataframe tbody tr th:only-of-type {\n",
       "        vertical-align: middle;\n",
       "    }\n",
       "\n",
       "    .dataframe tbody tr th {\n",
       "        vertical-align: top;\n",
       "    }\n",
       "\n",
       "    .dataframe thead th {\n",
       "        text-align: right;\n",
       "    }\n",
       "</style>\n",
       "<table border=\"1\" class=\"dataframe\">\n",
       "  <thead>\n",
       "    <tr style=\"text-align: right;\">\n",
       "      <th></th>\n",
       "      <th>Topic_distr_0</th>\n",
       "      <th>Topic_distr_1</th>\n",
       "      <th>Topic_distr_2</th>\n",
       "      <th>Topic_distr_3</th>\n",
       "      <th>Topic_distr_4</th>\n",
       "      <th>Topic_distr_5</th>\n",
       "      <th>Topic_distr_6</th>\n",
       "    </tr>\n",
       "  </thead>\n",
       "  <tbody>\n",
       "    <tr>\n",
       "      <th>0</th>\n",
       "      <td>0.022741</td>\n",
       "      <td>0.863549</td>\n",
       "      <td>0.022740</td>\n",
       "      <td>0.022741</td>\n",
       "      <td>0.022741</td>\n",
       "      <td>0.022743</td>\n",
       "      <td>0.022744</td>\n",
       "    </tr>\n",
       "    <tr>\n",
       "      <th>1</th>\n",
       "      <td>0.035486</td>\n",
       "      <td>0.787082</td>\n",
       "      <td>0.035483</td>\n",
       "      <td>0.035490</td>\n",
       "      <td>0.035484</td>\n",
       "      <td>0.035489</td>\n",
       "      <td>0.035488</td>\n",
       "    </tr>\n",
       "    <tr>\n",
       "      <th>2</th>\n",
       "      <td>0.024531</td>\n",
       "      <td>0.852813</td>\n",
       "      <td>0.024529</td>\n",
       "      <td>0.024530</td>\n",
       "      <td>0.024530</td>\n",
       "      <td>0.024533</td>\n",
       "      <td>0.024533</td>\n",
       "    </tr>\n",
       "    <tr>\n",
       "      <th>3</th>\n",
       "      <td>0.141410</td>\n",
       "      <td>0.750485</td>\n",
       "      <td>0.021616</td>\n",
       "      <td>0.021611</td>\n",
       "      <td>0.021626</td>\n",
       "      <td>0.021613</td>\n",
       "      <td>0.021675</td>\n",
       "    </tr>\n",
       "    <tr>\n",
       "      <th>4</th>\n",
       "      <td>0.019910</td>\n",
       "      <td>0.880539</td>\n",
       "      <td>0.019909</td>\n",
       "      <td>0.019910</td>\n",
       "      <td>0.019909</td>\n",
       "      <td>0.019912</td>\n",
       "      <td>0.019911</td>\n",
       "    </tr>\n",
       "  </tbody>\n",
       "</table>\n",
       "</div>"
      ],
      "text/plain": [
       "   Topic_distr_0  Topic_distr_1  Topic_distr_2  Topic_distr_3  Topic_distr_4  \\\n",
       "0       0.022741       0.863549       0.022740       0.022741       0.022741   \n",
       "1       0.035486       0.787082       0.035483       0.035490       0.035484   \n",
       "2       0.024531       0.852813       0.024529       0.024530       0.024530   \n",
       "3       0.141410       0.750485       0.021616       0.021611       0.021626   \n",
       "4       0.019910       0.880539       0.019909       0.019910       0.019909   \n",
       "\n",
       "   Topic_distr_5  Topic_distr_6  \n",
       "0       0.022743       0.022744  \n",
       "1       0.035489       0.035488  \n",
       "2       0.024533       0.024533  \n",
       "3       0.021613       0.021675  \n",
       "4       0.019912       0.019911  "
      ]
     },
     "execution_count": 520,
     "metadata": {},
     "output_type": "execute_result"
    }
   ],
   "source": [
    "## Translate to a df\n",
    "topic_distr =\\\n",
    "    {'Topic_distr_' + str(topic):\n",
    "        [dictionary_model[doc][topic] \n",
    "             for doc in dictionary_model.keys()]\n",
    "        for topic in range(numTopics)\n",
    "    } \n",
    "topics_data = pd.DataFrame(topic_distr)\n",
    "topics_data.head()"
   ]
  },
  {
   "cell_type": "code",
   "execution_count": 522,
   "id": "7d885c20-8b12-4d54-9471-171548849174",
   "metadata": {},
   "outputs": [
    {
     "data": {
      "text/plain": [
       "(10000, 7)"
      ]
     },
     "execution_count": 522,
     "metadata": {},
     "output_type": "execute_result"
    }
   ],
   "source": [
    "topics_data.shape"
   ]
  },
  {
   "cell_type": "code",
   "execution_count": 527,
   "id": "5badadcb-8080-4c1d-b4ae-671a6ba9dceb",
   "metadata": {},
   "outputs": [
    {
     "data": {
      "text/html": [
       "<div>\n",
       "<style scoped>\n",
       "    .dataframe tbody tr th:only-of-type {\n",
       "        vertical-align: middle;\n",
       "    }\n",
       "\n",
       "    .dataframe tbody tr th {\n",
       "        vertical-align: top;\n",
       "    }\n",
       "\n",
       "    .dataframe thead th {\n",
       "        text-align: right;\n",
       "    }\n",
       "</style>\n",
       "<table border=\"1\" class=\"dataframe\">\n",
       "  <thead>\n",
       "    <tr style=\"text-align: right;\">\n",
       "      <th></th>\n",
       "      <th>name</th>\n",
       "      <th>album_name</th>\n",
       "      <th>artists</th>\n",
       "      <th>lyrics</th>\n",
       "      <th>lyrics_length</th>\n",
       "      <th>emotion</th>\n",
       "      <th>lyric_tokens</th>\n",
       "      <th>Topic_distr_0</th>\n",
       "      <th>Topic_distr_1</th>\n",
       "      <th>Topic_distr_2</th>\n",
       "      <th>Topic_distr_3</th>\n",
       "      <th>Topic_distr_4</th>\n",
       "      <th>Topic_distr_5</th>\n",
       "      <th>Topic_distr_6</th>\n",
       "    </tr>\n",
       "  </thead>\n",
       "  <tbody>\n",
       "    <tr>\n",
       "      <th>0</th>\n",
       "      <td>They Want War</td>\n",
       "      <td>NaN</td>\n",
       "      <td>U.D.O.</td>\n",
       "      <td>They are young and they're kids\\n And believe ...</td>\n",
       "      <td>1285</td>\n",
       "      <td>disgust</td>\n",
       "      <td>[young, kid, believ, see, told, walk, away, op...</td>\n",
       "      <td>0.022741</td>\n",
       "      <td>0.863549</td>\n",
       "      <td>0.022740</td>\n",
       "      <td>0.022741</td>\n",
       "      <td>0.022741</td>\n",
       "      <td>0.022743</td>\n",
       "      <td>0.022744</td>\n",
       "    </tr>\n",
       "    <tr>\n",
       "      <th>1</th>\n",
       "      <td>Cry</td>\n",
       "      <td>Asphodel</td>\n",
       "      <td>The Machine In The Garden</td>\n",
       "      <td>I cry for the things you know\\n the things tha...</td>\n",
       "      <td>285</td>\n",
       "      <td>sadness</td>\n",
       "      <td>[cri, must, say, fli, soul, air, cri, see, pla...</td>\n",
       "      <td>0.035486</td>\n",
       "      <td>0.787082</td>\n",
       "      <td>0.035483</td>\n",
       "      <td>0.035490</td>\n",
       "      <td>0.035484</td>\n",
       "      <td>0.035489</td>\n",
       "      <td>0.035488</td>\n",
       "    </tr>\n",
       "    <tr>\n",
       "      <th>2</th>\n",
       "      <td>Know Better (feat. Mister Blonde)</td>\n",
       "      <td>NaN</td>\n",
       "      <td>JayKode</td>\n",
       "      <td>We stay up till we see the sun\\n But I can nev...</td>\n",
       "      <td>1223</td>\n",
       "      <td>fear</td>\n",
       "      <td>[stay, till, see, sun, never, enough, vision, ...</td>\n",
       "      <td>0.024531</td>\n",
       "      <td>0.852813</td>\n",
       "      <td>0.024529</td>\n",
       "      <td>0.024530</td>\n",
       "      <td>0.024530</td>\n",
       "      <td>0.024533</td>\n",
       "      <td>0.024533</td>\n",
       "    </tr>\n",
       "    <tr>\n",
       "      <th>3</th>\n",
       "      <td>Baltimore</td>\n",
       "      <td>NaN</td>\n",
       "      <td>The Drifters</td>\n",
       "      <td>Beat-up little seagull\\n On a marble stair\\n T...</td>\n",
       "      <td>786</td>\n",
       "      <td>sadness</td>\n",
       "      <td>[beat-up, littl, seagul, marbl, stair, tryin, ...</td>\n",
       "      <td>0.141410</td>\n",
       "      <td>0.750485</td>\n",
       "      <td>0.021616</td>\n",
       "      <td>0.021611</td>\n",
       "      <td>0.021626</td>\n",
       "      <td>0.021613</td>\n",
       "      <td>0.021675</td>\n",
       "    </tr>\n",
       "    <tr>\n",
       "      <th>4</th>\n",
       "      <td>This Goodbye</td>\n",
       "      <td>Porcelain Heart</td>\n",
       "      <td>Beth Crowley</td>\n",
       "      <td>My world caught fire\\n You're the one who lit ...</td>\n",
       "      <td>1347</td>\n",
       "      <td>sadness</td>\n",
       "      <td>[world, caught, fire, lit, spark, play, match,...</td>\n",
       "      <td>0.019910</td>\n",
       "      <td>0.880539</td>\n",
       "      <td>0.019909</td>\n",
       "      <td>0.019910</td>\n",
       "      <td>0.019909</td>\n",
       "      <td>0.019912</td>\n",
       "      <td>0.019911</td>\n",
       "    </tr>\n",
       "  </tbody>\n",
       "</table>\n",
       "</div>"
      ],
      "text/plain": [
       "                                name       album_name  \\\n",
       "0                      They Want War              NaN   \n",
       "1                                Cry         Asphodel   \n",
       "2  Know Better (feat. Mister Blonde)              NaN   \n",
       "3                          Baltimore              NaN   \n",
       "4                       This Goodbye  Porcelain Heart   \n",
       "\n",
       "                     artists  \\\n",
       "0                     U.D.O.   \n",
       "1  The Machine In The Garden   \n",
       "2                    JayKode   \n",
       "3               The Drifters   \n",
       "4               Beth Crowley   \n",
       "\n",
       "                                              lyrics  lyrics_length  emotion  \\\n",
       "0  They are young and they're kids\\n And believe ...           1285  disgust   \n",
       "1  I cry for the things you know\\n the things tha...            285  sadness   \n",
       "2  We stay up till we see the sun\\n But I can nev...           1223     fear   \n",
       "3  Beat-up little seagull\\n On a marble stair\\n T...            786  sadness   \n",
       "4  My world caught fire\\n You're the one who lit ...           1347  sadness   \n",
       "\n",
       "                                        lyric_tokens  Topic_distr_0  \\\n",
       "0  [young, kid, believ, see, told, walk, away, op...       0.022741   \n",
       "1  [cri, must, say, fli, soul, air, cri, see, pla...       0.035486   \n",
       "2  [stay, till, see, sun, never, enough, vision, ...       0.024531   \n",
       "3  [beat-up, littl, seagul, marbl, stair, tryin, ...       0.141410   \n",
       "4  [world, caught, fire, lit, spark, play, match,...       0.019910   \n",
       "\n",
       "   Topic_distr_1  Topic_distr_2  Topic_distr_3  Topic_distr_4  Topic_distr_5  \\\n",
       "0       0.863549       0.022740       0.022741       0.022741       0.022743   \n",
       "1       0.787082       0.035483       0.035490       0.035484       0.035489   \n",
       "2       0.852813       0.024529       0.024530       0.024530       0.024533   \n",
       "3       0.750485       0.021616       0.021611       0.021626       0.021613   \n",
       "4       0.880539       0.019909       0.019910       0.019909       0.019912   \n",
       "\n",
       "   Topic_distr_6  \n",
       "0       0.022744  \n",
       "1       0.035488  \n",
       "2       0.024533  \n",
       "3       0.021675  \n",
       "4       0.019911  "
      ]
     },
     "execution_count": 527,
     "metadata": {},
     "output_type": "execute_result"
    }
   ],
   "source": [
    "## Join this to the lyrics dataset\n",
    "lyrics_combined = pd.concat([lyrics_clean, topics_data], axis = 1) # Join on their row indicies\n",
    "lyrics_combined.head()"
   ]
  },
  {
   "cell_type": "markdown",
   "id": "1e687046-5779-499b-b3ee-9e8a95809eb5",
   "metadata": {
    "jp-MarkdownHeadingCollapsed": true
   },
   "source": [
    "### 3.4 Explore the songs by Topic"
   ]
  },
  {
   "cell_type": "code",
   "execution_count": 16,
   "id": "07a223f1-f07b-49c2-964d-0a9694d8e055",
   "metadata": {},
   "outputs": [],
   "source": [
    "# ## Load the data\n",
    "# lyrics_combined = pd.read_csv(\"Data/lyrics_complete.csv\")"
   ]
  },
  {
   "cell_type": "code",
   "execution_count": 77,
   "id": "ce11ae36-b099-492d-98ae-c7149346e516",
   "metadata": {},
   "outputs": [
    {
     "name": "stderr",
     "output_type": "stream",
     "text": [
      "<>:5: DeprecationWarning: invalid escape sequence '\\d'\n",
      "<>:5: DeprecationWarning: invalid escape sequence '\\d'\n",
      "C:\\Users\\isabe\\AppData\\Local\\Temp\\ipykernel_46788\\3037208964.py:5: DeprecationWarning: invalid escape sequence '\\d'\n",
      "  lyrics_combined[\"dominant_topic\"] = lyrics_combined[cols_to_check].idxmax(axis=1).str.extract(\"(\\d+)\").astype(int) # Retrieve the number in the column names with the max value in each row\n"
     ]
    }
   ],
   "source": [
    "## Retrieve and store the dominant topic of each song\n",
    "\n",
    "cols_to_check = ['Topic_distr_0', 'Topic_distr_1', 'Topic_distr_2', 'Topic_distr_3', 'Topic_distr_4', 'Topic_distr_5', 'Topic_distr_6']\n",
    "\n",
    "lyrics_combined[\"dominant_topic\"] = lyrics_combined[cols_to_check].idxmax(axis=1).str.extract(\"(\\d+)\").astype(int) # Retrieve the number in the column names with the max value in each row"
   ]
  },
  {
   "cell_type": "code",
   "execution_count": 652,
   "id": "dc0d57e8-2816-4287-8507-1d60b21441fb",
   "metadata": {},
   "outputs": [],
   "source": [
    "## Add a column with the topic theme\n",
    "\n",
    "# Define the mapping\n",
    "topic_mapping = {\n",
    "    0: \"Caribbean-Inspired\",\n",
    "    1: \"Love & Relationships\",\n",
    "    2: \"Abstract Imagery & Supernatural\",\n",
    "    3: \"Funk, Rock & Groove\",\n",
    "    4: \"Winter & Nature-Inspired\",\n",
    "    5: \"Philosophical & Existential\",\n",
    "    6: \"Christmas & Religious\"\n",
    "}\n",
    "\n",
    "# Map the topic numbers to their names\n",
    "lyrics_combined['dominant_topic_name'] = lyrics_combined['dominant_topic'].map(topic_mapping)"
   ]
  },
  {
   "cell_type": "code",
   "execution_count": 79,
   "id": "684e2652-9de7-4d37-9783-948555f32880",
   "metadata": {},
   "outputs": [
    {
     "data": {
      "text/html": [
       "<div>\n",
       "<style scoped>\n",
       "    .dataframe tbody tr th:only-of-type {\n",
       "        vertical-align: middle;\n",
       "    }\n",
       "\n",
       "    .dataframe tbody tr th {\n",
       "        vertical-align: top;\n",
       "    }\n",
       "\n",
       "    .dataframe thead th {\n",
       "        text-align: right;\n",
       "    }\n",
       "</style>\n",
       "<table border=\"1\" class=\"dataframe\">\n",
       "  <thead>\n",
       "    <tr style=\"text-align: right;\">\n",
       "      <th></th>\n",
       "      <th>name</th>\n",
       "      <th>album_name</th>\n",
       "      <th>artists</th>\n",
       "      <th>lyrics</th>\n",
       "      <th>lyrics_length</th>\n",
       "      <th>emotion</th>\n",
       "      <th>lyric_tokens</th>\n",
       "      <th>Topic_distr_0</th>\n",
       "      <th>Topic_distr_1</th>\n",
       "      <th>Topic_distr_2</th>\n",
       "      <th>Topic_distr_3</th>\n",
       "      <th>Topic_distr_4</th>\n",
       "      <th>Topic_distr_5</th>\n",
       "      <th>Topic_distr_6</th>\n",
       "      <th>dominant_topic</th>\n",
       "      <th>dominant_topic_name</th>\n",
       "    </tr>\n",
       "  </thead>\n",
       "  <tbody>\n",
       "    <tr>\n",
       "      <th>0</th>\n",
       "      <td>They Want War</td>\n",
       "      <td>NaN</td>\n",
       "      <td>U.D.O.</td>\n",
       "      <td>They are young and they're kids\\n And believe ...</td>\n",
       "      <td>1285</td>\n",
       "      <td>disgust</td>\n",
       "      <td>['young', 'kid', 'believ', 'see', 'told', 'wal...</td>\n",
       "      <td>0.022741</td>\n",
       "      <td>0.863549</td>\n",
       "      <td>0.022740</td>\n",
       "      <td>0.022741</td>\n",
       "      <td>0.022741</td>\n",
       "      <td>0.022743</td>\n",
       "      <td>0.022744</td>\n",
       "      <td>1</td>\n",
       "      <td>Love &amp; Relationships</td>\n",
       "    </tr>\n",
       "    <tr>\n",
       "      <th>1</th>\n",
       "      <td>Cry</td>\n",
       "      <td>Asphodel</td>\n",
       "      <td>The Machine In The Garden</td>\n",
       "      <td>I cry for the things you know\\n the things tha...</td>\n",
       "      <td>285</td>\n",
       "      <td>sadness</td>\n",
       "      <td>['cri', 'must', 'say', 'fli', 'soul', 'air', '...</td>\n",
       "      <td>0.035486</td>\n",
       "      <td>0.787082</td>\n",
       "      <td>0.035483</td>\n",
       "      <td>0.035490</td>\n",
       "      <td>0.035484</td>\n",
       "      <td>0.035489</td>\n",
       "      <td>0.035488</td>\n",
       "      <td>1</td>\n",
       "      <td>Love &amp; Relationships</td>\n",
       "    </tr>\n",
       "  </tbody>\n",
       "</table>\n",
       "</div>"
      ],
      "text/plain": [
       "            name album_name                    artists  \\\n",
       "0  They Want War        NaN                     U.D.O.   \n",
       "1            Cry   Asphodel  The Machine In The Garden   \n",
       "\n",
       "                                              lyrics  lyrics_length  emotion  \\\n",
       "0  They are young and they're kids\\n And believe ...           1285  disgust   \n",
       "1  I cry for the things you know\\n the things tha...            285  sadness   \n",
       "\n",
       "                                        lyric_tokens  Topic_distr_0  \\\n",
       "0  ['young', 'kid', 'believ', 'see', 'told', 'wal...       0.022741   \n",
       "1  ['cri', 'must', 'say', 'fli', 'soul', 'air', '...       0.035486   \n",
       "\n",
       "   Topic_distr_1  Topic_distr_2  Topic_distr_3  Topic_distr_4  Topic_distr_5  \\\n",
       "0       0.863549       0.022740       0.022741       0.022741       0.022743   \n",
       "1       0.787082       0.035483       0.035490       0.035484       0.035489   \n",
       "\n",
       "   Topic_distr_6  dominant_topic   dominant_topic_name  \n",
       "0       0.022744               1  Love & Relationships  \n",
       "1       0.035488               1  Love & Relationships  "
      ]
     },
     "execution_count": 79,
     "metadata": {},
     "output_type": "execute_result"
    }
   ],
   "source": [
    "## Observe the first few rows\n",
    "lyrics_combined.head(2)"
   ]
  },
  {
   "cell_type": "code",
   "execution_count": 101,
   "id": "45c84efb-9542-4a9f-944d-f90d6b926fa8",
   "metadata": {},
   "outputs": [
    {
     "data": {
      "image/png": "[encoded data removed]",
      "text/plain": [
       "<Figure size 800x800 with 1 Axes>"
      ]
     },
     "metadata": {},
     "output_type": "display_data"
    }
   ],
   "source": [
    "## Plot the distribution of topics\n",
    "\n",
    "# Create a dataframe with the count of each emotion\n",
    "topic_count = pd.DataFrame(lyrics_combined['dominant_topic_name'].value_counts()).sort_values(by = 'count', ascending = False)\n",
    "\n",
    "# Set a style\n",
    "sns.set_style(\"darkgrid\")\n",
    "\n",
    "# Set a figure size\n",
    "plt.figure(figsize=(8, 8))\n",
    "\n",
    "# Plot the barplot\n",
    "ax = sns.barplot(data = topic_count,\n",
    "            x = 'dominant_topic_name',\n",
    "            y = 'count',\n",
    "            palette = custom_palette, # Use the custom palette - sns.color_palette(\"blend:#00D1E9,#00e4ae\", n_colors= 7)\n",
    "            hue = 'dominant_topic_name'\n",
    "           )\n",
    "\n",
    "# Adjust the x-axis labels\n",
    "plt.xticks(rotation= 45, # rotating labels\n",
    "           horizontalalignment = 'right' , # aligning them with the bars\n",
    "           fontweight = 'light',\n",
    "           fontsize = 'medium' # setting the fonts\n",
    "          )\n",
    "\n",
    "# Add a title and labels\n",
    "plt.title('Distribution of Songs by Dominant Topic')\n",
    "plt.xlabel('Topic')\n",
    "plt.ylabel('Number of Songs')\n",
    "\n",
    "# Add the song count as annotations on the bar\n",
    "for i in ax.containers:\n",
    "    ax.bar_label(i,)\n",
    "\n",
    "# Save as an image\n",
    "plt.savefig('topic_song_distribution.png', \n",
    "            dpi=300,              # High resolution\n",
    "            bbox_inches='tight',  # Removes extra whitespace\n",
    "            pad_inches=0.1)       # Adds small padding\n",
    "\n",
    "# Display the plot\n",
    "plt.tight_layout()\n",
    "plt.show()\n"
   ]
  },
  {
   "cell_type": "markdown",
   "id": "ef6558f9-8d98-4c35-9c4a-9bea0c5dfb91",
   "metadata": {},
   "source": [
    "Extremely unbalanced between the topics."
   ]
  },
  {
   "cell_type": "code",
   "execution_count": 658,
   "id": "d408a77f-fd2e-4d21-97a5-6b1ec059bfd2",
   "metadata": {},
   "outputs": [
    {
     "data": {
      "text/plain": [
       "emotion   dominant_topic_name            \n",
       "joy       Love & Relationships               4598\n",
       "sadness   Love & Relationships               2425\n",
       "anger     Love & Relationships               1148\n",
       "neutral   Love & Relationships                691\n",
       "fear      Love & Relationships                681\n",
       "disgust   Love & Relationships                137\n",
       "joy       Christmas & Religious                33\n",
       "          Caribbean-Inspired                   31\n",
       "surprise  Love & Relationships                 29\n",
       "joy       Philosophical & Existential          26\n",
       "          Funk, Rock & Groove                  24\n",
       "          Winter & Nature-Inspired             22\n",
       "neutral   Christmas & Religious                20\n",
       "          Abstract Imagery & Supernatural      20\n",
       "joy       Abstract Imagery & Supernatural      20\n",
       "neutral   Caribbean-Inspired                   12\n",
       "          Winter & Nature-Inspired             12\n",
       "          Philosophical & Existential          11\n",
       "          Funk, Rock & Groove                   8\n",
       "sadness   Christmas & Religious                 5\n",
       "fear      Philosophical & Existential           5\n",
       "          Funk, Rock & Groove                   5\n",
       "          Winter & Nature-Inspired              4\n",
       "anger     Caribbean-Inspired                    4\n",
       "fear      Christmas & Religious                 4\n",
       "          Caribbean-Inspired                    4\n",
       "sadness   Caribbean-Inspired                    4\n",
       "          Funk, Rock & Groove                   3\n",
       "fear      Abstract Imagery & Supernatural       3\n",
       "anger     Philosophical & Existential           2\n",
       "sadness   Abstract Imagery & Supernatural       1\n",
       "          Winter & Nature-Inspired              1\n",
       "disgust   Funk, Rock & Groove                   1\n",
       "anger     Abstract Imagery & Supernatural       1\n",
       "disgust   Winter & Nature-Inspired              1\n",
       "anger     Christmas & Religious                 1\n",
       "          Funk, Rock & Groove                   1\n",
       "disgust   Christmas & Religious                 1\n",
       "surprise  Philosophical & Existential           1\n",
       "Name: count, dtype: int64"
      ]
     },
     "execution_count": 658,
     "metadata": {},
     "output_type": "execute_result"
    }
   ],
   "source": [
    "## Plot the distribution of topic by emotion \n",
    "\n",
    "lyrics_combined.groupby('emotion')['dominant_topic_name'].value_counts().sort_values(ascending = False)"
   ]
  },
  {
   "cell_type": "code",
   "execution_count": 646,
   "id": "5d7bc196-443f-46c5-87b1-04e934b01181",
   "metadata": {},
   "outputs": [
    {
     "data": {
      "text/plain": [
       "\"Lord\\n Endow me\\n Lord lord lord lord lord\\n Endow me\\n Lord... Endow me, endow me\\n Endow me\\n Lord lord lord lord... anybody want God to endow?\\n Endow me... I promise if you let go and let God, He will endow you\\n Lord... Yeaaaaaah\\n Endow me\\n Looooord Lord lord lord lord\\n With the power... With the power of the holy ghost\\n Oooohhhhhh ooooohhhhh\\n Endow me\\n Endow me ...sickness will be healed\\n Lord... I'm tired of being the way I am, God endow me\\n Endow me... Oh wrap me in the cradle of His arms\\n Lord lord lord lord, Ohhhh Endow me\\n Endow me... Come on it's your time, it's your time, it's your time\\n Lord\\n Endooooow... Endow me\\n Anybody need God to endow them\\n tonight, you ought to lift your hands and say\\n Lord lord lord lord\\n You will live, Endoooooow\\n Endow me... Sick of the enemy coming in\\n and out of my life telling me what I can't do\\n Lord\\n Endow me... Do you believe God will do it,\\n do you believe God will do it, do you believe God will?\\n Lord lord lord lord... Who wants God to endow?\\n Endow me\\n {Repeats with ad lib}\""
      ]
     },
     "execution_count": 646,
     "metadata": {},
     "output_type": "execute_result"
    }
   ],
   "source": [
    "## Observe an example of unique groupings \n",
    "# Sad Christmas/Religious Song\n",
    "lyrics_combined['lyrics'][(lyrics_combined['emotion'] == 'sadness') & (lyrics_combined['dominant_topic_name'] == 'Christmas & Religious')].iloc[0]"
   ]
  },
  {
   "cell_type": "code",
   "execution_count": 20,
   "id": "b47e8142-70aa-447a-ac99-b768ca637d80",
   "metadata": {},
   "outputs": [
    {
     "data": {
      "text/plain": [
       "name                                                            Endow Me\n",
       "album_name                                                           NaN\n",
       "artists                                              \"Le'Andria Johnson\"\n",
       "lyrics                 Lord\\n Endow me\\n Lord lord lord lord lord\\n E...\n",
       "lyrics_length                                                       1030\n",
       "emotion                                                          sadness\n",
       "lyric_tokens           ['lord', 'endow', 'lord', 'lord', 'lord', 'lor...\n",
       "Topic_distr_0                                                    0.04561\n",
       "Topic_distr_1                                                   0.321435\n",
       "Topic_distr_2                                                   0.045645\n",
       "Topic_distr_3                                                   0.045608\n",
       "Topic_distr_4                                                   0.045609\n",
       "Topic_distr_5                                                   0.045612\n",
       "Topic_distr_6                                                   0.450561\n",
       "dominant_topic                                                         6\n",
       "dominant_topic_name                                Christmas & Religious\n",
       "Name: 1255, dtype: object"
      ]
     },
     "execution_count": 20,
     "metadata": {},
     "output_type": "execute_result"
    }
   ],
   "source": [
    "lyrics_combined[(lyrics_combined['emotion'] == 'sadness') & (lyrics_combined['dominant_topic_name'] == 'Christmas & Religious')].iloc[0]"
   ]
  },
  {
   "cell_type": "code",
   "execution_count": 650,
   "id": "20ecbf6b-8651-46e5-b7a0-0483389befb8",
   "metadata": {},
   "outputs": [
    {
     "data": {
      "text/plain": [
       "\"No, I don't care for your metal looks\\n I don't care for your bleeps and bloops\\n Go away, why don't you just shut up?\\n Your crazy smile, digital dial\\n I hate your every bolt and screw\\n I don't like anything about you\\n You're a dirty robot, I'm a dirty robot\\n You're a dirty robot, I'm a dirty robot\\n You're a dirty robot, I'm a dirty robot\\n You're a dirty robot, I'm a dirty robot\\n Yes, everyday I've been thinking 'bout you\\n In my dreams, we've been making out\\n Isn't that what human life's about? No\\n My circuitry comes off the scale\\n Baby, got the hots for you\\n My index sent a shock right through\\n My body needs you, my body needs you\\n You're a dirty robot, I'm a dirty robot\\n You're a dirty robot, I'm a dirty robot\\n You're a dirty robot, I'm a dirty robot\\n You're a dirty robot, I'm a dirty robot\\n You're a dirty robot, I'm a dirty robot\\n You're a dirty robot, I'm a dirty robot\\n You're a dirty robot, I'm a dirty robot\\n You're a dirty robot, you're a dirty robot\\n I'm a dirty robot, I'm a dirty robot\\n I'm a dirty robot, I'm a dirty robot\\n I'm a dirty robot, I'm a dirty robot\\n I'm a dirty robot, I'm a dirty robot\\n I'm a dirty robot\\n \""
      ]
     },
     "execution_count": 650,
     "metadata": {},
     "output_type": "execute_result"
    }
   ],
   "source": [
    "# Disgust - Funk, Rock & Groove \n",
    "lyrics_combined['lyrics'][(lyrics_combined['emotion'] == 'disgust') & (lyrics_combined['dominant_topic_name'] == 'Funk, Rock & Groove')].iloc[0]"
   ]
  },
  {
   "cell_type": "code",
   "execution_count": 660,
   "id": "61628a9d-7b66-45f1-be9c-9fde434a199f",
   "metadata": {},
   "outputs": [
    {
     "data": {
      "text/plain": [
       "'What now?\\n ♪\\n What now?\\n What now?\\n '"
      ]
     },
     "execution_count": 660,
     "metadata": {},
     "output_type": "execute_result"
    }
   ],
   "source": [
    "# Surprise - Philosophical & Existential\n",
    "lyrics_combined['lyrics'][(lyrics_combined['emotion'] == 'surprise') & (lyrics_combined['dominant_topic_name'] == 'Philosophical & Existential')].iloc[0]"
   ]
  },
  {
   "cell_type": "markdown",
   "id": "671d6abc-180f-42f9-a79a-816ce8982dce",
   "metadata": {},
   "source": [
    "Just mostly instrumental with this beginning so that's why. Song:  What Now by No BS! Brass Band"
   ]
  },
  {
   "cell_type": "code",
   "execution_count": 672,
   "id": "581476de-16ab-435e-9868-490e3d007a9c",
   "metadata": {},
   "outputs": [
    {
     "data": {
      "text/plain": [
       "'Of all the wonders that I yet have heard, it seems to me most strange that men should fear, seeing that death, a necessary end, will come when it will come\\n (Caesar, Julius Caesar)\\n When beggars die, there are no comets seen\\n (Calpurnia, Julius Caesar)\\n Cowards die many times before their death.\\n (Caesar, Julius Caesar)\\n '"
      ]
     },
     "execution_count": 672,
     "metadata": {},
     "output_type": "execute_result"
    }
   ],
   "source": [
    "lyrics_combined['lyrics'][(lyrics_combined['emotion'] == 'fear') & (lyrics_combined['dominant_topic_name'] == 'Winter & Nature-Inspired')].iloc[0]"
   ]
  },
  {
   "cell_type": "markdown",
   "id": "4009b699-2e17-4084-a5a7-8204f565d47c",
   "metadata": {},
   "source": [
    "This seems more philosophical than winter/nature."
   ]
  },
  {
   "cell_type": "code",
   "execution_count": 18,
   "id": "a6ebf434-07f8-4786-b5b4-4f2f09e463b9",
   "metadata": {},
   "outputs": [
    {
     "data": {
      "text/plain": [
       "'My horrendous concoction, defaced and erased\\n A beastly corpus eloquently drained\\n Carbonated and flavored at will\\n Grinded, blended,\\n a milkshake highly recommended\\n Necrotic nutrients decompose\\n Your body is mine for the taking\\n Shot thrice, cranium excavated\\n Delusional amour, your cadaver my shrine\\n Pleasure holes depraved by the relentless thrust of my blade\\n My sweet post-mortal fuck!\\n Vintage of the damned, succulent and frail\\n An eternal silence by canine excrement\\n An eternal silence by canine excrement\\n Yours is mine for the raping\\n Shot thrice, exsanguinated\\n Delusional amour, your cadaver my shrine\\n Pleasure holes depraved by the relentless thrust of my blade\\n Delicious gory banquet,\\n Seved up to fill my needs\\n My appetite temporarily pleased\\n Delicious gory banquet,\\n Seved up to fill my needs\\n My appetite temporarily pleased, bleed\\n Cadaverous banquet, vintage of the dead\\n Chasing my meat through her urethra,\\n mashed up to fulfill my needs\\n My perversion subdues indeed\\n Thrashing and grinding necrotic tissue,\\n your compost becomes my feast\\n A good vintage indeed\\n '"
      ]
     },
     "execution_count": 18,
     "metadata": {},
     "output_type": "execute_result"
    }
   ],
   "source": [
    "# Angry/Disgust christmas song\n",
    "lyrics_combined['lyrics'][(lyrics_combined['emotion'] == 'disgust') & (lyrics_combined['dominant_topic_name'] == 'Christmas & Religious')].iloc[0]"
   ]
  },
  {
   "cell_type": "markdown",
   "id": "a839394d-0d23-4bb3-89e6-24e8f7085f9e",
   "metadata": {},
   "source": [
    "Possible words like 'feast' and 'shrine' maybe religious."
   ]
  },
  {
   "cell_type": "code",
   "execution_count": 28,
   "id": "bacc0540-8be6-47fd-8a4e-1f3ee869a486",
   "metadata": {},
   "outputs": [
    {
     "data": {
      "text/plain": [
       "\"My mind plays tricks on me every time I say something\\n It brings evil voices out of my head, and talks to me vulgar\\n Then suddenly, I started raving\\n Chronic schizophrenia\\n Chronic schizophrenia\\n Chronic schizophrenia\\n Chronic schizophrenia\\n But when I have bad luck, I'll always hear evil voices walking to me vulgar\\n Everywhere I go riding on the CTA bus, all I hear is vulgarity\\n I hear no music at all\\n Chronic schizophrenia\\n Chronic schizophrenia\\n Chronic schizophrenia\\n Chronic schizophrenia\\n Riding in the streets with no music sucks\\n Everywhere I go, I cruise the streets being called an asshole\\n Plus I'm being ridiculed and called a bum and called stupid\\n Chronic schizophrenia\\n Chronic schizophrenia\\n Chronic schizophrenia\\n Chronic schizophrenia\\n Pontiac, we build excitement\""
      ]
     },
     "execution_count": 28,
     "metadata": {},
     "output_type": "execute_result"
    }
   ],
   "source": [
    "lyrics_combined['lyrics'][(lyrics_combined['emotion'] == 'anger') & (lyrics_combined['dominant_topic_name'] == 'Christmas & Religious')].iloc[0]"
   ]
  },
  {
   "cell_type": "code",
   "execution_count": 30,
   "id": "cd6e3953-03e5-428b-b394-4fb041292202",
   "metadata": {},
   "outputs": [
    {
     "data": {
      "text/plain": [
       "name                                               Chronic Schizophrenia\n",
       "album_name                                                     Rush Hour\n",
       "artists                                                    Wesley Willis\n",
       "lyrics                 My mind plays tricks on me every time I say so...\n",
       "lyrics_length                                                        786\n",
       "emotion                                                            anger\n",
       "lyric_tokens           ['mind', 'play', 'trick', 'everi', 'time', 'sa...\n",
       "Topic_distr_0                                                   0.039306\n",
       "Topic_distr_1                                                   0.312205\n",
       "Topic_distr_2                                                   0.039302\n",
       "Topic_distr_3                                                   0.039302\n",
       "Topic_distr_4                                                   0.039302\n",
       "Topic_distr_5                                                   0.039309\n",
       "Topic_distr_6                                                   0.491269\n",
       "dominant_topic                                                         6\n",
       "dominant_topic_name                                Christmas & Religious\n",
       "Name: 6512, dtype: object"
      ]
     },
     "execution_count": 30,
     "metadata": {},
     "output_type": "execute_result"
    }
   ],
   "source": [
    "lyrics_combined[(lyrics_combined['emotion'] == 'anger') & (lyrics_combined['dominant_topic_name'] == 'Christmas & Religious')].iloc[0]"
   ]
  },
  {
   "cell_type": "code",
   "execution_count": 93,
   "id": "ff529189-053c-4f64-996a-d9e4d5b5d5f8",
   "metadata": {},
   "outputs": [
    {
     "data": {
      "image/png": "[encoded data removed]",
      "text/plain": [
       "<Figure size 1000x600 with 2 Axes>"
      ]
     },
     "metadata": {},
     "output_type": "display_data"
    }
   ],
   "source": [
    "## Plot the distribution of topic by emotion \n",
    "\n",
    "# Group by emotion and dominant topic, count the occurrences, and unstack the results (if empty fill with 0)\n",
    "emotion_topic_counts = lyrics_combined.groupby('emotion')['dominant_topic_name'].value_counts().unstack(fill_value=0)\n",
    "\n",
    "# Define a custom color map\n",
    "custom_cmap = sns.color_palette(\"light:#00bee4\", as_cmap=True)\n",
    "\n",
    "# Plot the heatmap\n",
    "plt.figure(figsize=(10, 6))\n",
    "sns.heatmap(emotion_topic_counts, annot=True, cmap=custom_cmap, linewidths=0.5, cbar_kws={'label': 'Number of Songs'})\n",
    "\n",
    "# Add labels\n",
    "plt.xlabel('Topic')\n",
    "plt.ylabel('Emotion')\n",
    "plt.title('Distribution of Topics within each Emotion')\n",
    "\n",
    "# Save as an image\n",
    "plt.savefig('topic_emotion_heatmap.png', \n",
    "            dpi=300,              # High resolution\n",
    "            bbox_inches='tight',  # Removes extra whitespace\n",
    "            pad_inches=0.1)       # Adds small padding\n",
    "\n",
    "# Display it\n",
    "plt.show()"
   ]
  },
  {
   "cell_type": "markdown",
   "id": "5e3d8c6d-6a3f-4856-a464-465cbbd57ffa",
   "metadata": {},
   "source": [
    "## 4. Song Recommendation System"
   ]
  },
  {
   "cell_type": "markdown",
   "id": "53f5ae00-047a-4b0b-8087-fd332331343a",
   "metadata": {},
   "source": [
    "### 4.1 Complete Song Recommendation Dataset"
   ]
  },
  {
   "cell_type": "code",
   "execution_count": 702,
   "id": "83d5eb80-4ced-4a7f-b2ab-f8ad552b4a55",
   "metadata": {},
   "outputs": [
    {
     "data": {
      "text/html": [
       "<div>\n",
       "<style scoped>\n",
       "    .dataframe tbody tr th:only-of-type {\n",
       "        vertical-align: middle;\n",
       "    }\n",
       "\n",
       "    .dataframe tbody tr th {\n",
       "        vertical-align: top;\n",
       "    }\n",
       "\n",
       "    .dataframe thead th {\n",
       "        text-align: right;\n",
       "    }\n",
       "</style>\n",
       "<table border=\"1\" class=\"dataframe\">\n",
       "  <thead>\n",
       "    <tr style=\"text-align: right;\">\n",
       "      <th></th>\n",
       "      <th>name</th>\n",
       "      <th>album_name</th>\n",
       "      <th>artists</th>\n",
       "      <th>lyrics</th>\n",
       "      <th>lyrics_length</th>\n",
       "      <th>emotion</th>\n",
       "      <th>lyric_tokens</th>\n",
       "      <th>Topic_distr_0</th>\n",
       "      <th>Topic_distr_1</th>\n",
       "      <th>Topic_distr_2</th>\n",
       "      <th>Topic_distr_3</th>\n",
       "      <th>Topic_distr_4</th>\n",
       "      <th>Topic_distr_5</th>\n",
       "      <th>Topic_distr_6</th>\n",
       "      <th>dominant_topic</th>\n",
       "      <th>dominant_topic_name</th>\n",
       "    </tr>\n",
       "  </thead>\n",
       "  <tbody>\n",
       "    <tr>\n",
       "      <th>0</th>\n",
       "      <td>They Want War</td>\n",
       "      <td>NaN</td>\n",
       "      <td>U.D.O.</td>\n",
       "      <td>They are young and they're kids\\n And believe ...</td>\n",
       "      <td>1285</td>\n",
       "      <td>disgust</td>\n",
       "      <td>[young, kid, believ, see, told, walk, away, op...</td>\n",
       "      <td>0.022741</td>\n",
       "      <td>0.863549</td>\n",
       "      <td>0.022740</td>\n",
       "      <td>0.022741</td>\n",
       "      <td>0.022741</td>\n",
       "      <td>0.022743</td>\n",
       "      <td>0.022744</td>\n",
       "      <td>1</td>\n",
       "      <td>Love &amp; Relationships</td>\n",
       "    </tr>\n",
       "    <tr>\n",
       "      <th>1</th>\n",
       "      <td>Cry</td>\n",
       "      <td>Asphodel</td>\n",
       "      <td>The Machine In The Garden</td>\n",
       "      <td>I cry for the things you know\\n the things tha...</td>\n",
       "      <td>285</td>\n",
       "      <td>sadness</td>\n",
       "      <td>[cri, must, say, fli, soul, air, cri, see, pla...</td>\n",
       "      <td>0.035486</td>\n",
       "      <td>0.787082</td>\n",
       "      <td>0.035483</td>\n",
       "      <td>0.035490</td>\n",
       "      <td>0.035484</td>\n",
       "      <td>0.035489</td>\n",
       "      <td>0.035488</td>\n",
       "      <td>1</td>\n",
       "      <td>Love &amp; Relationships</td>\n",
       "    </tr>\n",
       "  </tbody>\n",
       "</table>\n",
       "</div>"
      ],
      "text/plain": [
       "            name album_name                    artists  \\\n",
       "0  They Want War        NaN                     U.D.O.   \n",
       "1            Cry   Asphodel  The Machine In The Garden   \n",
       "\n",
       "                                              lyrics  lyrics_length  emotion  \\\n",
       "0  They are young and they're kids\\n And believe ...           1285  disgust   \n",
       "1  I cry for the things you know\\n the things tha...            285  sadness   \n",
       "\n",
       "                                        lyric_tokens  Topic_distr_0  \\\n",
       "0  [young, kid, believ, see, told, walk, away, op...       0.022741   \n",
       "1  [cri, must, say, fli, soul, air, cri, see, pla...       0.035486   \n",
       "\n",
       "   Topic_distr_1  Topic_distr_2  Topic_distr_3  Topic_distr_4  Topic_distr_5  \\\n",
       "0       0.863549       0.022740       0.022741       0.022741       0.022743   \n",
       "1       0.787082       0.035483       0.035490       0.035484       0.035489   \n",
       "\n",
       "   Topic_distr_6  dominant_topic   dominant_topic_name  \n",
       "0       0.022744               1  Love & Relationships  \n",
       "1       0.035488               1  Love & Relationships  "
      ]
     },
     "execution_count": 702,
     "metadata": {},
     "output_type": "execute_result"
    }
   ],
   "source": [
    "lyrics_combined.head(2)"
   ]
  },
  {
   "cell_type": "code",
   "execution_count": 704,
   "id": "14df31c3-d22e-44ed-aef5-cd4b517168f0",
   "metadata": {},
   "outputs": [],
   "source": [
    "## Save to .csv\n",
    "lyrics_combined.to_csv('Data/lyrics_complete.csv', index=False)"
   ]
  },
  {
   "cell_type": "code",
   "execution_count": 782,
   "id": "d9f40fc6-96e8-4b0c-a680-209f47bb1901",
   "metadata": {},
   "outputs": [
    {
     "data": {
      "text/html": [
       "<div>\n",
       "<style scoped>\n",
       "    .dataframe tbody tr th:only-of-type {\n",
       "        vertical-align: middle;\n",
       "    }\n",
       "\n",
       "    .dataframe tbody tr th {\n",
       "        vertical-align: top;\n",
       "    }\n",
       "\n",
       "    .dataframe thead th {\n",
       "        text-align: right;\n",
       "    }\n",
       "</style>\n",
       "<table border=\"1\" class=\"dataframe\">\n",
       "  <thead>\n",
       "    <tr style=\"text-align: right;\">\n",
       "      <th></th>\n",
       "      <th>name</th>\n",
       "      <th>artists</th>\n",
       "      <th>emotion</th>\n",
       "      <th>Topic_distr_0</th>\n",
       "      <th>Topic_distr_1</th>\n",
       "      <th>Topic_distr_2</th>\n",
       "      <th>Topic_distr_3</th>\n",
       "      <th>Topic_distr_4</th>\n",
       "      <th>Topic_distr_5</th>\n",
       "      <th>Topic_distr_6</th>\n",
       "    </tr>\n",
       "  </thead>\n",
       "  <tbody>\n",
       "    <tr>\n",
       "      <th>0</th>\n",
       "      <td>They Want War</td>\n",
       "      <td>U.D.O.</td>\n",
       "      <td>disgust</td>\n",
       "      <td>0.022741</td>\n",
       "      <td>0.863549</td>\n",
       "      <td>0.022740</td>\n",
       "      <td>0.022741</td>\n",
       "      <td>0.022741</td>\n",
       "      <td>0.022743</td>\n",
       "      <td>0.022744</td>\n",
       "    </tr>\n",
       "    <tr>\n",
       "      <th>1</th>\n",
       "      <td>Cry</td>\n",
       "      <td>The Machine In The Garden</td>\n",
       "      <td>sadness</td>\n",
       "      <td>0.035486</td>\n",
       "      <td>0.787082</td>\n",
       "      <td>0.035483</td>\n",
       "      <td>0.035490</td>\n",
       "      <td>0.035484</td>\n",
       "      <td>0.035489</td>\n",
       "      <td>0.035488</td>\n",
       "    </tr>\n",
       "  </tbody>\n",
       "</table>\n",
       "</div>"
      ],
      "text/plain": [
       "            name                    artists  emotion  Topic_distr_0  \\\n",
       "0  They Want War                     U.D.O.  disgust       0.022741   \n",
       "1            Cry  The Machine In The Garden  sadness       0.035486   \n",
       "\n",
       "   Topic_distr_1  Topic_distr_2  Topic_distr_3  Topic_distr_4  Topic_distr_5  \\\n",
       "0       0.863549       0.022740       0.022741       0.022741       0.022743   \n",
       "1       0.787082       0.035483       0.035490       0.035484       0.035489   \n",
       "\n",
       "   Topic_distr_6  \n",
       "0       0.022744  \n",
       "1       0.035488  "
      ]
     },
     "execution_count": 782,
     "metadata": {},
     "output_type": "execute_result"
    }
   ],
   "source": [
    "## Create a dataframe with only the columns needed for song recommendation\n",
    "\n",
    "# Create a list of needed columns\n",
    "cols_to_keep = ['name', 'artists', 'emotion', 'Topic_distr_0', 'Topic_distr_1', \n",
    "                'Topic_distr_2', 'Topic_distr_3', 'Topic_distr_4', 'Topic_distr_5', \n",
    "                'Topic_distr_6']\n",
    "\n",
    "# Create a copy of the df and filter it\n",
    "song_rec_df = lyrics_combined[cols_to_keep].copy()\n",
    "song_rec_df.head(2)"
   ]
  },
  {
   "cell_type": "code",
   "execution_count": 784,
   "id": "fdbb7040-1abe-4ef6-8009-722e427627cb",
   "metadata": {},
   "outputs": [],
   "source": [
    "## Save to .csv\n",
    "song_rec_df.to_csv('Data/song_recommendation.csv', index=False)"
   ]
  },
  {
   "cell_type": "markdown",
   "id": "ba0cac93-c0f7-4c72-86ee-6fda3b9f4216",
   "metadata": {},
   "source": [
    "Now, using this complete dataset, I will build a song recommendation system using the emotion and topic distribution detected from the user's prompt to find the most similar songs."
   ]
  },
  {
   "cell_type": "markdown",
   "id": "4344090f-439a-4f4e-9b76-7beda5ad0b8e",
   "metadata": {},
   "source": [
    "### 4.2 Key Functions"
   ]
  },
  {
   "cell_type": "markdown",
   "id": "30be81a9-39c5-4859-a95c-30111645285a",
   "metadata": {},
   "source": [
    "Here are the key functions used for building the song recommendation app."
   ]
  },
  {
   "cell_type": "code",
   "execution_count": 52,
   "id": "602518bb-2785-44e4-b09c-cdffa14c7f05",
   "metadata": {},
   "outputs": [
    {
     "data": {
      "text/html": [
       "<div>\n",
       "<style scoped>\n",
       "    .dataframe tbody tr th:only-of-type {\n",
       "        vertical-align: middle;\n",
       "    }\n",
       "\n",
       "    .dataframe tbody tr th {\n",
       "        vertical-align: top;\n",
       "    }\n",
       "\n",
       "    .dataframe thead th {\n",
       "        text-align: right;\n",
       "    }\n",
       "</style>\n",
       "<table border=\"1\" class=\"dataframe\">\n",
       "  <thead>\n",
       "    <tr style=\"text-align: right;\">\n",
       "      <th></th>\n",
       "      <th>name</th>\n",
       "      <th>artists</th>\n",
       "      <th>emotion</th>\n",
       "      <th>Topic_distr_0</th>\n",
       "      <th>Topic_distr_1</th>\n",
       "      <th>Topic_distr_2</th>\n",
       "      <th>Topic_distr_3</th>\n",
       "      <th>Topic_distr_4</th>\n",
       "      <th>Topic_distr_5</th>\n",
       "      <th>Topic_distr_6</th>\n",
       "    </tr>\n",
       "  </thead>\n",
       "  <tbody>\n",
       "    <tr>\n",
       "      <th>0</th>\n",
       "      <td>They Want War</td>\n",
       "      <td>U.D.O.</td>\n",
       "      <td>disgust</td>\n",
       "      <td>0.022741</td>\n",
       "      <td>0.863549</td>\n",
       "      <td>0.022740</td>\n",
       "      <td>0.022741</td>\n",
       "      <td>0.022741</td>\n",
       "      <td>0.022743</td>\n",
       "      <td>0.022744</td>\n",
       "    </tr>\n",
       "    <tr>\n",
       "      <th>1</th>\n",
       "      <td>Cry</td>\n",
       "      <td>The Machine In The Garden</td>\n",
       "      <td>sadness</td>\n",
       "      <td>0.035486</td>\n",
       "      <td>0.787082</td>\n",
       "      <td>0.035483</td>\n",
       "      <td>0.035490</td>\n",
       "      <td>0.035484</td>\n",
       "      <td>0.035489</td>\n",
       "      <td>0.035488</td>\n",
       "    </tr>\n",
       "  </tbody>\n",
       "</table>\n",
       "</div>"
      ],
      "text/plain": [
       "            name                    artists  emotion  Topic_distr_0  \\\n",
       "0  They Want War                     U.D.O.  disgust       0.022741   \n",
       "1            Cry  The Machine In The Garden  sadness       0.035486   \n",
       "\n",
       "   Topic_distr_1  Topic_distr_2  Topic_distr_3  Topic_distr_4  Topic_distr_5  \\\n",
       "0       0.863549       0.022740       0.022741       0.022741       0.022743   \n",
       "1       0.787082       0.035483       0.035490       0.035484       0.035489   \n",
       "\n",
       "   Topic_distr_6  \n",
       "0       0.022744  \n",
       "1       0.035488  "
      ]
     },
     "execution_count": 52,
     "metadata": {},
     "output_type": "execute_result"
    }
   ],
   "source": [
    "## Load the dataset used for song recommendation\n",
    "song_rec_df = pd.read_csv('Data/song_recommendation.csv')\n",
    "song_rec_df.head(2)"
   ]
  },
  {
   "cell_type": "code",
   "execution_count": 711,
   "id": "03ae5810-b343-4363-aca1-da481e6ddbe8",
   "metadata": {},
   "outputs": [
    {
     "name": "stdout",
     "output_type": "stream",
     "text": [
      "WARNING:tensorflow:From C:\\Users\\isabe\\anaconda3\\Lib\\site-packages\\tf_keras\\src\\losses.py:2976: The name tf.losses.sparse_softmax_cross_entropy is deprecated. Please use tf.compat.v1.losses.sparse_softmax_cross_entropy instead.\n",
      "\n"
     ]
    }
   ],
   "source": [
    "## Create a function to detect the prompt's emotion\n",
    "\n",
    "# Load the BERT model chosen to detect the emotion\n",
    "michelle = pipeline(task=\"text-classification\", model=\"michellejieli/emotion_text_classifier\", top_k=1) # top_k=1 to get only the top emotion\n",
    "\n",
    "def detect_prompt_emotion(prompt):\n",
    "    # Perform quick, basic cleaning on the prompt\n",
    "    prompt = prompt.strip().lower().replace('\\n', '')\n",
    "\n",
    "    # Predict the emotion\n",
    "    try:\n",
    "        emotion = michelle(prompt)\n",
    "    except RuntimeError: # Occurs if the length of the prompt exceeds limit (though unlikely)\n",
    "        print(\"Sorry! That was too long. Could you try shortening your entry?\")\n",
    "\n",
    "    # Return just the label\n",
    "    return emotion[0][0]['label']"
   ]
  },
  {
   "cell_type": "code",
   "execution_count": 719,
   "id": "8d1d5f29-6d23-4993-ad2d-cfbec0189291",
   "metadata": {},
   "outputs": [],
   "source": [
    "## Use a user prompt\n",
    "\n",
    "prompt = \"My birthday was today. I had a lovely chocolate cake.\""
   ]
  },
  {
   "cell_type": "code",
   "execution_count": 721,
   "id": "92382d14-cf6b-4d5d-91b0-a9b5f090f430",
   "metadata": {},
   "outputs": [
    {
     "data": {
      "text/plain": [
       "'joy'"
      ]
     },
     "execution_count": 721,
     "metadata": {},
     "output_type": "execute_result"
    }
   ],
   "source": [
    "detect_prompt_emotion(prompt)"
   ]
  },
  {
   "cell_type": "code",
   "execution_count": 724,
   "id": "a1dadc83-8de0-46cb-b11b-da4f219b4848",
   "metadata": {},
   "outputs": [],
   "source": [
    "## Create a function to clean the user prompt using the same method as for the other lyrics\n",
    "\n",
    "# Initialise a stemmer to get to the root word\n",
    "stemmer = SnowballStemmer(language='english')\n",
    "## Create a list of stopwords and punctuation\n",
    "remove = stopwords.words('english')\n",
    "remove.extend(string.punctuation) # Extend the list with punctuation\n",
    "\n",
    "# Extend the remove list with common contractions\n",
    "contractions = [\"they'r\", \"they'v\", \"can't\", \"won't\", \"don't\", \"i'm\", \"it's\", \"i'll\", \"ain't\", \"can't\", \"won't\", \"don't\", \"i'm\", \"it's\", \"he's\", \"she's\"]\n",
    "remove.extend(contractions)\n",
    "\n",
    "## Initalise the tokeniser\n",
    "tokeniser = WhitespaceTokenizer() # Extracts the tokens without whitespaces, new line and tabs \n",
    "\n",
    "def preprocess_prompt(prompt):\n",
    "    \"\"\" Cleans up a user prompt for retrieving the topic distribution\n",
    "\n",
    "    Parameters\n",
    "    ----------\n",
    "    prompt : string\n",
    "        A text string that you want to clean\n",
    "\n",
    "    Returns\n",
    "    -------\n",
    "    The same string but cleaned up, stemmed and tokenised\n",
    "    \"\"\"  \n",
    "    # Apply pre-token cleaning\n",
    "    prompt = prompt.lower().strip()\n",
    "    \n",
    "    # Tokenise the prompt using the whitespace tokeniser\n",
    "    prompt_tokens = tokeniser.tokenize(prompt)\n",
    "\n",
    "    # Apply post-token cleaning\n",
    "    prompt_tokens = [word.strip(string.punctuation) for word in prompt_tokens]\n",
    "    prompt_tokens = [word for word in prompt_tokens if word not in remove] # Remove stopwords and punctuation\n",
    "\n",
    "    \n",
    "    prompt_tokens_clean = []\n",
    "    for word in prompt_tokens:\n",
    "        try:\n",
    "            word = str(w2n.word_to_num(word)) # Convert numbers which are written as text e.g. ten -> 10\n",
    "        except:\n",
    "            word = word\n",
    "        prompt_tokens_clean.append(word)\n",
    "        \n",
    "    prompt_tokens_clean = [re.sub(r'\\d+', '', word) for word in prompt_tokens_clean] # Remove numbers\n",
    "    \n",
    "    prompt_tokens_clean = [stemmer.stem(word) for word in prompt_tokens_clean] # Apply the stemmer\n",
    "    prompt_tokens_clean = [word for word in prompt_tokens_clean if word not in remove] # In case some words became stopwords\n",
    "\n",
    "    return prompt_tokens_clean"
   ]
  },
  {
   "cell_type": "code",
   "execution_count": 726,
   "id": "7dbdc2c8-8ec9-4037-b823-d61fb52ebe45",
   "metadata": {},
   "outputs": [
    {
     "data": {
      "text/plain": [
       "['birthday', 'today', 'love', 'chocol', 'cake']"
      ]
     },
     "execution_count": 726,
     "metadata": {},
     "output_type": "execute_result"
    }
   ],
   "source": [
    "preprocess_prompt(prompt)"
   ]
  },
  {
   "cell_type": "code",
   "execution_count": 748,
   "id": "20c66cbf-c132-4a9c-99fe-4cba593cd16f",
   "metadata": {},
   "outputs": [],
   "source": [
    "## Save the created dictionary and LDA model from topic modelling\n",
    "\n",
    "# Save the dictionary\n",
    "dictionary.save('gensim_dictionary.dict')\n",
    "\n",
    "# Save the LDA model\n",
    "lda_model_7.save('gensim_lda_model.model')"
   ]
  },
  {
   "cell_type": "markdown",
   "id": "736c9613-9b63-4888-99ab-267981da0dd0",
   "metadata": {},
   "source": [
    "When saving the model file, it creates:\n",
    "- Model file (.model): This is the main file containing the trained model, including all the necessary parameters and configurations.\n",
    "- *.state file: This stores the state of the model's parameters during training.\n",
    "- *.id2word file: This contains the dictionary mapping of word IDs to words.\n",
    "- *.lda file: This stores additional information about the LDA model."
   ]
  },
  {
   "cell_type": "code",
   "execution_count": null,
   "id": "cd108a68-8dd0-423b-88c8-727db64ddf4f",
   "metadata": {},
   "outputs": [],
   "source": [
    "## To load the dictionary and LDA model\n",
    "\n",
    "# Load the saved dictionary\n",
    "# from gensim.corpora import Dictionary\n",
    "# dictionary = Dictionary.load('gensim_dictionary.dict')\n",
    "\n",
    "# # Load the saved LDA model\n",
    "# from gensim.models import LdaMulticore\n",
    "# lda_model = LdaMulticore.load('gensim_lda_model.model')\n"
   ]
  },
  {
   "cell_type": "code",
   "execution_count": 728,
   "id": "50d3271b-1b8c-48b2-a8ff-41d7c4d8ee49",
   "metadata": {},
   "outputs": [
    {
     "data": {
      "text/plain": [
       "<gensim.corpora.dictionary.Dictionary at 0x18b8a97c390>"
      ]
     },
     "execution_count": 728,
     "metadata": {},
     "output_type": "execute_result"
    }
   ],
   "source": [
    "dictionary"
   ]
  },
  {
   "cell_type": "code",
   "execution_count": 730,
   "id": "50adde65-4460-4bcf-a5e4-710dbc067d85",
   "metadata": {},
   "outputs": [
    {
     "data": {
      "text/plain": [
       "<gensim.models.ldamulticore.LdaMulticore at 0x18bc3eb7b90>"
      ]
     },
     "execution_count": 730,
     "metadata": {},
     "output_type": "execute_result"
    }
   ],
   "source": [
    "lda_model_7"
   ]
  },
  {
   "cell_type": "code",
   "execution_count": 751,
   "id": "d31be3eb-9721-49c0-b874-81b557d20b01",
   "metadata": {},
   "outputs": [],
   "source": [
    "## Create a function to retrieve the topic distribution of the user prompt.\n",
    "\n",
    "def get_topic_distribution(user_prompt): #or include dictionary and lda in parameters too\n",
    "    # Preprocess the user prompt\n",
    "    tokens = preprocess_prompt(user_prompt)\n",
    "    \n",
    "    # Convert the token to  a Bag of Words (BoW) using the dictionary\n",
    "    bow = dictionary.doc2bow(tokens)\n",
    "    \n",
    "    # Get the topic distribution (inference on new text)\n",
    "    topic_distribution = lda_model_7.get_document_topics(bow)\n",
    "    \n",
    "    return topic_distribution "
   ]
  },
  {
   "cell_type": "code",
   "execution_count": 753,
   "id": "57b37169-45ac-4365-b91e-a146cbc171a7",
   "metadata": {},
   "outputs": [
    {
     "data": {
      "text/plain": [
       "[(0, 0.023856858),\n",
       " (1, 0.85681295),\n",
       " (2, 0.023855083),\n",
       " (3, 0.023897886),\n",
       " (4, 0.023857182),\n",
       " (5, 0.023861755),\n",
       " (6, 0.023858272)]"
      ]
     },
     "execution_count": 753,
     "metadata": {},
     "output_type": "execute_result"
    }
   ],
   "source": [
    "get_topic_distribution(prompt)"
   ]
  },
  {
   "cell_type": "code",
   "execution_count": 755,
   "id": "cd217449-084c-4333-9b1a-0643a742397b",
   "metadata": {},
   "outputs": [],
   "source": [
    "## Final user prompt function\n",
    "def process_user_prompt(prompt):\n",
    "    # Detect emotion from the user prompt\n",
    "    emotion = detect_prompt_emotion(prompt)\n",
    "    \n",
    "    # Get the topic distribution of the user prompt\n",
    "    topic_distribution = get_topic_distribution(prompt)\n",
    "    \n",
    "    return emotion, topic_distribution"
   ]
  },
  {
   "cell_type": "code",
   "execution_count": 757,
   "id": "4cbfb1a2-eaa8-4432-9e01-3c6dec9d8461",
   "metadata": {},
   "outputs": [
    {
     "data": {
      "text/plain": [
       "('joy',\n",
       " [(0, 0.02385686),\n",
       "  (1, 0.8568129),\n",
       "  (2, 0.023855085),\n",
       "  (3, 0.023898),\n",
       "  (4, 0.023857184),\n",
       "  (5, 0.023861757),\n",
       "  (6, 0.023858273)])"
      ]
     },
     "execution_count": 757,
     "metadata": {},
     "output_type": "execute_result"
    }
   ],
   "source": [
    "process_user_prompt(prompt)"
   ]
  },
  {
   "cell_type": "code",
   "execution_count": 862,
   "id": "f299fd2f-6cc6-4153-9c22-676d799b514a",
   "metadata": {},
   "outputs": [],
   "source": [
    "## Create a function which returns the matching emotion to the user\n",
    "\n",
    "def match_emotion(user_emotion, song_data):\n",
    "    # Filter the dataframe for only songs with the same emotion\n",
    "    song_data_filtered = song_data[song_data['emotion'] == user_emotion].copy()\n",
    "    return song_data_filtered\n",
    "    "
   ]
  },
  {
   "cell_type": "code",
   "execution_count": 864,
   "id": "9e578ea7-1ef7-461b-aedb-b95656792c13",
   "metadata": {},
   "outputs": [
    {
     "data": {
      "text/html": [
       "<div>\n",
       "<style scoped>\n",
       "    .dataframe tbody tr th:only-of-type {\n",
       "        vertical-align: middle;\n",
       "    }\n",
       "\n",
       "    .dataframe tbody tr th {\n",
       "        vertical-align: top;\n",
       "    }\n",
       "\n",
       "    .dataframe thead th {\n",
       "        text-align: right;\n",
       "    }\n",
       "</style>\n",
       "<table border=\"1\" class=\"dataframe\">\n",
       "  <thead>\n",
       "    <tr style=\"text-align: right;\">\n",
       "      <th></th>\n",
       "      <th>name</th>\n",
       "      <th>artists</th>\n",
       "      <th>emotion</th>\n",
       "      <th>Topic_distr_0</th>\n",
       "      <th>Topic_distr_1</th>\n",
       "      <th>Topic_distr_2</th>\n",
       "      <th>Topic_distr_3</th>\n",
       "      <th>Topic_distr_4</th>\n",
       "      <th>Topic_distr_5</th>\n",
       "      <th>Topic_distr_6</th>\n",
       "    </tr>\n",
       "  </thead>\n",
       "  <tbody>\n",
       "    <tr>\n",
       "      <th>5</th>\n",
       "      <td>Took My Place</td>\n",
       "      <td>Third Day</td>\n",
       "      <td>joy</td>\n",
       "      <td>0.024450</td>\n",
       "      <td>0.853301</td>\n",
       "      <td>0.024448</td>\n",
       "      <td>0.024449</td>\n",
       "      <td>0.024449</td>\n",
       "      <td>0.024452</td>\n",
       "      <td>0.024452</td>\n",
       "    </tr>\n",
       "    <tr>\n",
       "      <th>17</th>\n",
       "      <td>Megumi The Milkyway Above</td>\n",
       "      <td>Connan Mockasin</td>\n",
       "      <td>joy</td>\n",
       "      <td>0.297263</td>\n",
       "      <td>0.589690</td>\n",
       "      <td>0.022607</td>\n",
       "      <td>0.022606</td>\n",
       "      <td>0.022612</td>\n",
       "      <td>0.022613</td>\n",
       "      <td>0.022609</td>\n",
       "    </tr>\n",
       "    <tr>\n",
       "      <th>18</th>\n",
       "      <td>The Grits (featuring 8-Off) (feat. 8-OFF)</td>\n",
       "      <td>Cappadonna, 8-Off</td>\n",
       "      <td>joy</td>\n",
       "      <td>0.013001</td>\n",
       "      <td>0.922309</td>\n",
       "      <td>0.012939</td>\n",
       "      <td>0.012947</td>\n",
       "      <td>0.012933</td>\n",
       "      <td>0.012936</td>\n",
       "      <td>0.012935</td>\n",
       "    </tr>\n",
       "    <tr>\n",
       "      <th>23</th>\n",
       "      <td>To Each His Own</td>\n",
       "      <td>Marty Robbins</td>\n",
       "      <td>joy</td>\n",
       "      <td>0.023913</td>\n",
       "      <td>0.856521</td>\n",
       "      <td>0.023911</td>\n",
       "      <td>0.023912</td>\n",
       "      <td>0.023912</td>\n",
       "      <td>0.023915</td>\n",
       "      <td>0.023914</td>\n",
       "    </tr>\n",
       "    <tr>\n",
       "      <th>24</th>\n",
       "      <td>Freakshow</td>\n",
       "      <td>The Honeydogs</td>\n",
       "      <td>joy</td>\n",
       "      <td>0.025644</td>\n",
       "      <td>0.660143</td>\n",
       "      <td>0.025539</td>\n",
       "      <td>0.025537</td>\n",
       "      <td>0.025569</td>\n",
       "      <td>0.211576</td>\n",
       "      <td>0.025785</td>\n",
       "    </tr>\n",
       "  </tbody>\n",
       "</table>\n",
       "</div>"
      ],
      "text/plain": [
       "                                         name            artists emotion  \\\n",
       "5                               Took My Place          Third Day     joy   \n",
       "17                  Megumi The Milkyway Above    Connan Mockasin     joy   \n",
       "18  The Grits (featuring 8-Off) (feat. 8-OFF)  Cappadonna, 8-Off     joy   \n",
       "23                            To Each His Own      Marty Robbins     joy   \n",
       "24                                  Freakshow      The Honeydogs     joy   \n",
       "\n",
       "    Topic_distr_0  Topic_distr_1  Topic_distr_2  Topic_distr_3  Topic_distr_4  \\\n",
       "5        0.024450       0.853301       0.024448       0.024449       0.024449   \n",
       "17       0.297263       0.589690       0.022607       0.022606       0.022612   \n",
       "18       0.013001       0.922309       0.012939       0.012947       0.012933   \n",
       "23       0.023913       0.856521       0.023911       0.023912       0.023912   \n",
       "24       0.025644       0.660143       0.025539       0.025537       0.025569   \n",
       "\n",
       "    Topic_distr_5  Topic_distr_6  \n",
       "5        0.024452       0.024452  \n",
       "17       0.022613       0.022609  \n",
       "18       0.012936       0.012935  \n",
       "23       0.023915       0.023914  \n",
       "24       0.211576       0.025785  "
      ]
     },
     "execution_count": 864,
     "metadata": {},
     "output_type": "execute_result"
    }
   ],
   "source": [
    "match_emotion('joy', song_rec_df).head()"
   ]
  },
  {
   "cell_type": "markdown",
   "id": "d5957169-6b1d-4bda-914d-499f1d92c62d",
   "metadata": {},
   "source": [
    "**What is Cosine Similarity?**\n",
    "\n",
    "Cosine similarity is a metric used to measure how similar two vectors are, regardless of their magnitude. It calculates the cosine of the angle between two vectors, which gives a measure of how much they point in the same direction.\n",
    "\n",
    "Each song has a vector representing its topic distribution, as well as the user prompt's topic distribution. Therefore, cosine similarity can be calculated between them to show how similar they are, helping to find the most relevant songs.\n",
    "\n",
    "Cosine similarity ranges from -1 to 1:\n",
    "- 1 means the vectors are perfectly similar (point in the same direction).\n",
    "- 0 means there is no similarity (the vectors are orthogonal).\n",
    "- -1 means the vectors are completely dissimilar (point in opposite directions)."
   ]
  },
  {
   "cell_type": "code",
   "execution_count": 796,
   "id": "7ada73eb-8290-4667-b9e4-483f354886e5",
   "metadata": {},
   "outputs": [],
   "source": [
    "## Extract song topic distributions from the dataframe\n",
    "\n",
    "# Extract the columns\n",
    "song_topic_cols = [col for col in song_rec_df.columns if col.startswith('Topic_distr')]\n",
    "\n",
    "# Turn into a numpy array\n",
    "song_topic_array = song_rec_df[song_topic_cols].to_numpy()"
   ]
  },
  {
   "cell_type": "code",
   "execution_count": 798,
   "id": "a2f84c53-34eb-42ff-b032-16ecad314630",
   "metadata": {},
   "outputs": [
    {
     "data": {
      "text/plain": [
       "array([[0.02274148, 0.86354941, 0.02274007, ..., 0.02274079, 0.02274331,\n",
       "        0.02274415],\n",
       "       [0.03548565, 0.78708214, 0.03548254, ..., 0.03548409, 0.0354889 ,\n",
       "        0.03548762],\n",
       "       [0.02453136, 0.85281301, 0.02452932, ..., 0.02453019, 0.02453319,\n",
       "        0.02453323],\n",
       "       ...,\n",
       "       [0.20317757, 0.67337829, 0.0246216 , ..., 0.02462333, 0.0246256 ,\n",
       "        0.02475046],\n",
       "       [0.0353278 , 0.51051074, 0.03538716, ..., 0.03532615, 0.03536985,\n",
       "        0.31249842],\n",
       "       [0.02219329, 0.8667081 , 0.02219088, ..., 0.02232759, 0.02219373,\n",
       "        0.02219251]])"
      ]
     },
     "execution_count": 798,
     "metadata": {},
     "output_type": "execute_result"
    }
   ],
   "source": [
    "song_topic_array"
   ]
  },
  {
   "cell_type": "code",
   "execution_count": 866,
   "id": "edbe2a15-d322-43db-ad65-681d613f68d2",
   "metadata": {},
   "outputs": [],
   "source": [
    "## Create a function to compute cosine similarity between the user's topic distribution and each song's topic distribution\n",
    "\n",
    "def calculate_cosine_similarity(user_topic_dist, song_df):\n",
    "    # Convert user topic distribution to a numpy array\n",
    "    user_topic_array = np.array([x[1] for x in user_topic_dist]) # x[1] gives the actual value rather than topic number e.g., 0.2 (20%)\n",
    "\n",
    "    # Filter the the song dataframe and convert the topic distribution to a numpy array\n",
    "    song_topic_cols = [col for col in song_df.columns if col.startswith('Topic_distr')] # Extract the columns\n",
    "    song_topic_array = song_df[song_topic_cols].to_numpy() # Turn into a numpy array\n",
    "    \n",
    "    # Compute cosine similarity using the user topic array and already exisiting song topic array\n",
    "    similarities = cosine_similarity([user_topic_array], song_topic_array)\n",
    "\n",
    "    # Return the similarity scores with each song \n",
    "    return similarities[0] # Returns a list with length 10,000 for each song"
   ]
  },
  {
   "cell_type": "code",
   "execution_count": 832,
   "id": "3daa8cef-635c-41f8-bb22-d600a16a98b5",
   "metadata": {},
   "outputs": [
    {
     "data": {
      "text/plain": [
       "array([0.99999315, 0.99912346, 0.99999753, ..., 0.96508321, 0.86610843,\n",
       "       0.99998531])"
      ]
     },
     "execution_count": 832,
     "metadata": {},
     "output_type": "execute_result"
    }
   ],
   "source": [
    "calculate_cosine_similarity(get_topic_distribution(prompt), song_rec_df)"
   ]
  },
  {
   "cell_type": "code",
   "execution_count": 908,
   "id": "4c9db289-1e86-477e-a8d8-27d30f0526f4",
   "metadata": {},
   "outputs": [],
   "source": [
    "## Create a final function to recommend top 5 songs based on matching emotion and topic similarity.\n",
    "def recommend_songs(prompt):\n",
    "    # Compute the emotion and topic distribution of the user's prompt\n",
    "    emotion, topic_dist = process_user_prompt(prompt)\n",
    "    print(f\"It looks like you are experiencing {emotion}. Let me see if I can find some recommendations for you!\")\n",
    "    \n",
    "    # Filter the song datasets based on maching emotion\n",
    "    emotion_matched_songs_df = match_emotion(emotion, song_rec_df) # This is where the original dataframe goes into\n",
    "\n",
    "    # Calculate the cosine similarity based on topic distribution for only the emotion matched songs\n",
    "    similarity_scores = calculate_cosine_similarity(topic_dist, emotion_matched_songs_df)\n",
    "\n",
    "    # Add the similarity scores to the dataframe\n",
    "    emotion_matched_songs_df['similarity_score'] = similarity_scores \n",
    "\n",
    "    # Get the top 5 most similar songs\n",
    "    top_5_songs = emotion_matched_songs_df.sort_values(by='similarity_score', ascending=False).head(5).reset_index(drop = True)\n",
    "    \n",
    "    # Clean the dataframe and add a rank\n",
    "    top_5_songs.rename(columns={'name': 'Song Title', 'artists': 'Artists'}, inplace = True)\n",
    "    top_5_songs['Rank'] = top_5_songs.index + 1\n",
    " \n",
    "    # Return the important information\n",
    "    return top_5_songs[['Rank', 'Song Title', 'Artists']]"
   ]
  },
  {
   "cell_type": "code",
   "execution_count": 910,
   "id": "dd39095c-8b9f-4ce6-b9e0-51eac6fcedb2",
   "metadata": {},
   "outputs": [
    {
     "name": "stdout",
     "output_type": "stream",
     "text": [
      "It looks like you are experiencing sadness. Let me see if I can find some recommendations for you!\n"
     ]
    },
    {
     "data": {
      "text/html": [
       "<div>\n",
       "<style scoped>\n",
       "    .dataframe tbody tr th:only-of-type {\n",
       "        vertical-align: middle;\n",
       "    }\n",
       "\n",
       "    .dataframe tbody tr th {\n",
       "        vertical-align: top;\n",
       "    }\n",
       "\n",
       "    .dataframe thead th {\n",
       "        text-align: right;\n",
       "    }\n",
       "</style>\n",
       "<table border=\"1\" class=\"dataframe\">\n",
       "  <thead>\n",
       "    <tr style=\"text-align: right;\">\n",
       "      <th></th>\n",
       "      <th>Rank</th>\n",
       "      <th>Song Title</th>\n",
       "      <th>Artists</th>\n",
       "    </tr>\n",
       "  </thead>\n",
       "  <tbody>\n",
       "    <tr>\n",
       "      <th>0</th>\n",
       "      <td>1</td>\n",
       "      <td>Clones</td>\n",
       "      <td>Chevelle</td>\n",
       "    </tr>\n",
       "    <tr>\n",
       "      <th>1</th>\n",
       "      <td>2</td>\n",
       "      <td>What About The Poor</td>\n",
       "      <td>I-Octane</td>\n",
       "    </tr>\n",
       "    <tr>\n",
       "      <th>2</th>\n",
       "      <td>3</td>\n",
       "      <td>So Far Away</td>\n",
       "      <td>This Romantic Tragedy</td>\n",
       "    </tr>\n",
       "    <tr>\n",
       "      <th>3</th>\n",
       "      <td>4</td>\n",
       "      <td>Memoriam</td>\n",
       "      <td>Eleine</td>\n",
       "    </tr>\n",
       "    <tr>\n",
       "      <th>4</th>\n",
       "      <td>5</td>\n",
       "      <td>Minds Like Minefields</td>\n",
       "      <td>Alkaline Trio</td>\n",
       "    </tr>\n",
       "  </tbody>\n",
       "</table>\n",
       "</div>"
      ],
      "text/plain": [
       "   Rank             Song Title                Artists\n",
       "0     1                 Clones               Chevelle\n",
       "1     2    What About The Poor               I-Octane\n",
       "2     3            So Far Away  This Romantic Tragedy\n",
       "3     4               Memoriam                 Eleine\n",
       "4     5  Minds Like Minefields          Alkaline Trio"
      ]
     },
     "execution_count": 910,
     "metadata": {},
     "output_type": "execute_result"
    }
   ],
   "source": [
    "prompt = \"God I'm not the biggest fan of exam prep.\"\n",
    "\n",
    "recommend_songs(prompt)"
   ]
  },
  {
   "cell_type": "markdown",
   "id": "f114cf57-7b79-4ae8-bb9c-ed90ad821502",
   "metadata": {},
   "source": [
    "This has been created into a Streamlit app using a Python script which can be found on this GitHub."
   ]
  }
 ],
 "metadata": {
  "kernelspec": {
   "display_name": "Python 3 (ipykernel)",
   "language": "python",
   "name": "python3"
  },
  "language_info": {
   "codemirror_mode": {
    "name": "ipython",
    "version": 3
   },
   "file_extension": ".py",
   "mimetype": "text/x-python",
   "name": "python",
   "nbconvert_exporter": "python",
   "pygments_lexer": "ipython3",
   "version": "3.11.5"
  }
 },
 "nbformat": 4,
 "nbformat_minor": 5
}
